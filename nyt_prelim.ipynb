{
 "cells": [
  {
   "cell_type": "code",
   "execution_count": 1,
   "id": "a51129b0-5fe8-4e7a-b856-d825a3b36a36",
   "metadata": {},
   "outputs": [],
   "source": [
    "import numpy as np\n",
    "import pandas as pd\n",
    "import requests"
   ]
  },
  {
   "cell_type": "markdown",
   "id": "ebde6ecf-fa1b-4e26-8374-2f7c59a5d12e",
   "metadata": {},
   "source": [
    "# Pulling from New York Times\n",
    "pulling 'top stories' from their home page to see what kind of results are present"
   ]
  },
  {
   "cell_type": "code",
   "execution_count": 2,
   "id": "bc7a1e1c-54b2-4b42-a245-a9770efa9cd0",
   "metadata": {},
   "outputs": [],
   "source": [
    "response = requests.get('https://api.nytimes.com/svc/topstories/v2/home.json?api-key=WGAbygAtboXRPntebkIP0LB5OSGcufD2')"
   ]
  },
  {
   "cell_type": "code",
   "execution_count": 3,
   "id": "ae02c528-e5ad-4367-8632-bf48fbf88aa2",
   "metadata": {},
   "outputs": [
    {
     "data": {
      "text/plain": [
       "<Response [200]>"
      ]
     },
     "execution_count": 3,
     "metadata": {},
     "output_type": "execute_result"
    }
   ],
   "source": [
    "response"
   ]
  },
  {
   "cell_type": "code",
   "execution_count": 26,
   "id": "7b190e02-8927-4427-bad6-8a049a43273b",
   "metadata": {},
   "outputs": [],
   "source": [
    "text = response.json()"
   ]
  },
  {
   "cell_type": "markdown",
   "id": "1ec58b5b-399b-4a20-8f2b-53da14f62118",
   "metadata": {},
   "source": [
    "### Articles\n",
    "seem to be listedn in the 'results' section of the pull."
   ]
  },
  {
   "cell_type": "code",
   "execution_count": 42,
   "id": "7564ec72-b1e2-4579-9046-206a419b61fb",
   "metadata": {},
   "outputs": [
    {
     "data": {
      "text/plain": [
       "'Parents Who Never Stopped Searching Reunite With Son Abducted 24 Years Ago'"
      ]
     },
     "execution_count": 42,
     "metadata": {},
     "output_type": "execute_result"
    }
   ],
   "source": [
    "text['results'][3]['title']"
   ]
  },
  {
   "cell_type": "code",
   "execution_count": 43,
   "id": "f6e4c51d-a6d7-42da-ba9d-f90470dafe3e",
   "metadata": {},
   "outputs": [
    {
     "name": "stdout",
     "output_type": "stream",
     "text": [
      "Restaurant Shuts Down for a ‘Day of Kindness’ After Customers Make Its Staff Cry\n",
      "Ashley Olsen’s Walk in the Woods With a Machete\n",
      "We Need to Talk About ‘Aline,’ the Crazy Celine Dion Movie at Cannes\n",
      "Parents Who Never Stopped Searching Reunite With Son Abducted 24 Years Ago\n",
      "Plane Crash Complicates HBO Max Documentary on Diet-Inspired Church\n",
      "Emmys 2021 Snubs and Surprises: ‘Emily in Paris’? Mais Oui\n",
      "How Life Looks Through My ‘Whale Eyes’\n"
     ]
    }
   ],
   "source": [
    "for i in range(len(text['results'])):\n",
    "    print(text['results'][i]['title'])"
   ]
  },
  {
   "cell_type": "markdown",
   "id": "ed3684a1-edcd-4d2f-8c0d-001a4792dfb7",
   "metadata": {},
   "source": [
    "# Second pull\n",
    "Trying a second pull to see if the results are the same"
   ]
  },
  {
   "cell_type": "code",
   "execution_count": 49,
   "id": "1781088f-5948-498d-81d3-0ebd38f30b3d",
   "metadata": {},
   "outputs": [],
   "source": [
    "response_2 = requests.get('https://api.nytimes.com/svc/topstories/v2/home.json?api-key=WGAbygAtboXRPntebkIP0LB5OSGcufD2')"
   ]
  },
  {
   "cell_type": "code",
   "execution_count": 50,
   "id": "7e9a52b4-ecc6-4f46-8641-7190b288207d",
   "metadata": {},
   "outputs": [],
   "source": [
    "text2 = response_2.json()"
   ]
  },
  {
   "cell_type": "code",
   "execution_count": 51,
   "id": "85e2d1d8-32b4-4a7d-bfd7-2ca4228abe22",
   "metadata": {},
   "outputs": [
    {
     "data": {
      "text/plain": [
       "'Plane Crash Complicates HBO Max Documentary on Diet-Inspired Church'"
      ]
     },
     "execution_count": 51,
     "metadata": {},
     "output_type": "execute_result"
    }
   ],
   "source": [
    "text2['results'][3]['title']"
   ]
  },
  {
   "cell_type": "code",
   "execution_count": 52,
   "id": "997bfa0f-3389-4983-b3b3-1c945f9879dc",
   "metadata": {},
   "outputs": [
    {
     "name": "stdout",
     "output_type": "stream",
     "text": [
      "Restaurant Shuts Down for a ‘Day of Kindness’ After Customers Make Its Staff Cry\n",
      "We Need to Talk About ‘Aline,’ the Crazy Celine Dion Movie at Cannes\n",
      "Ashley Olsen’s Walk in the Woods With a Machete\n",
      "Plane Crash Complicates HBO Max Documentary on Diet-Inspired Church\n",
      "Parents Who Never Stopped Searching Reunite With Son Abducted 24 Years Ago\n",
      "You Can’t Take It With You, but You Can Put It in Storage\n",
      "Only the Rich Could Love This Economic Recovery\n",
      "Why Jane Goodall Still Has Hope for Us Humans\n",
      "How Do You Stop Robocalls?\n"
     ]
    }
   ],
   "source": [
    "for i in range(len(text2['results'])):\n",
    "    print(text2['results'][i]['title'])"
   ]
  },
  {
   "cell_type": "markdown",
   "id": "dedd574c-d9f7-4a6c-92c7-019a0234c537",
   "metadata": {},
   "source": [
    "# Third pull\n"
   ]
  },
  {
   "cell_type": "code",
   "execution_count": 54,
   "id": "8fb3e7f2-02f1-4269-ac30-ec4b7e941e6e",
   "metadata": {},
   "outputs": [
    {
     "name": "stdout",
     "output_type": "stream",
     "text": [
      "Restaurant Shuts Down for a ‘Day of Kindness’ After Customers Make Its Staff Cry\n",
      "We Need to Talk About ‘Aline,’ the Crazy Celine Dion Movie at Cannes\n",
      "Ashley Olsen’s Walk in the Woods With a Machete\n",
      "Plane Crash Complicates HBO Max Documentary on Diet-Inspired Church\n",
      "A ‘Rogue Ballerina’ Gives a Candid Account of Ballet Culture\n",
      "Parents Who Never Stopped Searching Reunite With Son Abducted 24 Years Ago\n",
      "Emmys 2021 Snubs and Surprises: ‘Emily in Paris’? Mais Oui\n",
      "How Life Looks Through My ‘Whale Eyes’\n"
     ]
    }
   ],
   "source": [
    "response3 = requests.get('https://api.nytimes.com/svc/topstories/v2/home.json?api-key=WGAbygAtboXRPntebkIP0LB5OSGcufD2')\n",
    "text3 = response3.json()\n",
    "for i in range(len(text3['results'])):\n",
    "    print(text3['results'][i]['title'])"
   ]
  },
  {
   "cell_type": "code",
   "execution_count": 55,
   "id": "27b46523-5291-436f-a4a2-a666a2371f7c",
   "metadata": {},
   "outputs": [
    {
     "data": {
      "text/plain": [
       "False"
      ]
     },
     "execution_count": 55,
     "metadata": {},
     "output_type": "execute_result"
    }
   ],
   "source": []
  },
  {
   "cell_type": "markdown",
   "id": "1eb87cd1-ca8f-44ec-adeb-2e3babc1c031",
   "metadata": {},
   "source": [
    "# Results\n",
    "The pulls are different, but not by much. Apparently their top stories are a living document. This SHOULD, in my opinion, somehow correlate to google searches"
   ]
  },
  {
   "cell_type": "code",
   "execution_count": null,
   "id": "94e0c843-f260-4310-bf5f-e07406c64e18",
   "metadata": {},
   "outputs": [],
   "source": []
  }
 ],
 "metadata": {
  "kernelspec": {
   "display_name": "Python [conda env:metis] *",
   "language": "python",
   "name": "conda-env-metis-py"
  },
  "language_info": {
   "codemirror_mode": {
    "name": "ipython",
    "version": 3
   },
   "file_extension": ".py",
   "mimetype": "text/x-python",
   "name": "python",
   "nbconvert_exporter": "python",
   "pygments_lexer": "ipython3",
   "version": "3.8.10"
  }
 },
 "nbformat": 4,
 "nbformat_minor": 5
}
