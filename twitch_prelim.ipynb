{
 "cells": [
  {
   "cell_type": "code",
   "execution_count": 3,
   "id": "a1e87929-7320-411a-b403-0bb40f0a7a64",
   "metadata": {},
   "outputs": [],
   "source": [
    "import numpy as np\n",
    "import pandas as pd\n",
    "import requests\n"
   ]
  },
  {
   "cell_type": "code",
   "execution_count": 8,
   "id": "93ccd2e5-1dc1-4e0d-8087-21bf91a4ed18",
   "metadata": {},
   "outputs": [
    {
     "ename": "SyntaxError",
     "evalue": "invalid syntax (2655981949.py, line 1)",
     "output_type": "error",
     "traceback": [
      "\u001b[0;36m  File \u001b[0;32m\"/var/folders/xl/ftndz_9j3hn5ybffb6t5q42m0000gn/T/ipykernel_13942/2655981949.py\"\u001b[0;36m, line \u001b[0;32m1\u001b[0m\n\u001b[0;31m    response = requests.get('https://api.twitch.tv/kraken/streams/' --header 'client-id: tn9oskedgjzumaz7seved6dl8z642j')\u001b[0m\n\u001b[0m                                                                             ^\u001b[0m\n\u001b[0;31mSyntaxError\u001b[0m\u001b[0;31m:\u001b[0m invalid syntax\n"
     ]
    }
   ],
   "source": [
    "response = requests.get('https://api.twitch.tv/kraken/streams/' --header 'client-id: tn9oskedgjzumaz7seved6dl8z642j')"
   ]
  },
  {
   "cell_type": "code",
   "execution_count": 3,
   "id": "1fbac49c-5883-43c8-83be-14ab33df79fa",
   "metadata": {},
   "outputs": [
    {
     "data": {
      "text/plain": [
       "<Response [400]>"
      ]
     },
     "execution_count": 3,
     "metadata": {},
     "output_type": "execute_result"
    }
   ],
   "source": [
    "response"
   ]
  },
  {
   "cell_type": "code",
   "execution_count": 4,
   "id": "c9a4ee2e-ad77-423f-adea-1e1f1e27baf9",
   "metadata": {},
   "outputs": [],
   "source": [
    "text = response.json()"
   ]
  },
  {
   "cell_type": "code",
   "execution_count": 5,
   "id": "64c35cf6-d811-49f0-9e25-bbc6adea3f0a",
   "metadata": {},
   "outputs": [
    {
     "data": {
      "text/plain": [
       "{'error': 'Bad Request', 'status': 400, 'message': 'No client id specified'}"
      ]
     },
     "execution_count": 5,
     "metadata": {},
     "output_type": "execute_result"
    }
   ],
   "source": [
    "text"
   ]
  },
  {
   "cell_type": "code",
   "execution_count": 9,
   "id": "69759db0-a3d0-49c0-8a7f-23ef8ac2df34",
   "metadata": {},
   "outputs": [
    {
     "name": "stdout",
     "output_type": "stream",
     "text": [
      "Collecting python-twitch-client\n",
      "  Downloading python_twitch_client-0.7.1-py3-none-any.whl (20 kB)\n",
      "Requirement already satisfied: requests>=2.23.0 in /Users/michaelharnett/opt/anaconda3/envs/metis/lib/python3.8/site-packages (from python-twitch-client) (2.25.1)\n",
      "Requirement already satisfied: certifi>=2017.4.17 in /Users/michaelharnett/opt/anaconda3/envs/metis/lib/python3.8/site-packages (from requests>=2.23.0->python-twitch-client) (2021.5.30)\n",
      "Requirement already satisfied: urllib3<1.27,>=1.21.1 in /Users/michaelharnett/opt/anaconda3/envs/metis/lib/python3.8/site-packages (from requests>=2.23.0->python-twitch-client) (1.26.6)\n",
      "Requirement already satisfied: chardet<5,>=3.0.2 in /Users/michaelharnett/opt/anaconda3/envs/metis/lib/python3.8/site-packages (from requests>=2.23.0->python-twitch-client) (4.0.0)\n",
      "Requirement already satisfied: idna<3,>=2.5 in /Users/michaelharnett/opt/anaconda3/envs/metis/lib/python3.8/site-packages (from requests>=2.23.0->python-twitch-client) (2.10)\n",
      "Installing collected packages: python-twitch-client\n",
      "Successfully installed python-twitch-client-0.7.1\n"
     ]
    }
   ],
   "source": [
    "! pip install python-twitch-client"
   ]
  },
  {
   "cell_type": "code",
   "execution_count": 17,
   "id": "33b01e07-95c9-4b4e-ba6f-1c23536f812e",
   "metadata": {},
   "outputs": [],
   "source": [
    "from twitch import TwitchClient, TwitchHelix\n",
    "import twitch"
   ]
  },
  {
   "cell_type": "code",
   "execution_count": 28,
   "id": "db81fb9f-fc5b-4ba0-89d0-a0b2c40b65b1",
   "metadata": {},
   "outputs": [
    {
     "ename": "SyntaxError",
     "evalue": "invalid syntax (3022916776.py, line 2)",
     "output_type": "error",
     "traceback": [
      "\u001b[0;36m  File \u001b[0;32m\"/var/folders/xl/ftndz_9j3hn5ybffb6t5q42m0000gn/T/ipykernel_13942/3022916776.py\"\u001b[0;36m, line \u001b[0;32m2\u001b[0m\n\u001b[0;31m    scopes = [twitch.constants.analytics:read_extensions])\u001b[0m\n\u001b[0m                                        ^\u001b[0m\n\u001b[0;31mSyntaxError\u001b[0m\u001b[0;31m:\u001b[0m invalid syntax\n"
     ]
    }
   ],
   "source": [
    "client = twitch.TwitchHelix(client_id='tn9oskedgjzumaz7seved6dl8z642j', client_secret = '5bbdqqsykhqu6t4fhroopms0hcvy6w',\n",
    "                           scopes = [twitch.constants.analyticsread_extensions])"
   ]
  },
  {
   "cell_type": "code",
   "execution_count": 23,
   "id": "3a6d1da2-f8e8-4bbc-ac8c-2127364246c5",
   "metadata": {},
   "outputs": [
    {
     "ename": "HTTPError",
     "evalue": "401 Client Error: Unauthorized for url: https://api.twitch.tv/helix/streams?first=20",
     "output_type": "error",
     "traceback": [
      "\u001b[0;31m---------------------------------------------------------------------------\u001b[0m",
      "\u001b[0;31mHTTPError\u001b[0m                                 Traceback (most recent call last)",
      "\u001b[0;32m/var/folders/xl/ftndz_9j3hn5ybffb6t5q42m0000gn/T/ipykernel_13942/3215029991.py\u001b[0m in \u001b[0;36m<module>\u001b[0;34m\u001b[0m\n\u001b[0;32m----> 1\u001b[0;31m \u001b[0mclient\u001b[0m\u001b[0;34m.\u001b[0m\u001b[0mget_streams\u001b[0m\u001b[0;34m(\u001b[0m\u001b[0;34m)\u001b[0m\u001b[0;34m\u001b[0m\u001b[0;34m\u001b[0m\u001b[0m\n\u001b[0m",
      "\u001b[0;32m~/opt/anaconda3/envs/metis/lib/python3.8/site-packages/twitch/helix/api.py\u001b[0m in \u001b[0;36mget_streams\u001b[0;34m(self, after, before, community_ids, page_size, game_ids, languages, user_ids, user_logins)\u001b[0m\n\u001b[1;32m    101\u001b[0m         }\n\u001b[1;32m    102\u001b[0m \u001b[0;34m\u001b[0m\u001b[0m\n\u001b[0;32m--> 103\u001b[0;31m         return APICursor(\n\u001b[0m\u001b[1;32m    104\u001b[0m             \u001b[0mclient_id\u001b[0m\u001b[0;34m=\u001b[0m\u001b[0mself\u001b[0m\u001b[0;34m.\u001b[0m\u001b[0m_client_id\u001b[0m\u001b[0;34m,\u001b[0m\u001b[0;34m\u001b[0m\u001b[0;34m\u001b[0m\u001b[0m\n\u001b[1;32m    105\u001b[0m             \u001b[0moauth_token\u001b[0m\u001b[0;34m=\u001b[0m\u001b[0mself\u001b[0m\u001b[0;34m.\u001b[0m\u001b[0m_oauth_token\u001b[0m\u001b[0;34m,\u001b[0m\u001b[0;34m\u001b[0m\u001b[0;34m\u001b[0m\u001b[0m\n",
      "\u001b[0;32m~/opt/anaconda3/envs/metis/lib/python3.8/site-packages/twitch/helix/base.py\u001b[0m in \u001b[0;36m__init__\u001b[0;34m(self, client_id, path, resource, oauth_token, cursor, params)\u001b[0m\n\u001b[1;32m     76\u001b[0m \u001b[0;34m\u001b[0m\u001b[0m\n\u001b[1;32m     77\u001b[0m         \u001b[0;31m# Pre-fetch the first page as soon as cursor is instantiated\u001b[0m\u001b[0;34m\u001b[0m\u001b[0;34m\u001b[0m\u001b[0;34m\u001b[0m\u001b[0m\n\u001b[0;32m---> 78\u001b[0;31m         \u001b[0mself\u001b[0m\u001b[0;34m.\u001b[0m\u001b[0mnext_page\u001b[0m\u001b[0;34m(\u001b[0m\u001b[0;34m)\u001b[0m\u001b[0;34m\u001b[0m\u001b[0;34m\u001b[0m\u001b[0m\n\u001b[0m\u001b[1;32m     79\u001b[0m \u001b[0;34m\u001b[0m\u001b[0m\n\u001b[1;32m     80\u001b[0m     \u001b[0;32mdef\u001b[0m \u001b[0m__repr__\u001b[0m\u001b[0;34m(\u001b[0m\u001b[0mself\u001b[0m\u001b[0;34m)\u001b[0m\u001b[0;34m:\u001b[0m\u001b[0;34m\u001b[0m\u001b[0;34m\u001b[0m\u001b[0m\n",
      "\u001b[0;32m~/opt/anaconda3/envs/metis/lib/python3.8/site-packages/twitch/helix/base.py\u001b[0m in \u001b[0;36mnext_page\u001b[0;34m(self)\u001b[0m\n\u001b[1;32m    103\u001b[0m             \u001b[0mself\u001b[0m\u001b[0;34m.\u001b[0m\u001b[0m_params\u001b[0m\u001b[0;34m[\u001b[0m\u001b[0;34m\"after\"\u001b[0m\u001b[0;34m]\u001b[0m \u001b[0;34m=\u001b[0m \u001b[0mself\u001b[0m\u001b[0;34m.\u001b[0m\u001b[0m_cursor\u001b[0m\u001b[0;34m\u001b[0m\u001b[0;34m\u001b[0m\u001b[0m\n\u001b[1;32m    104\u001b[0m \u001b[0;34m\u001b[0m\u001b[0m\n\u001b[0;32m--> 105\u001b[0;31m         \u001b[0mresponse\u001b[0m \u001b[0;34m=\u001b[0m \u001b[0mself\u001b[0m\u001b[0;34m.\u001b[0m\u001b[0m_request_get\u001b[0m\u001b[0;34m(\u001b[0m\u001b[0mself\u001b[0m\u001b[0;34m.\u001b[0m\u001b[0m_path\u001b[0m\u001b[0;34m,\u001b[0m \u001b[0mparams\u001b[0m\u001b[0;34m=\u001b[0m\u001b[0mself\u001b[0m\u001b[0;34m.\u001b[0m\u001b[0m_params\u001b[0m\u001b[0;34m)\u001b[0m\u001b[0;34m\u001b[0m\u001b[0;34m\u001b[0m\u001b[0m\n\u001b[0m\u001b[1;32m    106\u001b[0m \u001b[0;34m\u001b[0m\u001b[0m\n\u001b[1;32m    107\u001b[0m         \u001b[0mself\u001b[0m\u001b[0;34m.\u001b[0m\u001b[0m_queue\u001b[0m \u001b[0;34m=\u001b[0m \u001b[0;34m[\u001b[0m\u001b[0mself\u001b[0m\u001b[0;34m.\u001b[0m\u001b[0m_resource\u001b[0m\u001b[0;34m.\u001b[0m\u001b[0mconstruct_from\u001b[0m\u001b[0;34m(\u001b[0m\u001b[0mdata\u001b[0m\u001b[0;34m)\u001b[0m \u001b[0;32mfor\u001b[0m \u001b[0mdata\u001b[0m \u001b[0;32min\u001b[0m \u001b[0mresponse\u001b[0m\u001b[0;34m[\u001b[0m\u001b[0;34m\"data\"\u001b[0m\u001b[0;34m]\u001b[0m\u001b[0;34m]\u001b[0m\u001b[0;34m\u001b[0m\u001b[0;34m\u001b[0m\u001b[0m\n",
      "\u001b[0;32m~/opt/anaconda3/envs/metis/lib/python3.8/site-packages/twitch/helix/base.py\u001b[0m in \u001b[0;36m_request_get\u001b[0;34m(self, path, params)\u001b[0m\n\u001b[1;32m     57\u001b[0m             \u001b[0;32mreturn\u001b[0m \u001b[0mself\u001b[0m\u001b[0;34m.\u001b[0m\u001b[0m_request_get\u001b[0m\u001b[0;34m(\u001b[0m\u001b[0mpath\u001b[0m\u001b[0;34m,\u001b[0m \u001b[0mparams\u001b[0m\u001b[0;34m=\u001b[0m\u001b[0mparams\u001b[0m\u001b[0;34m)\u001b[0m\u001b[0;34m\u001b[0m\u001b[0;34m\u001b[0m\u001b[0m\n\u001b[1;32m     58\u001b[0m \u001b[0;34m\u001b[0m\u001b[0m\n\u001b[0;32m---> 59\u001b[0;31m         \u001b[0mresponse\u001b[0m\u001b[0;34m.\u001b[0m\u001b[0mraise_for_status\u001b[0m\u001b[0;34m(\u001b[0m\u001b[0;34m)\u001b[0m\u001b[0;34m\u001b[0m\u001b[0;34m\u001b[0m\u001b[0m\n\u001b[0m\u001b[1;32m     60\u001b[0m         \u001b[0;32mreturn\u001b[0m \u001b[0mresponse\u001b[0m\u001b[0;34m.\u001b[0m\u001b[0mjson\u001b[0m\u001b[0;34m(\u001b[0m\u001b[0;34m)\u001b[0m\u001b[0;34m\u001b[0m\u001b[0;34m\u001b[0m\u001b[0m\n\u001b[1;32m     61\u001b[0m \u001b[0;34m\u001b[0m\u001b[0m\n",
      "\u001b[0;32m~/opt/anaconda3/envs/metis/lib/python3.8/site-packages/requests/models.py\u001b[0m in \u001b[0;36mraise_for_status\u001b[0;34m(self)\u001b[0m\n\u001b[1;32m    941\u001b[0m \u001b[0;34m\u001b[0m\u001b[0m\n\u001b[1;32m    942\u001b[0m         \u001b[0;32mif\u001b[0m \u001b[0mhttp_error_msg\u001b[0m\u001b[0;34m:\u001b[0m\u001b[0;34m\u001b[0m\u001b[0;34m\u001b[0m\u001b[0m\n\u001b[0;32m--> 943\u001b[0;31m             \u001b[0;32mraise\u001b[0m \u001b[0mHTTPError\u001b[0m\u001b[0;34m(\u001b[0m\u001b[0mhttp_error_msg\u001b[0m\u001b[0;34m,\u001b[0m \u001b[0mresponse\u001b[0m\u001b[0;34m=\u001b[0m\u001b[0mself\u001b[0m\u001b[0;34m)\u001b[0m\u001b[0;34m\u001b[0m\u001b[0;34m\u001b[0m\u001b[0m\n\u001b[0m\u001b[1;32m    944\u001b[0m \u001b[0;34m\u001b[0m\u001b[0m\n\u001b[1;32m    945\u001b[0m     \u001b[0;32mdef\u001b[0m \u001b[0mclose\u001b[0m\u001b[0;34m(\u001b[0m\u001b[0mself\u001b[0m\u001b[0;34m)\u001b[0m\u001b[0;34m:\u001b[0m\u001b[0;34m\u001b[0m\u001b[0;34m\u001b[0m\u001b[0m\n",
      "\u001b[0;31mHTTPError\u001b[0m: 401 Client Error: Unauthorized for url: https://api.twitch.tv/helix/streams?first=20"
     ]
    }
   ],
   "source": [
    "client.get_streams()"
   ]
  },
  {
   "cell_type": "code",
   "execution_count": 8,
   "id": "54dba5fc-08dd-4e60-8fd1-cb4ff89e0d30",
   "metadata": {},
   "outputs": [],
   "source": [
    "code = requests.post('https://id.twitch.tv/oauth2/token?client_id=tn9oskedgjzumaz7seved6dl8z642j\\&client_secret=5bbdqqsykhqu6t4fhroopms0hcvy6w')\n",
    "#     &grant_type=client_credentials\n",
    "#     &scope=<space-separated list of scopes>"
   ]
  },
  {
   "cell_type": "code",
   "execution_count": 9,
   "id": "ffec98b4-2628-46ac-88c2-41e5a2f03111",
   "metadata": {},
   "outputs": [
    {
     "data": {
      "text/plain": [
       "<Response [400]>"
      ]
     },
     "execution_count": 9,
     "metadata": {},
     "output_type": "execute_result"
    }
   ],
   "source": [
    "code"
   ]
  },
  {
   "cell_type": "markdown",
   "id": "4bc678bf-a562-4545-a843-3399b4a25efc",
   "metadata": {},
   "source": [
    "# Works best\n",
    "if I slplit the client_id and secret inot their own variables, and include variable names in the post request."
   ]
  },
  {
   "cell_type": "code",
   "execution_count": 5,
   "id": "6a8412ff-67a5-47b9-8e68-a8ed538cb2ca",
   "metadata": {},
   "outputs": [],
   "source": [
    "# sensitive information has been removed and added to a config file for privacy\n",
    "\n",
    "client_id = \n",
    "client_secret = "
   ]
  },
  {
   "cell_type": "code",
   "execution_count": 6,
   "id": "f2d8f781-ebf6-451b-9d0c-5945d6b7fce0",
   "metadata": {},
   "outputs": [],
   "source": [
    "access_code = requests.post('https://id.twitch.tv/oauth2/token?client_id='+client_id+\\\n",
    "                            '&client_secret='+client_secret+\\\n",
    "                            '&grant_type=client_credentials')\n",
    "                            "
   ]
  },
  {
   "cell_type": "code",
   "execution_count": 7,
   "id": "11413540-ac64-4ebd-83f0-be9b17f837c0",
   "metadata": {},
   "outputs": [
    {
     "data": {
      "text/plain": [
       "<Response [200]>"
      ]
     },
     "execution_count": 7,
     "metadata": {},
     "output_type": "execute_result"
    }
   ],
   "source": [
    "access_code"
   ]
  },
  {
   "cell_type": "code",
   "execution_count": 1,
   "id": "e4251c40-5889-4e06-9e79-6fd055fe54c6",
   "metadata": {},
   "outputs": [],
   "source": [
    "# sensitive information removed and added to config file\n",
    "\n",
    "\n",
    "#OAuth access token unuiqe to my 'research' app\n",
    "\n",
    "access_token = access_code.json()['access_token']\n",
    "access_token"
   ]
  },
  {
   "cell_type": "code",
   "execution_count": 9,
   "id": "c030b4a3-153f-4771-b0bf-930e6e8387e0",
   "metadata": {},
   "outputs": [],
   "source": [
    "#FINALLY took forever, but client ID must be included in requests WITH the authorization!\n",
    "\n",
    "headers = {\n",
    "    'Client-ID' : client_id,\n",
    "    'Authorization' : 'Bearer '+access_token\n",
    "}\n"
   ]
  },
  {
   "cell_type": "code",
   "execution_count": 23,
   "id": "eb96a333-4bb3-43c7-9959-0d9ebe96c6d0",
   "metadata": {},
   "outputs": [],
   "source": [
    "top_games = requests.get('https://api.twitch.tv/helix/games/top', headers=headers)"
   ]
  },
  {
   "cell_type": "code",
   "execution_count": 24,
   "id": "bdb8ffa5-bd0a-490d-9726-ae5275c41ffb",
   "metadata": {},
   "outputs": [
    {
     "data": {
      "text/plain": [
       "<Response [200]>"
      ]
     },
     "execution_count": 24,
     "metadata": {},
     "output_type": "execute_result"
    }
   ],
   "source": [
    "top_games"
   ]
  },
  {
   "cell_type": "code",
   "execution_count": 25,
   "id": "5f5fa622-0b09-4fe0-ad46-7d0f0a75fe53",
   "metadata": {},
   "outputs": [
    {
     "data": {
      "text/plain": [
       "{'data': [{'id': '509658',\n",
       "   'name': 'Just Chatting',\n",
       "   'box_art_url': 'https://static-cdn.jtvnw.net/ttv-boxart/Just%20Chatting-{width}x{height}.jpg'},\n",
       "  {'id': '32982',\n",
       "   'name': 'Grand Theft Auto V',\n",
       "   'box_art_url': 'https://static-cdn.jtvnw.net/ttv-boxart/Grand%20Theft%20Auto%20V-{width}x{height}.jpg'},\n",
       "  {'id': '493597',\n",
       "   'name': 'New World',\n",
       "   'box_art_url': 'https://static-cdn.jtvnw.net/ttv-boxart/New%20World-{width}x{height}.jpg'},\n",
       "  {'id': '21779',\n",
       "   'name': 'League of Legends',\n",
       "   'box_art_url': 'https://static-cdn.jtvnw.net/ttv-boxart/League%20of%20Legends-{width}x{height}.jpg'},\n",
       "  {'id': '518379',\n",
       "   'name': 'Pokémon Unite',\n",
       "   'box_art_url': 'https://static-cdn.jtvnw.net/ttv-boxart/Pok%C3%A9mon%20Unite-{width}x{height}.jpg'},\n",
       "  {'id': '33214',\n",
       "   'name': 'Fortnite',\n",
       "   'box_art_url': 'https://static-cdn.jtvnw.net/ttv-boxart/Fortnite-{width}x{height}.jpg'},\n",
       "  {'id': '65632',\n",
       "   'name': 'DayZ',\n",
       "   'box_art_url': 'https://static-cdn.jtvnw.net/ttv-boxart/DayZ-{width}x{height}.jpg'},\n",
       "  {'id': '516575',\n",
       "   'name': 'VALORANT',\n",
       "   'box_art_url': 'https://static-cdn.jtvnw.net/ttv-boxart/VALORANT-{width}x{height}.jpg'},\n",
       "  {'id': '512710',\n",
       "   'name': 'Call of Duty: Warzone',\n",
       "   'box_art_url': 'https://static-cdn.jtvnw.net/ttv-boxart/./Call%20of%20Duty:%20Warzone-{width}x{height}.jpg'},\n",
       "  {'id': '32399',\n",
       "   'name': 'Counter-Strike: Global Offensive',\n",
       "   'box_art_url': 'https://static-cdn.jtvnw.net/ttv-boxart/./Counter-Strike:%20Global%20Offensive-{width}x{height}.jpg'},\n",
       "  {'id': '513181',\n",
       "   'name': 'Genshin Impact',\n",
       "   'box_art_url': 'https://static-cdn.jtvnw.net/ttv-boxart/Genshin%20Impact-{width}x{height}.jpg'},\n",
       "  {'id': '18122',\n",
       "   'name': 'World of Warcraft',\n",
       "   'box_art_url': 'https://static-cdn.jtvnw.net/ttv-boxart/World%20of%20Warcraft-{width}x{height}.jpg'},\n",
       "  {'id': '498566',\n",
       "   'name': 'Slots',\n",
       "   'box_art_url': 'https://static-cdn.jtvnw.net/ttv-boxart/Slots-{width}x{height}.jpg'},\n",
       "  {'id': '460630',\n",
       "   'name': \"Tom Clancy's Rainbow Six Siege\",\n",
       "   'box_art_url': 'https://static-cdn.jtvnw.net/ttv-boxart/Tom%20Clancy%27s%20Rainbow%20Six%20Siege-{width}x{height}.jpg'},\n",
       "  {'id': '511224',\n",
       "   'name': 'Apex Legends',\n",
       "   'box_art_url': 'https://static-cdn.jtvnw.net/ttv-boxart/Apex%20Legends-{width}x{height}.jpg'},\n",
       "  {'id': '263490',\n",
       "   'name': 'Rust',\n",
       "   'box_art_url': 'https://static-cdn.jtvnw.net/ttv-boxart/Rust-{width}x{height}.jpg'},\n",
       "  {'id': '491487',\n",
       "   'name': 'Dead by Daylight',\n",
       "   'box_art_url': 'https://static-cdn.jtvnw.net/ttv-boxart/Dead%20by%20Daylight-{width}x{height}.jpg'},\n",
       "  {'id': '27471',\n",
       "   'name': 'Minecraft',\n",
       "   'box_art_url': 'https://static-cdn.jtvnw.net/ttv-boxart/Minecraft-{width}x{height}.jpg'},\n",
       "  {'id': '8873',\n",
       "   'name': 'Zoo Tycoon',\n",
       "   'box_art_url': 'https://static-cdn.jtvnw.net/ttv-boxart/Zoo%20Tycoon-{width}x{height}.jpg'},\n",
       "  {'id': '29595',\n",
       "   'name': 'Dota 2',\n",
       "   'box_art_url': 'https://static-cdn.jtvnw.net/ttv-boxart/Dota%202-{width}x{height}.jpg'}],\n",
       " 'pagination': {'cursor': 'eyJzIjoyMCwiZCI6ZmFsc2UsInQiOnRydWV9'}}"
      ]
     },
     "execution_count": 25,
     "metadata": {},
     "output_type": "execute_result"
    }
   ],
   "source": [
    "top_games.json()"
   ]
  },
  {
   "cell_type": "code",
   "execution_count": 2,
   "id": "adfd5f97-e30d-4e77-8cb8-25b46d818279",
   "metadata": {},
   "outputs": [
    {
     "ename": "NameError",
     "evalue": "name 'requests' is not defined",
     "output_type": "error",
     "traceback": [
      "\u001b[0;31m---------------------------------------------------------------------------\u001b[0m",
      "\u001b[0;31mNameError\u001b[0m                                 Traceback (most recent call last)",
      "\u001b[0;32m/var/folders/xl/ftndz_9j3hn5ybffb6t5q42m0000gn/T/ipykernel_41650/473247290.py\u001b[0m in \u001b[0;36m<module>\u001b[0;34m\u001b[0m\n\u001b[0;32m----> 1\u001b[0;31m \u001b[0mtop_streams\u001b[0m \u001b[0;34m=\u001b[0m \u001b[0mrequests\u001b[0m\u001b[0;34m.\u001b[0m\u001b[0mget\u001b[0m\u001b[0;34m(\u001b[0m\u001b[0;34m'https://api.twitch.tv/helix/streams?first=100'\u001b[0m\u001b[0;34m,\u001b[0m \u001b[0mheaders\u001b[0m\u001b[0;34m=\u001b[0m\u001b[0mheaders\u001b[0m\u001b[0;34m)\u001b[0m\u001b[0;34m\u001b[0m\u001b[0;34m\u001b[0m\u001b[0m\n\u001b[0m\u001b[1;32m      2\u001b[0m \u001b[0mtop_streams\u001b[0m\u001b[0;34m\u001b[0m\u001b[0;34m\u001b[0m\u001b[0m\n",
      "\u001b[0;31mNameError\u001b[0m: name 'requests' is not defined"
     ]
    }
   ],
   "source": [
    "top_streams = requests.get('https://api.twitch.tv/helix/streams?first=100', headers=headers)\n",
    "top_streams"
   ]
  },
  {
   "cell_type": "code",
   "execution_count": 1,
   "id": "9e5f679c-dcac-424c-a9d6-d4ab63c26e29",
   "metadata": {},
   "outputs": [
    {
     "ename": "NameError",
     "evalue": "name 'top_streams' is not defined",
     "output_type": "error",
     "traceback": [
      "\u001b[0;31m---------------------------------------------------------------------------\u001b[0m",
      "\u001b[0;31mNameError\u001b[0m                                 Traceback (most recent call last)",
      "\u001b[0;32m/var/folders/xl/ftndz_9j3hn5ybffb6t5q42m0000gn/T/ipykernel_41650/198339835.py\u001b[0m in \u001b[0;36m<module>\u001b[0;34m\u001b[0m\n\u001b[0;32m----> 1\u001b[0;31m \u001b[0mtop_streams\u001b[0m\u001b[0;34m.\u001b[0m\u001b[0mjson\u001b[0m\u001b[0;34m(\u001b[0m\u001b[0;34m)\u001b[0m\u001b[0;34m\u001b[0m\u001b[0;34m\u001b[0m\u001b[0m\n\u001b[0m",
      "\u001b[0;31mNameError\u001b[0m: name 'top_streams' is not defined"
     ]
    }
   ],
   "source": [
    "top_streams.json()"
   ]
  },
  {
   "cell_type": "code",
   "execution_count": 18,
   "id": "c1b0d191-a223-408d-b2d4-82df60b78648",
   "metadata": {},
   "outputs": [],
   "source": [
    "top_streams_df = pd.DataFrame(top_streams.json()['data'])\n"
   ]
  },
  {
   "cell_type": "code",
   "execution_count": 19,
   "id": "b92edb6a-ace2-4012-9d28-e597c35fdbc4",
   "metadata": {},
   "outputs": [
    {
     "data": {
      "text/html": [
       "<div>\n",
       "<style scoped>\n",
       "    .dataframe tbody tr th:only-of-type {\n",
       "        vertical-align: middle;\n",
       "    }\n",
       "\n",
       "    .dataframe tbody tr th {\n",
       "        vertical-align: top;\n",
       "    }\n",
       "\n",
       "    .dataframe thead th {\n",
       "        text-align: right;\n",
       "    }\n",
       "</style>\n",
       "<table border=\"1\" class=\"dataframe\">\n",
       "  <thead>\n",
       "    <tr style=\"text-align: right;\">\n",
       "      <th></th>\n",
       "      <th>id</th>\n",
       "      <th>user_id</th>\n",
       "      <th>user_login</th>\n",
       "      <th>user_name</th>\n",
       "      <th>game_id</th>\n",
       "      <th>game_name</th>\n",
       "      <th>type</th>\n",
       "      <th>title</th>\n",
       "      <th>viewer_count</th>\n",
       "      <th>started_at</th>\n",
       "      <th>language</th>\n",
       "      <th>thumbnail_url</th>\n",
       "      <th>tag_ids</th>\n",
       "      <th>is_mature</th>\n",
       "    </tr>\n",
       "  </thead>\n",
       "  <tbody>\n",
       "    <tr>\n",
       "      <th>14</th>\n",
       "      <td>39690809899</td>\n",
       "      <td>541318059</td>\n",
       "      <td>litkillah</td>\n",
       "      <td>LITkillah</td>\n",
       "      <td>33214</td>\n",
       "      <td>Fortnite</td>\n",
       "      <td>live</td>\n",
       "      <td>Jugando Fortnite | ESTOY BAN DE MADAFAKING LIF...</td>\n",
       "      <td>23551</td>\n",
       "      <td>2021-07-21T20:27:53Z</td>\n",
       "      <td>es</td>\n",
       "      <td>https://static-cdn.jtvnw.net/previews-ttv/live...</td>\n",
       "      <td>[d4bb9c58-2141-4881-bcdc-3fe0505457d1]</td>\n",
       "      <td>False</td>\n",
       "    </tr>\n",
       "    <tr>\n",
       "      <th>70</th>\n",
       "      <td>42933436125</td>\n",
       "      <td>245226810</td>\n",
       "      <td>jelty</td>\n",
       "      <td>Jelty</td>\n",
       "      <td>33214</td>\n",
       "      <td>Fortnite</td>\n",
       "      <td>live</td>\n",
       "      <td>🤙  || !redes !exitlag !code</td>\n",
       "      <td>7363</td>\n",
       "      <td>2021-07-21T20:54:45Z</td>\n",
       "      <td>es</td>\n",
       "      <td>https://static-cdn.jtvnw.net/previews-ttv/live...</td>\n",
       "      <td>[d4bb9c58-2141-4881-bcdc-3fe0505457d1]</td>\n",
       "      <td>False</td>\n",
       "    </tr>\n",
       "    <tr>\n",
       "      <th>81</th>\n",
       "      <td>42930320109</td>\n",
       "      <td>224539819</td>\n",
       "      <td>aussieantics</td>\n",
       "      <td>AussieAntics</td>\n",
       "      <td>33214</td>\n",
       "      <td>Fortnite</td>\n",
       "      <td>live</td>\n",
       "      <td>Viewing Party for NAE DreamHack Trios | !BINGO...</td>\n",
       "      <td>6515</td>\n",
       "      <td>2021-07-21T16:42:04Z</td>\n",
       "      <td>en</td>\n",
       "      <td>https://static-cdn.jtvnw.net/previews-ttv/live...</td>\n",
       "      <td>[6ea6bca4-4712-4ab9-a906-e3336a9d8039, b13ce7d...</td>\n",
       "      <td>False</td>\n",
       "    </tr>\n",
       "    <tr>\n",
       "      <th>84</th>\n",
       "      <td>42709361436</td>\n",
       "      <td>44424631</td>\n",
       "      <td>nickeh30</td>\n",
       "      <td>NickEh30</td>\n",
       "      <td>33214</td>\n",
       "      <td>Fortnite</td>\n",
       "      <td>live</td>\n",
       "      <td>Solo Arena | Code NickEh30 #EpicPartner</td>\n",
       "      <td>6121</td>\n",
       "      <td>2021-07-21T18:22:11Z</td>\n",
       "      <td>en</td>\n",
       "      <td>https://static-cdn.jtvnw.net/previews-ttv/live...</td>\n",
       "      <td>[6ea6bca4-4712-4ab9-a906-e3336a9d8039, ff56eee...</td>\n",
       "      <td>False</td>\n",
       "    </tr>\n",
       "    <tr>\n",
       "      <th>93</th>\n",
       "      <td>42710659244</td>\n",
       "      <td>411331824</td>\n",
       "      <td>deyyszn</td>\n",
       "      <td>deyyszn</td>\n",
       "      <td>33214</td>\n",
       "      <td>Fortnite</td>\n",
       "      <td>live</td>\n",
       "      <td>DH Extra w/ Mero &amp; Reverse! | !newvid !leaderb...</td>\n",
       "      <td>5521</td>\n",
       "      <td>2021-07-21T20:09:59Z</td>\n",
       "      <td>en</td>\n",
       "      <td>https://static-cdn.jtvnw.net/previews-ttv/live...</td>\n",
       "      <td>[6ea6bca4-4712-4ab9-a906-e3336a9d8039]</td>\n",
       "      <td>False</td>\n",
       "    </tr>\n",
       "  </tbody>\n",
       "</table>\n",
       "</div>"
      ],
      "text/plain": [
       "             id    user_id    user_login     user_name game_id game_name  \\\n",
       "14  39690809899  541318059     litkillah     LITkillah   33214  Fortnite   \n",
       "70  42933436125  245226810         jelty         Jelty   33214  Fortnite   \n",
       "81  42930320109  224539819  aussieantics  AussieAntics   33214  Fortnite   \n",
       "84  42709361436   44424631      nickeh30      NickEh30   33214  Fortnite   \n",
       "93  42710659244  411331824       deyyszn       deyyszn   33214  Fortnite   \n",
       "\n",
       "    type                                              title  viewer_count  \\\n",
       "14  live  Jugando Fortnite | ESTOY BAN DE MADAFAKING LIF...         23551   \n",
       "70  live                        🤙  || !redes !exitlag !code          7363   \n",
       "81  live  Viewing Party for NAE DreamHack Trios | !BINGO...          6515   \n",
       "84  live            Solo Arena | Code NickEh30 #EpicPartner          6121   \n",
       "93  live  DH Extra w/ Mero & Reverse! | !newvid !leaderb...          5521   \n",
       "\n",
       "              started_at language  \\\n",
       "14  2021-07-21T20:27:53Z       es   \n",
       "70  2021-07-21T20:54:45Z       es   \n",
       "81  2021-07-21T16:42:04Z       en   \n",
       "84  2021-07-21T18:22:11Z       en   \n",
       "93  2021-07-21T20:09:59Z       en   \n",
       "\n",
       "                                        thumbnail_url  \\\n",
       "14  https://static-cdn.jtvnw.net/previews-ttv/live...   \n",
       "70  https://static-cdn.jtvnw.net/previews-ttv/live...   \n",
       "81  https://static-cdn.jtvnw.net/previews-ttv/live...   \n",
       "84  https://static-cdn.jtvnw.net/previews-ttv/live...   \n",
       "93  https://static-cdn.jtvnw.net/previews-ttv/live...   \n",
       "\n",
       "                                              tag_ids  is_mature  \n",
       "14             [d4bb9c58-2141-4881-bcdc-3fe0505457d1]      False  \n",
       "70             [d4bb9c58-2141-4881-bcdc-3fe0505457d1]      False  \n",
       "81  [6ea6bca4-4712-4ab9-a906-e3336a9d8039, b13ce7d...      False  \n",
       "84  [6ea6bca4-4712-4ab9-a906-e3336a9d8039, ff56eee...      False  \n",
       "93             [6ea6bca4-4712-4ab9-a906-e3336a9d8039]      False  "
      ]
     },
     "execution_count": 19,
     "metadata": {},
     "output_type": "execute_result"
    }
   ],
   "source": [
    "top_streams_df[top_streams_df.game_name == 'Fortnite']"
   ]
  },
  {
   "cell_type": "code",
   "execution_count": 78,
   "id": "241842be-eb69-4668-99fb-469fef2152db",
   "metadata": {},
   "outputs": [],
   "source": [
    "top_streams_df.to_csv(r'/users/michaelharnett/desktop/metis/projects/twitch_dashboard/streams.csv', index=False)"
   ]
  },
  {
   "cell_type": "markdown",
   "id": "eaef37e1-ee74-4577-a60c-b0502a2632fc",
   "metadata": {},
   "source": [
    "#### Let's see what information is available for an individual game="
   ]
  },
  {
   "cell_type": "code",
   "execution_count": 30,
   "id": "23a533f7-0f37-4e15-944e-63ac575bbe43",
   "metadata": {},
   "outputs": [
    {
     "data": {
      "text/plain": [
       "<Response [200]>"
      ]
     },
     "execution_count": 30,
     "metadata": {},
     "output_type": "execute_result"
    }
   ],
   "source": [
    "fort_id = '33214'\n",
    "fortnite_test = requests.get('https://api.twitch.tv/helix/games?id='+fort_id, headers=headers)\n",
    "fortnite_test"
   ]
  },
  {
   "cell_type": "code",
   "execution_count": 31,
   "id": "f51929c2-e7ed-4179-89a7-30aabf99d01e",
   "metadata": {},
   "outputs": [
    {
     "data": {
      "text/plain": [
       "{'data': [{'id': '33214',\n",
       "   'name': 'Fortnite',\n",
       "   'box_art_url': 'https://static-cdn.jtvnw.net/ttv-boxart/Fortnite-{width}x{height}.jpg'}]}"
      ]
     },
     "execution_count": 31,
     "metadata": {},
     "output_type": "execute_result"
    }
   ],
   "source": [
    "fortnite_test.json()"
   ]
  },
  {
   "cell_type": "markdown",
   "id": "51f294af-25f3-4642-b449-44134f652ad5",
   "metadata": {},
   "source": [
    "#### testing tags"
   ]
  },
  {
   "cell_type": "code",
   "execution_count": 39,
   "id": "477a20f1-23f1-4896-9ebc-fa779b4f0b31",
   "metadata": {},
   "outputs": [
    {
     "data": {
      "text/plain": [
       "<Response [200]>"
      ]
     },
     "execution_count": 39,
     "metadata": {},
     "output_type": "execute_result"
    }
   ],
   "source": [
    "tags_test = requests.get('https://api.twitch.tv/helix/tags/streams', headers=headers)\n",
    "tags_test"
   ]
  },
  {
   "cell_type": "code",
   "execution_count": 41,
   "id": "883f3b02-9ac9-418a-b6df-93040e5250c6",
   "metadata": {},
   "outputs": [],
   "source": [
    "#tags_test.json()"
   ]
  },
  {
   "cell_type": "markdown",
   "id": "7b67cce0-b8e3-4979-9ffd-1f1fc75684fa",
   "metadata": {},
   "source": [
    "# Second dashboard for top games"
   ]
  },
  {
   "cell_type": "code",
   "execution_count": 42,
   "id": "b0141dd2-08be-48b1-b62a-b78087461b39",
   "metadata": {},
   "outputs": [
    {
     "data": {
      "text/plain": [
       "<Response [200]>"
      ]
     },
     "execution_count": 42,
     "metadata": {},
     "output_type": "execute_result"
    }
   ],
   "source": [
    "top_games = requests.get('https://api.twitch.tv/helix/games/top?first=100', headers=headers)\n",
    "top_games"
   ]
  },
  {
   "cell_type": "code",
   "execution_count": 54,
   "id": "8862e95d-6480-42a8-b549-f0a763d97d19",
   "metadata": {},
   "outputs": [],
   "source": [
    "games_list = top_games.json()['data']\n",
    "\n",
    "id_list = []\n",
    "for games in games_list:\n",
    "    id_list.append(games['id'])"
   ]
  },
  {
   "cell_type": "code",
   "execution_count": 52,
   "id": "222a753c-d2ba-49cf-9a3e-a40852bd2f00",
   "metadata": {},
   "outputs": [
    {
     "data": {
      "text/plain": [
       "'509658'"
      ]
     },
     "execution_count": 52,
     "metadata": {},
     "output_type": "execute_result"
    }
   ],
   "source": [
    "games_list[0]['id']"
   ]
  },
  {
   "cell_type": "code",
   "execution_count": 95,
   "id": "a0bd5bc8-727b-443b-8f42-2a0f71eaa755",
   "metadata": {},
   "outputs": [
    {
     "data": {
      "text/plain": [
       "100"
      ]
     },
     "execution_count": 95,
     "metadata": {},
     "output_type": "execute_result"
    }
   ],
   "source": [
    "len(id_list)"
   ]
  },
  {
   "cell_type": "code",
   "execution_count": 91,
   "id": "224bc67f-a679-47e9-8fb1-aad5af677f15",
   "metadata": {},
   "outputs": [],
   "source": [
    "\n",
    "id_string = '&game_id='.join(id_list)"
   ]
  },
  {
   "cell_type": "code",
   "execution_count": 92,
   "id": "0249c599-faa1-477d-9588-bffb77dab913",
   "metadata": {},
   "outputs": [
    {
     "data": {
      "text/plain": [
       "'509658&game_id=493597&game_id=512710&game_id=21779&game_id=32982&game_id=516575&game_id=518379&game_id=27471&game_id=24241&game_id=33214&game_id=498566&game_id=32399&game_id=511224&game_id=509549&game_id=509663&game_id=491931&game_id=18122&game_id=29595&game_id=491487&game_id=26936&game_id=460630&game_id=65632&game_id=513181&game_id=417752&game_id=138585&game_id=29307&game_id=505884&game_id=518204&game_id=493057&game_id=27546&game_id=394568&game_id=263490&game_id=513143&game_id=488552&game_id=491168&game_id=490393&game_id=518203&game_id=30921&game_id=488190&game_id=66082&game_id=386821&game_id=369252&game_id=509660&game_id=752590871&game_id=368205&game_id=512182&game_id=32507&game_id=490377&game_id=459931&game_id=11989&game_id=509659&game_id=502732&game_id=1614555304&game_id=32502&game_id=510218&game_id=490100&game_id=512709&game_id=497057&game_id=12839&game_id=490382&game_id=29452&game_id=514974&game_id=65627&game_id=1924769596&game_id=743&game_id=512980&game_id=509667&game_id=1241582824&game_id=1566403385&game_id=2748&game_id=504462&game_id=509672&game_id=66170&game_id=489776&game_id=518023&game_id=27284&game_id=65654&game_id=511181708&game_id=509670&game_id=491115&game_id=116747788&game_id=508967&game_id=491080&game_id=19619&game_id=498523&game_id=12189&game_id=500188&game_id=490812&game_id=13389&game_id=1829367372&game_id=514790&game_id=23020&game_id=19288&game_id=1001035119&game_id=489635&game_id=33966&game_id=490292&game_id=1242907947&game_id=495811&game_id=19554'"
      ]
     },
     "execution_count": 92,
     "metadata": {},
     "output_type": "execute_result"
    }
   ],
   "source": [
    "id_string"
   ]
  },
  {
   "cell_type": "code",
   "execution_count": 113,
   "id": "9709776a-a3da-4145-af13-8ef8f790bf27",
   "metadata": {},
   "outputs": [],
   "source": [
    "# top_game_streams = {}\n",
    "# for ids in id_list:\n",
    "#     top_game_streams.update((requests.get('https://api.twitch.tv/helix/streams?game_id='+id_list[0], headers=headers)).json()['data'])\n",
    "\n",
    "top_games_streams = (requests.get('https://api.twitch.tv/helix/streams?first=100&game_id='+id_list[0], headers=headers)).json()['data']\n"
   ]
  },
  {
   "cell_type": "code",
   "execution_count": 114,
   "id": "aa5b9951-8f27-4b52-9755-8d7c62d7430f",
   "metadata": {},
   "outputs": [
    {
     "data": {
      "text/plain": [
       "99"
      ]
     },
     "execution_count": 114,
     "metadata": {},
     "output_type": "execute_result"
    }
   ],
   "source": [
    "len(top_games_streams)"
   ]
  },
  {
   "cell_type": "code",
   "execution_count": null,
   "id": "2679af40-8032-4ac6-8437-56d4f7815132",
   "metadata": {},
   "outputs": [],
   "source": []
  },
  {
   "cell_type": "code",
   "execution_count": 109,
   "id": "333aa399-b3ee-4a6e-a513-0f18f6fec17b",
   "metadata": {},
   "outputs": [],
   "source": [
    "games_dict = {}\n",
    "for items in games_list:\n",
    "    games_dict[items['name']] = items['id']"
   ]
  },
  {
   "cell_type": "code",
   "execution_count": 110,
   "id": "aa094e52-b1e2-4fb6-85c3-33bf90210f49",
   "metadata": {},
   "outputs": [
    {
     "data": {
      "text/plain": [
       "{'Just Chatting': '509658',\n",
       " 'New World': '493597',\n",
       " 'Call of Duty: Warzone': '512710',\n",
       " 'League of Legends': '21779',\n",
       " 'Grand Theft Auto V': '32982',\n",
       " 'VALORANT': '516575',\n",
       " 'Pokémon Unite': '518379',\n",
       " 'Minecraft': '27471',\n",
       " 'Final Fantasy XIV Online': '24241',\n",
       " 'Fortnite': '33214',\n",
       " 'Slots': '498566',\n",
       " 'Counter-Strike: Global Offensive': '32399',\n",
       " 'Apex Legends': '511224',\n",
       " 'Pummel Party': '509549',\n",
       " 'Special Events': '509663',\n",
       " 'Escape from Tarkov': '491931',\n",
       " 'World of Warcraft': '18122',\n",
       " 'Dota 2': '29595',\n",
       " 'Dead by Daylight': '491487',\n",
       " 'Music': '26936',\n",
       " \"Tom Clancy's Rainbow Six Siege\": '460630',\n",
       " 'DayZ': '65632',\n",
       " 'Genshin Impact': '513181',\n",
       " 'Talk Shows & Podcasts': '417752',\n",
       " 'Hearthstone': '138585',\n",
       " 'Path of Exile': '29307',\n",
       " 'PUBG Mobile': '505884',\n",
       " 'FIFA 21': '518204',\n",
       " 'PUBG: BATTLEGROUNDS': '493057',\n",
       " 'World of Tanks': '27546',\n",
       " 'RimWorld': '394568',\n",
       " 'Rust': '263490',\n",
       " 'Teamfight Tactics': '513143',\n",
       " 'Overwatch': '488552',\n",
       " 'Clash Royale': '491168',\n",
       " 'Motorsport Manager': '490393',\n",
       " 'Sports': '518203',\n",
       " 'Rocket League': '30921',\n",
       " 'Poker': '488190',\n",
       " 'Games + Demos': '66082',\n",
       " 'Black Desert Online': '386821',\n",
       " 'The Sims 4': '369252',\n",
       " 'Art': '509660',\n",
       " 'F1 2021': '752590871',\n",
       " 'The Legend of Zelda: The Wind Waker HD': '368205',\n",
       " 'Lemnis Gate': '512182',\n",
       " 'SMITE': '32507',\n",
       " 'Sea of Thieves': '490377',\n",
       " 'Old School RuneScape': '459931',\n",
       " 'StarCraft': '11989',\n",
       " 'ASMR': '509659',\n",
       " 'Garena Free Fire': '502732',\n",
       " 'Call Of Duty: Modern Warfare': '1614555304',\n",
       " 'World of Warships': '32502',\n",
       " 'Among Us': '510218',\n",
       " 'LOST ARK': '490100',\n",
       " 'Call of Duty: Black Ops Cold War': '512709',\n",
       " 'Destiny 2': '497057',\n",
       " 'Heroes of Might and Magic III: The Restoration of Erathia': '12839',\n",
       " 'For Honor': '490382',\n",
       " 'Virtual Casino': '29452',\n",
       " 'Battlefield 2042': '514974',\n",
       " 'I Wanna Be The Boshy': '65627',\n",
       " 'Knockout City': '1924769596',\n",
       " 'Chess': '743',\n",
       " 'Fall Guys: Ultimate Knockout': '512980',\n",
       " 'Food & Drink': '509667',\n",
       " 'Farming Simulator 22': '1241582824',\n",
       " \"Death's Door\": '1566403385',\n",
       " 'Magic: The Gathering': '2748',\n",
       " 'Call of Duty: Black Ops 4': '504462',\n",
       " 'Travel & Outdoors': '509672',\n",
       " 'Warframe': '66170',\n",
       " 'Fallout 4': '489776',\n",
       " 'NBA 2K21': '518023',\n",
       " 'Retro': '27284',\n",
       " 'The Elder Scrolls Online': '65654',\n",
       " 'Dread Hunger': '511181708',\n",
       " 'Science & Technology': '509670',\n",
       " 'Paladins': '491115',\n",
       " 'Pools, Hot Tubs, and Beaches': '116747788',\n",
       " 'Axie Infinity': '508967',\n",
       " 'The Binding of Isaac: Repentance': '491080',\n",
       " 'Tibia': '19619',\n",
       " \"Conqueror's Blade\": '498523',\n",
       " 'Unreal Tournament 2004': '12189',\n",
       " 'Hunt: Showdown': '500188',\n",
       " 'Punch Club': '490812',\n",
       " 'Age of Empires II': '13389',\n",
       " 'The Legend of Zelda: Skyward Sword HD': '1829367372',\n",
       " 'Legends of Runeterra': '514790',\n",
       " 'Roblox': '23020',\n",
       " 'Wolfenstein': '19288',\n",
       " 'Labyrinth City: Pierre the Maze Detective': '1001035119',\n",
       " 'Ark: Survival Evolved': '489635',\n",
       " 'Orcs Must Die! 2': '33966',\n",
       " 'Dark Souls III': '490292',\n",
       " 'Monster Hunter Stories 2: Wings of Ruin': '1242907947',\n",
       " 'SCUM': '495811',\n",
       " 'iRacing': '19554'}"
      ]
     },
     "execution_count": 110,
     "metadata": {},
     "output_type": "execute_result"
    }
   ],
   "source": []
  },
  {
   "cell_type": "markdown",
   "id": "5945a014-27c7-4979-95e2-64b2545a0d12",
   "metadata": {},
   "source": [
    "# random game test"
   ]
  },
  {
   "cell_type": "code",
   "execution_count": 14,
   "id": "38cf959a-38f7-4d28-a261-08247f9ff7eb",
   "metadata": {},
   "outputs": [],
   "source": [
    "querey = 'Portal'\n",
    "random = requests.get('https://api.twitch.tv/helix/games?name='+querey, headers=headers)"
   ]
  },
  {
   "cell_type": "code",
   "execution_count": 15,
   "id": "2ac26801-45a2-4b10-a461-c1f7e858b991",
   "metadata": {},
   "outputs": [
    {
     "data": {
      "text/plain": [
       "<Response [200]>"
      ]
     },
     "execution_count": 15,
     "metadata": {},
     "output_type": "execute_result"
    }
   ],
   "source": [
    "random"
   ]
  },
  {
   "cell_type": "code",
   "execution_count": 21,
   "id": "b634f0f5-584e-4f31-91b8-0399ba826b08",
   "metadata": {},
   "outputs": [
    {
     "data": {
      "text/plain": [
       "'6187'"
      ]
     },
     "execution_count": 21,
     "metadata": {},
     "output_type": "execute_result"
    }
   ],
   "source": [
    "random.json()['data'][0]['id']"
   ]
  },
  {
   "cell_type": "code",
   "execution_count": null,
   "id": "0c9dba5e-2189-40d7-b71d-01947e19e226",
   "metadata": {},
   "outputs": [],
   "source": []
  }
 ],
 "metadata": {
  "kernelspec": {
   "display_name": "Python [conda env:metis] *",
   "language": "python",
   "name": "conda-env-metis-py"
  },
  "language_info": {
   "codemirror_mode": {
    "name": "ipython",
    "version": 3
   },
   "file_extension": ".py",
   "mimetype": "text/x-python",
   "name": "python",
   "nbconvert_exporter": "python",
   "pygments_lexer": "ipython3",
   "version": "3.8.10"
  }
 },
 "nbformat": 4,
 "nbformat_minor": 5
}
