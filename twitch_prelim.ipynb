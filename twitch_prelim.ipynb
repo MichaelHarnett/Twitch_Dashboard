{
 "cells": [
  {
   "cell_type": "code",
   "execution_count": 23,
   "id": "a1e87929-7320-411a-b403-0bb40f0a7a64",
   "metadata": {},
   "outputs": [],
   "source": [
    "import numpy as np\n",
    "import pandas as pd\n",
    "import requests\n"
   ]
  },
  {
   "cell_type": "code",
   "execution_count": 8,
   "id": "93ccd2e5-1dc1-4e0d-8087-21bf91a4ed18",
   "metadata": {},
   "outputs": [
    {
     "ename": "SyntaxError",
     "evalue": "invalid syntax (2655981949.py, line 1)",
     "output_type": "error",
     "traceback": [
      "\u001b[0;36m  File \u001b[0;32m\"/var/folders/xl/ftndz_9j3hn5ybffb6t5q42m0000gn/T/ipykernel_13942/2655981949.py\"\u001b[0;36m, line \u001b[0;32m1\u001b[0m\n\u001b[0;31m    response = requests.get('https://api.twitch.tv/kraken/streams/' --header 'client-id: tn9oskedgjzumaz7seved6dl8z642j')\u001b[0m\n\u001b[0m                                                                             ^\u001b[0m\n\u001b[0;31mSyntaxError\u001b[0m\u001b[0;31m:\u001b[0m invalid syntax\n"
     ]
    }
   ],
   "source": [
    "response = requests.get('https://api.twitch.tv/kraken/streams/' --header 'client-id: tn9oskedgjzumaz7seved6dl8z642j')"
   ]
  },
  {
   "cell_type": "code",
   "execution_count": 3,
   "id": "1fbac49c-5883-43c8-83be-14ab33df79fa",
   "metadata": {},
   "outputs": [
    {
     "data": {
      "text/plain": [
       "<Response [400]>"
      ]
     },
     "execution_count": 3,
     "metadata": {},
     "output_type": "execute_result"
    }
   ],
   "source": [
    "response"
   ]
  },
  {
   "cell_type": "code",
   "execution_count": 4,
   "id": "c9a4ee2e-ad77-423f-adea-1e1f1e27baf9",
   "metadata": {},
   "outputs": [],
   "source": [
    "text = response.json()"
   ]
  },
  {
   "cell_type": "code",
   "execution_count": 5,
   "id": "64c35cf6-d811-49f0-9e25-bbc6adea3f0a",
   "metadata": {},
   "outputs": [
    {
     "data": {
      "text/plain": [
       "{'error': 'Bad Request', 'status': 400, 'message': 'No client id specified'}"
      ]
     },
     "execution_count": 5,
     "metadata": {},
     "output_type": "execute_result"
    }
   ],
   "source": [
    "text"
   ]
  },
  {
   "cell_type": "code",
   "execution_count": 9,
   "id": "69759db0-a3d0-49c0-8a7f-23ef8ac2df34",
   "metadata": {},
   "outputs": [
    {
     "name": "stdout",
     "output_type": "stream",
     "text": [
      "Collecting python-twitch-client\n",
      "  Downloading python_twitch_client-0.7.1-py3-none-any.whl (20 kB)\n",
      "Requirement already satisfied: requests>=2.23.0 in /Users/michaelharnett/opt/anaconda3/envs/metis/lib/python3.8/site-packages (from python-twitch-client) (2.25.1)\n",
      "Requirement already satisfied: certifi>=2017.4.17 in /Users/michaelharnett/opt/anaconda3/envs/metis/lib/python3.8/site-packages (from requests>=2.23.0->python-twitch-client) (2021.5.30)\n",
      "Requirement already satisfied: urllib3<1.27,>=1.21.1 in /Users/michaelharnett/opt/anaconda3/envs/metis/lib/python3.8/site-packages (from requests>=2.23.0->python-twitch-client) (1.26.6)\n",
      "Requirement already satisfied: chardet<5,>=3.0.2 in /Users/michaelharnett/opt/anaconda3/envs/metis/lib/python3.8/site-packages (from requests>=2.23.0->python-twitch-client) (4.0.0)\n",
      "Requirement already satisfied: idna<3,>=2.5 in /Users/michaelharnett/opt/anaconda3/envs/metis/lib/python3.8/site-packages (from requests>=2.23.0->python-twitch-client) (2.10)\n",
      "Installing collected packages: python-twitch-client\n",
      "Successfully installed python-twitch-client-0.7.1\n"
     ]
    }
   ],
   "source": [
    "! pip install python-twitch-client"
   ]
  },
  {
   "cell_type": "code",
   "execution_count": 17,
   "id": "33b01e07-95c9-4b4e-ba6f-1c23536f812e",
   "metadata": {},
   "outputs": [],
   "source": [
    "from twitch import TwitchClient, TwitchHelix\n",
    "import twitch"
   ]
  },
  {
   "cell_type": "code",
   "execution_count": 28,
   "id": "db81fb9f-fc5b-4ba0-89d0-a0b2c40b65b1",
   "metadata": {},
   "outputs": [
    {
     "ename": "SyntaxError",
     "evalue": "invalid syntax (3022916776.py, line 2)",
     "output_type": "error",
     "traceback": [
      "\u001b[0;36m  File \u001b[0;32m\"/var/folders/xl/ftndz_9j3hn5ybffb6t5q42m0000gn/T/ipykernel_13942/3022916776.py\"\u001b[0;36m, line \u001b[0;32m2\u001b[0m\n\u001b[0;31m    scopes = [twitch.constants.analytics:read_extensions])\u001b[0m\n\u001b[0m                                        ^\u001b[0m\n\u001b[0;31mSyntaxError\u001b[0m\u001b[0;31m:\u001b[0m invalid syntax\n"
     ]
    }
   ],
   "source": [
    "client = twitch.TwitchHelix(client_id='tn9oskedgjzumaz7seved6dl8z642j', client_secret = '5bbdqqsykhqu6t4fhroopms0hcvy6w',\n",
    "                           scopes = [twitch.constants.analyticsread_extensions])"
   ]
  },
  {
   "cell_type": "code",
   "execution_count": 23,
   "id": "3a6d1da2-f8e8-4bbc-ac8c-2127364246c5",
   "metadata": {},
   "outputs": [
    {
     "ename": "HTTPError",
     "evalue": "401 Client Error: Unauthorized for url: https://api.twitch.tv/helix/streams?first=20",
     "output_type": "error",
     "traceback": [
      "\u001b[0;31m---------------------------------------------------------------------------\u001b[0m",
      "\u001b[0;31mHTTPError\u001b[0m                                 Traceback (most recent call last)",
      "\u001b[0;32m/var/folders/xl/ftndz_9j3hn5ybffb6t5q42m0000gn/T/ipykernel_13942/3215029991.py\u001b[0m in \u001b[0;36m<module>\u001b[0;34m\u001b[0m\n\u001b[0;32m----> 1\u001b[0;31m \u001b[0mclient\u001b[0m\u001b[0;34m.\u001b[0m\u001b[0mget_streams\u001b[0m\u001b[0;34m(\u001b[0m\u001b[0;34m)\u001b[0m\u001b[0;34m\u001b[0m\u001b[0;34m\u001b[0m\u001b[0m\n\u001b[0m",
      "\u001b[0;32m~/opt/anaconda3/envs/metis/lib/python3.8/site-packages/twitch/helix/api.py\u001b[0m in \u001b[0;36mget_streams\u001b[0;34m(self, after, before, community_ids, page_size, game_ids, languages, user_ids, user_logins)\u001b[0m\n\u001b[1;32m    101\u001b[0m         }\n\u001b[1;32m    102\u001b[0m \u001b[0;34m\u001b[0m\u001b[0m\n\u001b[0;32m--> 103\u001b[0;31m         return APICursor(\n\u001b[0m\u001b[1;32m    104\u001b[0m             \u001b[0mclient_id\u001b[0m\u001b[0;34m=\u001b[0m\u001b[0mself\u001b[0m\u001b[0;34m.\u001b[0m\u001b[0m_client_id\u001b[0m\u001b[0;34m,\u001b[0m\u001b[0;34m\u001b[0m\u001b[0;34m\u001b[0m\u001b[0m\n\u001b[1;32m    105\u001b[0m             \u001b[0moauth_token\u001b[0m\u001b[0;34m=\u001b[0m\u001b[0mself\u001b[0m\u001b[0;34m.\u001b[0m\u001b[0m_oauth_token\u001b[0m\u001b[0;34m,\u001b[0m\u001b[0;34m\u001b[0m\u001b[0;34m\u001b[0m\u001b[0m\n",
      "\u001b[0;32m~/opt/anaconda3/envs/metis/lib/python3.8/site-packages/twitch/helix/base.py\u001b[0m in \u001b[0;36m__init__\u001b[0;34m(self, client_id, path, resource, oauth_token, cursor, params)\u001b[0m\n\u001b[1;32m     76\u001b[0m \u001b[0;34m\u001b[0m\u001b[0m\n\u001b[1;32m     77\u001b[0m         \u001b[0;31m# Pre-fetch the first page as soon as cursor is instantiated\u001b[0m\u001b[0;34m\u001b[0m\u001b[0;34m\u001b[0m\u001b[0;34m\u001b[0m\u001b[0m\n\u001b[0;32m---> 78\u001b[0;31m         \u001b[0mself\u001b[0m\u001b[0;34m.\u001b[0m\u001b[0mnext_page\u001b[0m\u001b[0;34m(\u001b[0m\u001b[0;34m)\u001b[0m\u001b[0;34m\u001b[0m\u001b[0;34m\u001b[0m\u001b[0m\n\u001b[0m\u001b[1;32m     79\u001b[0m \u001b[0;34m\u001b[0m\u001b[0m\n\u001b[1;32m     80\u001b[0m     \u001b[0;32mdef\u001b[0m \u001b[0m__repr__\u001b[0m\u001b[0;34m(\u001b[0m\u001b[0mself\u001b[0m\u001b[0;34m)\u001b[0m\u001b[0;34m:\u001b[0m\u001b[0;34m\u001b[0m\u001b[0;34m\u001b[0m\u001b[0m\n",
      "\u001b[0;32m~/opt/anaconda3/envs/metis/lib/python3.8/site-packages/twitch/helix/base.py\u001b[0m in \u001b[0;36mnext_page\u001b[0;34m(self)\u001b[0m\n\u001b[1;32m    103\u001b[0m             \u001b[0mself\u001b[0m\u001b[0;34m.\u001b[0m\u001b[0m_params\u001b[0m\u001b[0;34m[\u001b[0m\u001b[0;34m\"after\"\u001b[0m\u001b[0;34m]\u001b[0m \u001b[0;34m=\u001b[0m \u001b[0mself\u001b[0m\u001b[0;34m.\u001b[0m\u001b[0m_cursor\u001b[0m\u001b[0;34m\u001b[0m\u001b[0;34m\u001b[0m\u001b[0m\n\u001b[1;32m    104\u001b[0m \u001b[0;34m\u001b[0m\u001b[0m\n\u001b[0;32m--> 105\u001b[0;31m         \u001b[0mresponse\u001b[0m \u001b[0;34m=\u001b[0m \u001b[0mself\u001b[0m\u001b[0;34m.\u001b[0m\u001b[0m_request_get\u001b[0m\u001b[0;34m(\u001b[0m\u001b[0mself\u001b[0m\u001b[0;34m.\u001b[0m\u001b[0m_path\u001b[0m\u001b[0;34m,\u001b[0m \u001b[0mparams\u001b[0m\u001b[0;34m=\u001b[0m\u001b[0mself\u001b[0m\u001b[0;34m.\u001b[0m\u001b[0m_params\u001b[0m\u001b[0;34m)\u001b[0m\u001b[0;34m\u001b[0m\u001b[0;34m\u001b[0m\u001b[0m\n\u001b[0m\u001b[1;32m    106\u001b[0m \u001b[0;34m\u001b[0m\u001b[0m\n\u001b[1;32m    107\u001b[0m         \u001b[0mself\u001b[0m\u001b[0;34m.\u001b[0m\u001b[0m_queue\u001b[0m \u001b[0;34m=\u001b[0m \u001b[0;34m[\u001b[0m\u001b[0mself\u001b[0m\u001b[0;34m.\u001b[0m\u001b[0m_resource\u001b[0m\u001b[0;34m.\u001b[0m\u001b[0mconstruct_from\u001b[0m\u001b[0;34m(\u001b[0m\u001b[0mdata\u001b[0m\u001b[0;34m)\u001b[0m \u001b[0;32mfor\u001b[0m \u001b[0mdata\u001b[0m \u001b[0;32min\u001b[0m \u001b[0mresponse\u001b[0m\u001b[0;34m[\u001b[0m\u001b[0;34m\"data\"\u001b[0m\u001b[0;34m]\u001b[0m\u001b[0;34m]\u001b[0m\u001b[0;34m\u001b[0m\u001b[0;34m\u001b[0m\u001b[0m\n",
      "\u001b[0;32m~/opt/anaconda3/envs/metis/lib/python3.8/site-packages/twitch/helix/base.py\u001b[0m in \u001b[0;36m_request_get\u001b[0;34m(self, path, params)\u001b[0m\n\u001b[1;32m     57\u001b[0m             \u001b[0;32mreturn\u001b[0m \u001b[0mself\u001b[0m\u001b[0;34m.\u001b[0m\u001b[0m_request_get\u001b[0m\u001b[0;34m(\u001b[0m\u001b[0mpath\u001b[0m\u001b[0;34m,\u001b[0m \u001b[0mparams\u001b[0m\u001b[0;34m=\u001b[0m\u001b[0mparams\u001b[0m\u001b[0;34m)\u001b[0m\u001b[0;34m\u001b[0m\u001b[0;34m\u001b[0m\u001b[0m\n\u001b[1;32m     58\u001b[0m \u001b[0;34m\u001b[0m\u001b[0m\n\u001b[0;32m---> 59\u001b[0;31m         \u001b[0mresponse\u001b[0m\u001b[0;34m.\u001b[0m\u001b[0mraise_for_status\u001b[0m\u001b[0;34m(\u001b[0m\u001b[0;34m)\u001b[0m\u001b[0;34m\u001b[0m\u001b[0;34m\u001b[0m\u001b[0m\n\u001b[0m\u001b[1;32m     60\u001b[0m         \u001b[0;32mreturn\u001b[0m \u001b[0mresponse\u001b[0m\u001b[0;34m.\u001b[0m\u001b[0mjson\u001b[0m\u001b[0;34m(\u001b[0m\u001b[0;34m)\u001b[0m\u001b[0;34m\u001b[0m\u001b[0;34m\u001b[0m\u001b[0m\n\u001b[1;32m     61\u001b[0m \u001b[0;34m\u001b[0m\u001b[0m\n",
      "\u001b[0;32m~/opt/anaconda3/envs/metis/lib/python3.8/site-packages/requests/models.py\u001b[0m in \u001b[0;36mraise_for_status\u001b[0;34m(self)\u001b[0m\n\u001b[1;32m    941\u001b[0m \u001b[0;34m\u001b[0m\u001b[0m\n\u001b[1;32m    942\u001b[0m         \u001b[0;32mif\u001b[0m \u001b[0mhttp_error_msg\u001b[0m\u001b[0;34m:\u001b[0m\u001b[0;34m\u001b[0m\u001b[0;34m\u001b[0m\u001b[0m\n\u001b[0;32m--> 943\u001b[0;31m             \u001b[0;32mraise\u001b[0m \u001b[0mHTTPError\u001b[0m\u001b[0;34m(\u001b[0m\u001b[0mhttp_error_msg\u001b[0m\u001b[0;34m,\u001b[0m \u001b[0mresponse\u001b[0m\u001b[0;34m=\u001b[0m\u001b[0mself\u001b[0m\u001b[0;34m)\u001b[0m\u001b[0;34m\u001b[0m\u001b[0;34m\u001b[0m\u001b[0m\n\u001b[0m\u001b[1;32m    944\u001b[0m \u001b[0;34m\u001b[0m\u001b[0m\n\u001b[1;32m    945\u001b[0m     \u001b[0;32mdef\u001b[0m \u001b[0mclose\u001b[0m\u001b[0;34m(\u001b[0m\u001b[0mself\u001b[0m\u001b[0;34m)\u001b[0m\u001b[0;34m:\u001b[0m\u001b[0;34m\u001b[0m\u001b[0;34m\u001b[0m\u001b[0m\n",
      "\u001b[0;31mHTTPError\u001b[0m: 401 Client Error: Unauthorized for url: https://api.twitch.tv/helix/streams?first=20"
     ]
    }
   ],
   "source": [
    "client.get_streams()"
   ]
  },
  {
   "cell_type": "code",
   "execution_count": 8,
   "id": "54dba5fc-08dd-4e60-8fd1-cb4ff89e0d30",
   "metadata": {},
   "outputs": [],
   "source": [
    "code = requests.post('https://id.twitch.tv/oauth2/token?client_id=tn9oskedgjzumaz7seved6dl8z642j\\&client_secret=5bbdqqsykhqu6t4fhroopms0hcvy6w')\n",
    "#     &grant_type=client_credentials\n",
    "#     &scope=<space-separated list of scopes>"
   ]
  },
  {
   "cell_type": "code",
   "execution_count": 9,
   "id": "ffec98b4-2628-46ac-88c2-41e5a2f03111",
   "metadata": {},
   "outputs": [
    {
     "data": {
      "text/plain": [
       "<Response [400]>"
      ]
     },
     "execution_count": 9,
     "metadata": {},
     "output_type": "execute_result"
    }
   ],
   "source": [
    "code"
   ]
  },
  {
   "cell_type": "markdown",
   "id": "4bc678bf-a562-4545-a843-3399b4a25efc",
   "metadata": {},
   "source": [
    "# Works best\n",
    "if I slplit the client_id and secret inot their own variables, and include variable names in the post request."
   ]
  },
  {
   "cell_type": "code",
   "execution_count": 13,
   "id": "6a8412ff-67a5-47b9-8e68-a8ed538cb2ca",
   "metadata": {},
   "outputs": [],
   "source": [
    "client_id = 'tn9oskedgjzumaz7seved6dl8z642j'\n",
    "client_secret = '5bbdqqsykhqu6t4fhroopms0hcvy6w'"
   ]
  },
  {
   "cell_type": "code",
   "execution_count": 16,
   "id": "f2d8f781-ebf6-451b-9d0c-5945d6b7fce0",
   "metadata": {},
   "outputs": [],
   "source": [
    "access_code = requests.post('https://id.twitch.tv/oauth2/token?client_id='+client_id+\\\n",
    "                            '&client_secret='+client_secret+\\\n",
    "                            '&grant_type=client_credentials')\n",
    "                            "
   ]
  },
  {
   "cell_type": "code",
   "execution_count": 17,
   "id": "11413540-ac64-4ebd-83f0-be9b17f837c0",
   "metadata": {},
   "outputs": [
    {
     "data": {
      "text/plain": [
       "<Response [200]>"
      ]
     },
     "execution_count": 17,
     "metadata": {},
     "output_type": "execute_result"
    }
   ],
   "source": [
    "access_code"
   ]
  },
  {
   "cell_type": "code",
   "execution_count": 28,
   "id": "e4251c40-5889-4e06-9e79-6fd055fe54c6",
   "metadata": {},
   "outputs": [
    {
     "data": {
      "text/plain": [
       "'jb4j58ej3fegtprbli9nmiq5dmhx43'"
      ]
     },
     "execution_count": 28,
     "metadata": {},
     "output_type": "execute_result"
    }
   ],
   "source": [
    "#OAuth access token unuiqe to my 'research' app\n",
    "\n",
    "access_token = access_code.json()['access_token']\n",
    "access_token"
   ]
  },
  {
   "cell_type": "code",
   "execution_count": 54,
   "id": "c030b4a3-153f-4771-b0bf-930e6e8387e0",
   "metadata": {},
   "outputs": [],
   "source": [
    "#FINALLY took forever, but client ID must be included in requests WITH the authorization!\n",
    "\n",
    "headers = {\n",
    "    'Client-ID' : client_id,\n",
    "    'Authorization' : 'Bearer '+access_token\n",
    "}\n"
   ]
  },
  {
   "cell_type": "code",
   "execution_count": 58,
   "id": "eb96a333-4bb3-43c7-9959-0d9ebe96c6d0",
   "metadata": {},
   "outputs": [],
   "source": [
    "top_games = requests.get('https://api.twitch.tv/helix/games/top', headers=headers)"
   ]
  },
  {
   "cell_type": "code",
   "execution_count": 59,
   "id": "bdb8ffa5-bd0a-490d-9726-ae5275c41ffb",
   "metadata": {},
   "outputs": [
    {
     "data": {
      "text/plain": [
       "<Response [200]>"
      ]
     },
     "execution_count": 59,
     "metadata": {},
     "output_type": "execute_result"
    }
   ],
   "source": [
    "top_games"
   ]
  },
  {
   "cell_type": "code",
   "execution_count": 71,
   "id": "5f5fa622-0b09-4fe0-ad46-7d0f0a75fe53",
   "metadata": {},
   "outputs": [
    {
     "data": {
      "text/plain": [
       "{'data': [{'id': '493597',\n",
       "   'name': 'New World',\n",
       "   'box_art_url': 'https://static-cdn.jtvnw.net/ttv-boxart/New%20World-{width}x{height}.jpg'},\n",
       "  {'id': '509658',\n",
       "   'name': 'Just Chatting',\n",
       "   'box_art_url': 'https://static-cdn.jtvnw.net/ttv-boxart/Just%20Chatting-{width}x{height}.jpg'},\n",
       "  {'id': '32982',\n",
       "   'name': 'Grand Theft Auto V',\n",
       "   'box_art_url': 'https://static-cdn.jtvnw.net/ttv-boxart/Grand%20Theft%20Auto%20V-{width}x{height}.jpg'},\n",
       "  {'id': '27471',\n",
       "   'name': 'Minecraft',\n",
       "   'box_art_url': 'https://static-cdn.jtvnw.net/ttv-boxart/Minecraft-{width}x{height}.jpg'},\n",
       "  {'id': '33214',\n",
       "   'name': 'Fortnite',\n",
       "   'box_art_url': 'https://static-cdn.jtvnw.net/ttv-boxart/Fortnite-{width}x{height}.jpg'},\n",
       "  {'id': '512710',\n",
       "   'name': 'Call of Duty: Warzone',\n",
       "   'box_art_url': 'https://static-cdn.jtvnw.net/ttv-boxart/./Call%20of%20Duty:%20Warzone-{width}x{height}.jpg'},\n",
       "  {'id': '21779',\n",
       "   'name': 'League of Legends',\n",
       "   'box_art_url': 'https://static-cdn.jtvnw.net/ttv-boxart/League%20of%20Legends-{width}x{height}.jpg'},\n",
       "  {'id': '65632',\n",
       "   'name': 'DayZ',\n",
       "   'box_art_url': 'https://static-cdn.jtvnw.net/ttv-boxart/DayZ-{width}x{height}.jpg'},\n",
       "  {'id': '18122',\n",
       "   'name': 'World of Warcraft',\n",
       "   'box_art_url': 'https://static-cdn.jtvnw.net/ttv-boxart/World%20of%20Warcraft-{width}x{height}.jpg'},\n",
       "  {'id': '508948',\n",
       "   'name': 'Raid: Shadow Legends',\n",
       "   'box_art_url': 'https://static-cdn.jtvnw.net/ttv-boxart/./Raid:%20Shadow%20Legends-{width}x{height}.jpg'},\n",
       "  {'id': '516575',\n",
       "   'name': 'VALORANT',\n",
       "   'box_art_url': 'https://static-cdn.jtvnw.net/ttv-boxart/VALORANT-{width}x{height}.jpg'},\n",
       "  {'id': '263490',\n",
       "   'name': 'Rust',\n",
       "   'box_art_url': 'https://static-cdn.jtvnw.net/ttv-boxart/Rust-{width}x{height}.jpg'},\n",
       "  {'id': '511224',\n",
       "   'name': 'Apex Legends',\n",
       "   'box_art_url': 'https://static-cdn.jtvnw.net/ttv-boxart/Apex%20Legends-{width}x{height}.jpg'},\n",
       "  {'id': '29595',\n",
       "   'name': 'Dota 2',\n",
       "   'box_art_url': 'https://static-cdn.jtvnw.net/ttv-boxart/Dota%202-{width}x{height}.jpg'},\n",
       "  {'id': '498566',\n",
       "   'name': 'Slots',\n",
       "   'box_art_url': 'https://static-cdn.jtvnw.net/ttv-boxart/Slots-{width}x{height}.jpg'},\n",
       "  {'id': '32399',\n",
       "   'name': 'Counter-Strike: Global Offensive',\n",
       "   'box_art_url': 'https://static-cdn.jtvnw.net/ttv-boxart/./Counter-Strike:%20Global%20Offensive-{width}x{height}.jpg'},\n",
       "  {'id': '491931',\n",
       "   'name': 'Escape from Tarkov',\n",
       "   'box_art_url': 'https://static-cdn.jtvnw.net/ttv-boxart/Escape%20from%20Tarkov-{width}x{height}.jpg'},\n",
       "  {'id': '510218',\n",
       "   'name': 'Among Us',\n",
       "   'box_art_url': 'https://static-cdn.jtvnw.net/ttv-boxart/Among%20Us-{width}x{height}.jpg'},\n",
       "  {'id': '460630',\n",
       "   'name': \"Tom Clancy's Rainbow Six Siege\",\n",
       "   'box_art_url': 'https://static-cdn.jtvnw.net/ttv-boxart/Tom%20Clancy%27s%20Rainbow%20Six%20Siege-{width}x{height}.jpg'},\n",
       "  {'id': '491487',\n",
       "   'name': 'Dead by Daylight',\n",
       "   'box_art_url': 'https://static-cdn.jtvnw.net/ttv-boxart/Dead%20by%20Daylight-{width}x{height}.jpg'}],\n",
       " 'pagination': {'cursor': 'eyJzIjoyMCwiZCI6ZmFsc2UsInQiOnRydWV9'}}"
      ]
     },
     "execution_count": 71,
     "metadata": {},
     "output_type": "execute_result"
    }
   ],
   "source": [
    "top_games.json()"
   ]
  },
  {
   "cell_type": "code",
   "execution_count": 64,
   "id": "adfd5f97-e30d-4e77-8cb8-25b46d818279",
   "metadata": {},
   "outputs": [
    {
     "data": {
      "text/plain": [
       "<Response [200]>"
      ]
     },
     "execution_count": 64,
     "metadata": {},
     "output_type": "execute_result"
    }
   ],
   "source": [
    "top_streams = requests.get('https://api.twitch.tv/helix/streams?first=100', headers=headers)\n",
    "top_streams"
   ]
  },
  {
   "cell_type": "code",
   "execution_count": 74,
   "id": "c1b0d191-a223-408d-b2d4-82df60b78648",
   "metadata": {},
   "outputs": [],
   "source": [
    "top_streams_df = pd.DataFrame(top_streams.json()['data'])"
   ]
  },
  {
   "cell_type": "code",
   "execution_count": 78,
   "id": "241842be-eb69-4668-99fb-469fef2152db",
   "metadata": {},
   "outputs": [],
   "source": [
    "top_streams_df.to_csv(r'/users/michaelharnett/desktop/metis/projects/twitch_dashboard/streams.csv', index=False)"
   ]
  },
  {
   "cell_type": "code",
   "execution_count": null,
   "id": "b92edb6a-ace2-4012-9d28-e597c35fdbc4",
   "metadata": {},
   "outputs": [],
   "source": []
  }
 ],
 "metadata": {
  "kernelspec": {
   "display_name": "Python [conda env:metis] *",
   "language": "python",
   "name": "conda-env-metis-py"
  },
  "language_info": {
   "codemirror_mode": {
    "name": "ipython",
    "version": 3
   },
   "file_extension": ".py",
   "mimetype": "text/x-python",
   "name": "python",
   "nbconvert_exporter": "python",
   "pygments_lexer": "ipython3",
   "version": "3.8.10"
  }
 },
 "nbformat": 4,
 "nbformat_minor": 5
}
