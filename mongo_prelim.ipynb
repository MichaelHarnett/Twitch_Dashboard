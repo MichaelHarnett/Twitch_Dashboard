{
 "cells": [
  {
   "cell_type": "code",
   "execution_count": 1,
   "id": "bc167adc-5021-4fc5-84d9-6ed46ae6c19c",
   "metadata": {},
   "outputs": [],
   "source": [
    "from pymongo import MongoClient\n",
    "from pprint import pprint\n"
   ]
  },
  {
   "cell_type": "code",
   "execution_count": 2,
   "id": "d5fbbf2f-e72f-47eb-ab07-008b72efa547",
   "metadata": {},
   "outputs": [],
   "source": [
    "import numpy as np\n",
    "import pandas as pd\n",
    "import requests"
   ]
  },
  {
   "cell_type": "code",
   "execution_count": 3,
   "id": "97be93ad-91cc-4c86-a25a-1eb824f2d14c",
   "metadata": {},
   "outputs": [],
   "source": [
    "import datetime as dt"
   ]
  },
  {
   "cell_type": "code",
   "execution_count": 33,
   "id": "0740dfdb-9d46-4978-984b-50bb736df7a7",
   "metadata": {},
   "outputs": [],
   "source": [
    "import config"
   ]
  },
  {
   "cell_type": "code",
   "execution_count": 5,
   "id": "aa2a8b1d-f1d3-49e4-9183-c8bf22342e4f",
   "metadata": {},
   "outputs": [],
   "source": [
    "client = MongoClient()"
   ]
  },
  {
   "cell_type": "code",
   "execution_count": 8,
   "id": "59e78206-21ff-4659-ac63-8176a6be90c0",
   "metadata": {},
   "outputs": [
    {
     "data": {
      "text/plain": [
       "MongoClient(host=['localhost:27017'], document_class=dict, tz_aware=False, connect=True)"
      ]
     },
     "execution_count": 8,
     "metadata": {},
     "output_type": "execute_result"
    }
   ],
   "source": [
    "client"
   ]
  },
  {
   "cell_type": "code",
   "execution_count": 9,
   "id": "2e918775-81cb-4eac-9875-fd94cba280b0",
   "metadata": {},
   "outputs": [
    {
     "data": {
      "text/plain": [
       "Database(MongoClient(host=['localhost:27017'], document_class=dict, tz_aware=False, connect=True), 'collection_names')"
      ]
     },
     "execution_count": 9,
     "metadata": {},
     "output_type": "execute_result"
    }
   ],
   "source": [
    "client.collection_names"
   ]
  },
  {
   "cell_type": "code",
   "execution_count": 10,
   "id": "f2e10103-fd19-432c-bf64-576bbad27b03",
   "metadata": {},
   "outputs": [],
   "source": [
    "db = client.twitch"
   ]
  },
  {
   "cell_type": "code",
   "execution_count": 11,
   "id": "f49806b5-1791-4aaf-bd8c-687b98d8bed9",
   "metadata": {},
   "outputs": [
    {
     "name": "stderr",
     "output_type": "stream",
     "text": [
      "/var/folders/xl/ftndz_9j3hn5ybffb6t5q42m0000gn/T/ipykernel_41651/1579878703.py:1: DeprecationWarning: collection_names is deprecated. Use list_collection_names instead.\n",
      "  db.collection_names()\n"
     ]
    },
    {
     "data": {
      "text/plain": [
       "['top_games', 'top_streams']"
      ]
     },
     "execution_count": 11,
     "metadata": {},
     "output_type": "execute_result"
    }
   ],
   "source": [
    "db.collection_names()"
   ]
  },
  {
   "cell_type": "code",
   "execution_count": 6,
   "id": "5233ef0c-ae71-468e-9dab-1c23200d3464",
   "metadata": {},
   "outputs": [
    {
     "ename": "ServerSelectionTimeoutError",
     "evalue": "localhost:27017: [Errno 61] Connection refused, Timeout: 30s, Topology Description: <TopologyDescription id: 6114e2c74fa5542a5e085dee, topology_type: Single, servers: [<ServerDescription ('localhost', 27017) server_type: Unknown, rtt: None, error=AutoReconnect('localhost:27017: [Errno 61] Connection refused')>]>",
     "output_type": "error",
     "traceback": [
      "\u001b[0;31m---------------------------------------------------------------------------\u001b[0m",
      "\u001b[0;31mServerSelectionTimeoutError\u001b[0m               Traceback (most recent call last)",
      "\u001b[0;32m/var/folders/xl/ftndz_9j3hn5ybffb6t5q42m0000gn/T/ipykernel_23681/1922392303.py\u001b[0m in \u001b[0;36m<module>\u001b[0;34m\u001b[0m\n\u001b[0;32m----> 1\u001b[0;31m \u001b[0mclient\u001b[0m\u001b[0;34m.\u001b[0m\u001b[0mlist_database_names\u001b[0m\u001b[0;34m(\u001b[0m\u001b[0;34m)\u001b[0m\u001b[0;34m\u001b[0m\u001b[0;34m\u001b[0m\u001b[0m\n\u001b[0m",
      "\u001b[0;32m~/opt/anaconda3/envs/metis/lib/python3.8/site-packages/pymongo/mongo_client.py\u001b[0m in \u001b[0;36mlist_database_names\u001b[0;34m(self, session)\u001b[0m\n\u001b[1;32m   1916\u001b[0m         \"\"\"\n\u001b[1;32m   1917\u001b[0m         return [doc[\"name\"]\n\u001b[0;32m-> 1918\u001b[0;31m                 for doc in self.list_databases(session, nameOnly=True)]\n\u001b[0m\u001b[1;32m   1919\u001b[0m \u001b[0;34m\u001b[0m\u001b[0m\n\u001b[1;32m   1920\u001b[0m     \u001b[0;32mdef\u001b[0m \u001b[0mdatabase_names\u001b[0m\u001b[0;34m(\u001b[0m\u001b[0mself\u001b[0m\u001b[0;34m,\u001b[0m \u001b[0msession\u001b[0m\u001b[0;34m=\u001b[0m\u001b[0;32mNone\u001b[0m\u001b[0;34m)\u001b[0m\u001b[0;34m:\u001b[0m\u001b[0;34m\u001b[0m\u001b[0;34m\u001b[0m\u001b[0m\n",
      "\u001b[0;32m~/opt/anaconda3/envs/metis/lib/python3.8/site-packages/pymongo/mongo_client.py\u001b[0m in \u001b[0;36mlist_databases\u001b[0;34m(self, session, **kwargs)\u001b[0m\n\u001b[1;32m   1897\u001b[0m         \u001b[0mcmd\u001b[0m\u001b[0;34m.\u001b[0m\u001b[0mupdate\u001b[0m\u001b[0;34m(\u001b[0m\u001b[0mkwargs\u001b[0m\u001b[0;34m)\u001b[0m\u001b[0;34m\u001b[0m\u001b[0;34m\u001b[0m\u001b[0m\n\u001b[1;32m   1898\u001b[0m         \u001b[0madmin\u001b[0m \u001b[0;34m=\u001b[0m \u001b[0mself\u001b[0m\u001b[0;34m.\u001b[0m\u001b[0m_database_default_options\u001b[0m\u001b[0;34m(\u001b[0m\u001b[0;34m\"admin\"\u001b[0m\u001b[0;34m)\u001b[0m\u001b[0;34m\u001b[0m\u001b[0;34m\u001b[0m\u001b[0m\n\u001b[0;32m-> 1899\u001b[0;31m         \u001b[0mres\u001b[0m \u001b[0;34m=\u001b[0m \u001b[0madmin\u001b[0m\u001b[0;34m.\u001b[0m\u001b[0m_retryable_read_command\u001b[0m\u001b[0;34m(\u001b[0m\u001b[0mcmd\u001b[0m\u001b[0;34m,\u001b[0m \u001b[0msession\u001b[0m\u001b[0;34m=\u001b[0m\u001b[0msession\u001b[0m\u001b[0;34m)\u001b[0m\u001b[0;34m\u001b[0m\u001b[0;34m\u001b[0m\u001b[0m\n\u001b[0m\u001b[1;32m   1900\u001b[0m         \u001b[0;31m# listDatabases doesn't return a cursor (yet). Fake one.\u001b[0m\u001b[0;34m\u001b[0m\u001b[0;34m\u001b[0m\u001b[0;34m\u001b[0m\u001b[0m\n\u001b[1;32m   1901\u001b[0m         cursor = {\n",
      "\u001b[0;32m~/opt/anaconda3/envs/metis/lib/python3.8/site-packages/pymongo/database.py\u001b[0m in \u001b[0;36m_retryable_read_command\u001b[0;34m(self, command, value, check, allowable_errors, read_preference, codec_options, session, **kwargs)\u001b[0m\n\u001b[1;32m    753\u001b[0m                                  codec_options, session=session, **kwargs)\n\u001b[1;32m    754\u001b[0m \u001b[0;34m\u001b[0m\u001b[0m\n\u001b[0;32m--> 755\u001b[0;31m         return self.__client._retryable_read(\n\u001b[0m\u001b[1;32m    756\u001b[0m             _cmd, read_preference, session)\n\u001b[1;32m    757\u001b[0m \u001b[0;34m\u001b[0m\u001b[0m\n",
      "\u001b[0;32m~/opt/anaconda3/envs/metis/lib/python3.8/site-packages/pymongo/mongo_client.py\u001b[0m in \u001b[0;36m_retryable_read\u001b[0;34m(self, func, read_pref, session, address, retryable, exhaust)\u001b[0m\n\u001b[1;32m   1458\u001b[0m         \u001b[0;32mwhile\u001b[0m \u001b[0;32mTrue\u001b[0m\u001b[0;34m:\u001b[0m\u001b[0;34m\u001b[0m\u001b[0;34m\u001b[0m\u001b[0m\n\u001b[1;32m   1459\u001b[0m             \u001b[0;32mtry\u001b[0m\u001b[0;34m:\u001b[0m\u001b[0;34m\u001b[0m\u001b[0;34m\u001b[0m\u001b[0m\n\u001b[0;32m-> 1460\u001b[0;31m                 server = self._select_server(\n\u001b[0m\u001b[1;32m   1461\u001b[0m                     read_pref, session, address=address)\n\u001b[1;32m   1462\u001b[0m                 \u001b[0;32mif\u001b[0m \u001b[0;32mnot\u001b[0m \u001b[0mserver\u001b[0m\u001b[0;34m.\u001b[0m\u001b[0mdescription\u001b[0m\u001b[0;34m.\u001b[0m\u001b[0mretryable_reads_supported\u001b[0m\u001b[0;34m:\u001b[0m\u001b[0;34m\u001b[0m\u001b[0;34m\u001b[0m\u001b[0m\n",
      "\u001b[0;32m~/opt/anaconda3/envs/metis/lib/python3.8/site-packages/pymongo/mongo_client.py\u001b[0m in \u001b[0;36m_select_server\u001b[0;34m(self, server_selector, session, address)\u001b[0m\n\u001b[1;32m   1276\u001b[0m                                         % address)\n\u001b[1;32m   1277\u001b[0m             \u001b[0;32melse\u001b[0m\u001b[0;34m:\u001b[0m\u001b[0;34m\u001b[0m\u001b[0;34m\u001b[0m\u001b[0m\n\u001b[0;32m-> 1278\u001b[0;31m                 \u001b[0mserver\u001b[0m \u001b[0;34m=\u001b[0m \u001b[0mtopology\u001b[0m\u001b[0;34m.\u001b[0m\u001b[0mselect_server\u001b[0m\u001b[0;34m(\u001b[0m\u001b[0mserver_selector\u001b[0m\u001b[0;34m)\u001b[0m\u001b[0;34m\u001b[0m\u001b[0;34m\u001b[0m\u001b[0m\n\u001b[0m\u001b[1;32m   1279\u001b[0m                 \u001b[0;31m# Pin this session to the selected server if it's performing a\u001b[0m\u001b[0;34m\u001b[0m\u001b[0;34m\u001b[0m\u001b[0;34m\u001b[0m\u001b[0m\n\u001b[1;32m   1280\u001b[0m                 \u001b[0;31m# sharded transaction.\u001b[0m\u001b[0;34m\u001b[0m\u001b[0;34m\u001b[0m\u001b[0;34m\u001b[0m\u001b[0m\n",
      "\u001b[0;32m~/opt/anaconda3/envs/metis/lib/python3.8/site-packages/pymongo/topology.py\u001b[0m in \u001b[0;36mselect_server\u001b[0;34m(self, selector, server_selection_timeout, address)\u001b[0m\n\u001b[1;32m    239\u001b[0m                       address=None):\n\u001b[1;32m    240\u001b[0m         \u001b[0;34m\"\"\"Like select_servers, but choose a random server if several match.\"\"\"\u001b[0m\u001b[0;34m\u001b[0m\u001b[0;34m\u001b[0m\u001b[0m\n\u001b[0;32m--> 241\u001b[0;31m         return random.choice(self.select_servers(selector,\n\u001b[0m\u001b[1;32m    242\u001b[0m                                                  \u001b[0mserver_selection_timeout\u001b[0m\u001b[0;34m,\u001b[0m\u001b[0;34m\u001b[0m\u001b[0;34m\u001b[0m\u001b[0m\n\u001b[1;32m    243\u001b[0m                                                  address))\n",
      "\u001b[0;32m~/opt/anaconda3/envs/metis/lib/python3.8/site-packages/pymongo/topology.py\u001b[0m in \u001b[0;36mselect_servers\u001b[0;34m(self, selector, server_selection_timeout, address)\u001b[0m\n\u001b[1;32m    197\u001b[0m \u001b[0;34m\u001b[0m\u001b[0m\n\u001b[1;32m    198\u001b[0m         \u001b[0;32mwith\u001b[0m \u001b[0mself\u001b[0m\u001b[0;34m.\u001b[0m\u001b[0m_lock\u001b[0m\u001b[0;34m:\u001b[0m\u001b[0;34m\u001b[0m\u001b[0;34m\u001b[0m\u001b[0m\n\u001b[0;32m--> 199\u001b[0;31m             server_descriptions = self._select_servers_loop(\n\u001b[0m\u001b[1;32m    200\u001b[0m                 selector, server_timeout, address)\n\u001b[1;32m    201\u001b[0m \u001b[0;34m\u001b[0m\u001b[0m\n",
      "\u001b[0;32m~/opt/anaconda3/envs/metis/lib/python3.8/site-packages/pymongo/topology.py\u001b[0m in \u001b[0;36m_select_servers_loop\u001b[0;34m(self, selector, timeout, address)\u001b[0m\n\u001b[1;32m    213\u001b[0m             \u001b[0;31m# No suitable servers.\u001b[0m\u001b[0;34m\u001b[0m\u001b[0;34m\u001b[0m\u001b[0;34m\u001b[0m\u001b[0m\n\u001b[1;32m    214\u001b[0m             \u001b[0;32mif\u001b[0m \u001b[0mtimeout\u001b[0m \u001b[0;34m==\u001b[0m \u001b[0;36m0\u001b[0m \u001b[0;32mor\u001b[0m \u001b[0mnow\u001b[0m \u001b[0;34m>\u001b[0m \u001b[0mend_time\u001b[0m\u001b[0;34m:\u001b[0m\u001b[0;34m\u001b[0m\u001b[0;34m\u001b[0m\u001b[0m\n\u001b[0;32m--> 215\u001b[0;31m                 raise ServerSelectionTimeoutError(\n\u001b[0m\u001b[1;32m    216\u001b[0m                     \u001b[0;34m\"%s, Timeout: %ss, Topology Description: %r\"\u001b[0m \u001b[0;34m%\u001b[0m\u001b[0;34m\u001b[0m\u001b[0;34m\u001b[0m\u001b[0m\n\u001b[1;32m    217\u001b[0m                     (self._error_message(selector), timeout, self.description))\n",
      "\u001b[0;31mServerSelectionTimeoutError\u001b[0m: localhost:27017: [Errno 61] Connection refused, Timeout: 30s, Topology Description: <TopologyDescription id: 6114e2c74fa5542a5e085dee, topology_type: Single, servers: [<ServerDescription ('localhost', 27017) server_type: Unknown, rtt: None, error=AutoReconnect('localhost:27017: [Errno 61] Connection refused')>]>"
     ]
    }
   ],
   "source": [
    "client.list_database_names()"
   ]
  },
  {
   "cell_type": "markdown",
   "id": "b0aba25a-6ed4-42cd-a898-29d05afd91e3",
   "metadata": {},
   "source": [
    "# Creating twitch db.\n",
    "\n",
    "I'm going to create a new database \"Twitch\" for this information. For now, I am just going to do one steam API pull for top streams, and see insert it into my database"
   ]
  },
  {
   "cell_type": "code",
   "execution_count": 12,
   "id": "974485d7-ad1a-4c91-91bb-30453558aba4",
   "metadata": {},
   "outputs": [],
   "source": [
    "db = client.twitch"
   ]
  },
  {
   "cell_type": "code",
   "execution_count": 13,
   "id": "c3dab9ba-9a9e-464e-811c-451bea5f2f26",
   "metadata": {},
   "outputs": [],
   "source": [
    "## setting up twitch api permissions - taken from twitch_prelim notebook\n",
    "# sensitive information removed, added to config file\n",
    "\n",
    "client_id = \n",
    "client_secret = \n",
    "\n",
    "access_code = requests.post('https://id.twitch.tv/oauth2/token?client_id='+client_id+\\\n",
    "                            '&client_secret='+client_secret+\\\n",
    "                            '&grant_type=client_credentials')\n",
    "\n",
    "access_token = access_code.json()['access_token']\n",
    "\n",
    "\n",
    "headers = {\n",
    "    'Client-ID' : client_id,\n",
    "    'Authorization' : 'Bearer '+access_token\n",
    "}\n",
    "\n",
    "top_streams_pull = requests.get('https://api.twitch.tv/helix/streams?first=100', headers=headers)\n"
   ]
  },
  {
   "cell_type": "code",
   "execution_count": 20,
   "id": "ef63ff6f-c946-4fdb-89fd-da37cce6ee5a",
   "metadata": {},
   "outputs": [
    {
     "data": {
      "text/plain": [
       "<Response [200]>"
      ]
     },
     "execution_count": 20,
     "metadata": {},
     "output_type": "execute_result"
    }
   ],
   "source": [
    "top_streams_pull = requests.get('https://api.twitch.tv/helix/streams?first=100', headers=headers)\n",
    "top_streams_pull"
   ]
  },
  {
   "cell_type": "code",
   "execution_count": 21,
   "id": "b0eeeee5-209b-4ffb-8a3f-7afcf5e367e2",
   "metadata": {},
   "outputs": [
    {
     "data": {
      "text/plain": [
       "100"
      ]
     },
     "execution_count": 21,
     "metadata": {},
     "output_type": "execute_result"
    }
   ],
   "source": [
    "text = top_streams_pull.json()['data']\n",
    "len(text)"
   ]
  },
  {
   "cell_type": "code",
   "execution_count": 22,
   "id": "0102847e-deab-4676-984d-8c2ddad25bc5",
   "metadata": {},
   "outputs": [],
   "source": [
    "top_streams = db.top_streams"
   ]
  },
  {
   "cell_type": "code",
   "execution_count": 23,
   "id": "cfdf02f4-c54b-4466-9878-cdddcd731ddf",
   "metadata": {},
   "outputs": [
    {
     "data": {
      "text/plain": [
       "<pymongo.results.InsertManyResult at 0x7f9387468ec0>"
      ]
     },
     "execution_count": 23,
     "metadata": {},
     "output_type": "execute_result"
    }
   ],
   "source": [
    "db.top_streams.insert_many(text)"
   ]
  },
  {
   "cell_type": "code",
   "execution_count": 18,
   "id": "336d26f8-041a-4f5c-96df-5abdd23487a1",
   "metadata": {},
   "outputs": [
    {
     "data": {
      "text/plain": [
       "['top_games', 'top_streams']"
      ]
     },
     "execution_count": 18,
     "metadata": {},
     "output_type": "execute_result"
    }
   ],
   "source": [
    "db.list_collection_names()"
   ]
  },
  {
   "cell_type": "code",
   "execution_count": 19,
   "id": "7c7689e0-ec20-4400-a8fa-15755dad4de2",
   "metadata": {},
   "outputs": [
    {
     "data": {
      "text/plain": [
       "200"
      ]
     },
     "execution_count": 19,
     "metadata": {},
     "output_type": "execute_result"
    }
   ],
   "source": [
    "top_streams.count_documents({}) #matches api pull"
   ]
  },
  {
   "cell_type": "code",
   "execution_count": 25,
   "id": "ef362ad8-889e-4ee7-9304-d535e58f012f",
   "metadata": {},
   "outputs": [
    {
     "data": {
      "text/plain": [
       "[{'_id': ObjectId('60f9f81a6bbad902a94d2b83'),\n",
       "  'id': '42721498588',\n",
       "  'user_id': '489155160',\n",
       "  'user_login': 'ranboolive',\n",
       "  'user_name': 'RanbooLive',\n",
       "  'game_id': '510694',\n",
       "  'game_name': 'Observation',\n",
       "  'type': 'live',\n",
       "  'title': 'COOL SPACE GAME :D (Giveaway in ranmail channel right now!) FLASHING LIGHTS SOMETIMES BTW',\n",
       "  'viewer_count': 55758,\n",
       "  'started_at': '2021-07-22T22:03:36Z',\n",
       "  'language': 'en',\n",
       "  'thumbnail_url': 'https://static-cdn.jtvnw.net/previews-ttv/live_user_ranboolive-{width}x{height}.jpg',\n",
       "  'tag_ids': ['6ea6bca4-4712-4ab9-a906-e3336a9d8039'],\n",
       "  'is_mature': False},\n",
       " {'_id': ObjectId('60f9f81a6bbad902a94d2b84'),\n",
       "  'id': '42946210749',\n",
       "  'user_id': '207813352',\n",
       "  'user_login': 'hasanabi',\n",
       "  'user_name': 'HasanAbi',\n",
       "  'game_id': '509658',\n",
       "  'game_name': 'Just Chatting',\n",
       "  'type': 'live',\n",
       "  'title': 'TW// MURDER REACTS W/ VALKYRAE !duo',\n",
       "  'viewer_count': 43709,\n",
       "  'started_at': '2021-07-22T18:08:27Z',\n",
       "  'language': 'en',\n",
       "  'thumbnail_url': 'https://static-cdn.jtvnw.net/previews-ttv/live_user_hasanabi-{width}x{height}.jpg',\n",
       "  'tag_ids': ['6ea6bca4-4712-4ab9-a906-e3336a9d8039',\n",
       "   '77017b7b-6b98-4f0d-bd39-3ba96b66ec7a',\n",
       "   'cea7bc0c-75a5-4446-8743-6db031b71550',\n",
       "   'ab45fcb7-a22d-4a07-b0ac-fb3940566fa7',\n",
       "   '67259b26-ff83-444e-9d3c-faab390df16f'],\n",
       "  'is_mature': False},\n",
       " {'_id': ObjectId('60f9f81a6bbad902a94d2b85'),\n",
       "  'id': '42944560621',\n",
       "  'user_id': '36769016',\n",
       "  'user_login': 'timthetatman',\n",
       "  'user_name': 'TimTheTatman',\n",
       "  'game_id': '493597',\n",
       "  'game_name': 'New World',\n",
       "  'type': 'live',\n",
       "  'title': '*DROPS ENABLED* governor timthetatman returns',\n",
       "  'viewer_count': 43610,\n",
       "  'started_at': '2021-07-22T15:20:54Z',\n",
       "  'language': 'en',\n",
       "  'thumbnail_url': 'https://static-cdn.jtvnw.net/previews-ttv/live_user_timthetatman-{width}x{height}.jpg',\n",
       "  'tag_ids': ['c2542d6d-cd10-4532-919b-3d19f30a768b',\n",
       "   '6ea6bca4-4712-4ab9-a906-e3336a9d8039'],\n",
       "  'is_mature': True}]"
      ]
     },
     "execution_count": 25,
     "metadata": {},
     "output_type": "execute_result"
    }
   ],
   "source": [
    "list(top_streams.find().limit(3))"
   ]
  },
  {
   "cell_type": "code",
   "execution_count": 26,
   "id": "ad2dbbdc-854b-42a6-995a-2cc4b84e6435",
   "metadata": {},
   "outputs": [],
   "source": [
    "top_games = db.top_games"
   ]
  },
  {
   "cell_type": "code",
   "execution_count": 50,
   "id": "db6ca217-451a-4ec8-93f2-e0c1f294e794",
   "metadata": {},
   "outputs": [],
   "source": [
    "top_games_pull = (requests.get('https://api.twitch.tv/helix/games/top?first=100', headers=headers)).json()['data']"
   ]
  },
  {
   "cell_type": "code",
   "execution_count": 53,
   "id": "93fd800f-bbad-46bc-b704-147f3dea3aff",
   "metadata": {},
   "outputs": [],
   "source": [
    "id_list = []\n",
    "for games in top_games_pull:\n",
    "    id_list.append(games['id'])"
   ]
  },
  {
   "cell_type": "code",
   "execution_count": 55,
   "id": "7efb3125-1208-42b2-a90a-72a78aab2ecb",
   "metadata": {},
   "outputs": [],
   "source": [
    "for games in id_list:\n",
    "    text = (requests.get('https://api.twitch.tv/helix/streams?first=100&game_id='+games, headers=headers)).json()['data']\n",
    "    top_games.insert_many(text)"
   ]
  },
  {
   "cell_type": "code",
   "execution_count": 27,
   "id": "ed43fde9-c61d-4f21-aa7f-ba7638f8b393",
   "metadata": {},
   "outputs": [
    {
     "data": {
      "text/plain": [
       "8294"
      ]
     },
     "execution_count": 27,
     "metadata": {},
     "output_type": "execute_result"
    }
   ],
   "source": [
    "top_games.count_documents({})"
   ]
  },
  {
   "cell_type": "code",
   "execution_count": 28,
   "id": "8bfc7fcc-6bde-4e26-8cae-cf99f1ab451b",
   "metadata": {},
   "outputs": [
    {
     "data": {
      "text/html": [
       "<div>\n",
       "<style scoped>\n",
       "    .dataframe tbody tr th:only-of-type {\n",
       "        vertical-align: middle;\n",
       "    }\n",
       "\n",
       "    .dataframe tbody tr th {\n",
       "        vertical-align: top;\n",
       "    }\n",
       "\n",
       "    .dataframe thead th {\n",
       "        text-align: right;\n",
       "    }\n",
       "</style>\n",
       "<table border=\"1\" class=\"dataframe\">\n",
       "  <thead>\n",
       "    <tr style=\"text-align: right;\">\n",
       "      <th></th>\n",
       "      <th>_id</th>\n",
       "      <th>game_name</th>\n",
       "      <th>viewer_count</th>\n",
       "    </tr>\n",
       "  </thead>\n",
       "  <tbody>\n",
       "    <tr>\n",
       "      <th>0</th>\n",
       "      <td>60f9c5ebec884dc92537f250</td>\n",
       "      <td>Fortnite</td>\n",
       "      <td>14568</td>\n",
       "    </tr>\n",
       "    <tr>\n",
       "      <th>1</th>\n",
       "      <td>60f9c5ebec884dc92537f251</td>\n",
       "      <td>Fortnite</td>\n",
       "      <td>4171</td>\n",
       "    </tr>\n",
       "    <tr>\n",
       "      <th>2</th>\n",
       "      <td>60f9c5ebec884dc92537f252</td>\n",
       "      <td>Fortnite</td>\n",
       "      <td>3703</td>\n",
       "    </tr>\n",
       "  </tbody>\n",
       "</table>\n",
       "</div>"
      ],
      "text/plain": [
       "                        _id game_name  viewer_count\n",
       "0  60f9c5ebec884dc92537f250  Fortnite         14568\n",
       "1  60f9c5ebec884dc92537f251  Fortnite          4171\n",
       "2  60f9c5ebec884dc92537f252  Fortnite          3703"
      ]
     },
     "execution_count": 28,
     "metadata": {},
     "output_type": "execute_result"
    }
   ],
   "source": [
    "pd.DataFrame(list(top_games.find({'game_name':'Fortnite'},{'game_name','viewer_count'}).limit(3)))"
   ]
  },
  {
   "cell_type": "code",
   "execution_count": 82,
   "id": "fff1e6e3-96b9-47bd-af94-4a9f9d8f1273",
   "metadata": {},
   "outputs": [
    {
     "data": {
      "text/plain": [
       "['continuous_streams', 'continuous_games', 'top_games', 'top_streams']"
      ]
     },
     "execution_count": 82,
     "metadata": {},
     "output_type": "execute_result"
    }
   ],
   "source": [
    "db.list_collection_names()"
   ]
  },
  {
   "cell_type": "code",
   "execution_count": 45,
   "id": "10cd729b-0354-46e9-8b98-1e2153740d3b",
   "metadata": {},
   "outputs": [
    {
     "data": {
      "text/plain": [
       "['ASMR',\n",
       " 'Apex Legends',\n",
       " 'Art',\n",
       " 'Axie Infinity',\n",
       " 'Black Desert Online',\n",
       " 'Call Of Duty: Modern Warfare',\n",
       " 'Call of Duty: Black Ops 4',\n",
       " 'Call of Duty: Black Ops Cold War',\n",
       " 'Call of Duty: Mobile',\n",
       " 'Call of Duty: Warzone']"
      ]
     },
     "execution_count": 45,
     "metadata": {},
     "output_type": "execute_result"
    }
   ],
   "source": [
    "#list of uniuqe titles in continuously pulling db\n",
    "list(db.continuous_games.find({},{'game_name':1,'_id':0}).distinct('game_name'))[:10]"
   ]
  },
  {
   "cell_type": "code",
   "execution_count": 54,
   "id": "dd4eae2d-f3b1-4da8-ade9-00f34426060f",
   "metadata": {},
   "outputs": [],
   "source": [
    "fortnite = list(db.continuous_games.find({'game_name':'Fortnite'}))"
   ]
  },
  {
   "cell_type": "code",
   "execution_count": 58,
   "id": "8feeecf3-da00-4a63-9f45-737702a37234",
   "metadata": {},
   "outputs": [],
   "source": [
    "fort_df = pd.DataFrame(fortnite)"
   ]
  },
  {
   "cell_type": "code",
   "execution_count": 59,
   "id": "5b4ea0a7-ffa6-473a-82b1-877a4bbc10cb",
   "metadata": {},
   "outputs": [
    {
     "data": {
      "text/plain": [
       "277633"
      ]
     },
     "execution_count": 59,
     "metadata": {},
     "output_type": "execute_result"
    }
   ],
   "source": [
    "fort_df.viewer_count.sum()"
   ]
  },
  {
   "cell_type": "code",
   "execution_count": 60,
   "id": "797da944-3d94-4b3d-a5c9-e6c3222866f2",
   "metadata": {},
   "outputs": [
    {
     "data": {
      "text/html": [
       "<div>\n",
       "<style scoped>\n",
       "    .dataframe tbody tr th:only-of-type {\n",
       "        vertical-align: middle;\n",
       "    }\n",
       "\n",
       "    .dataframe tbody tr th {\n",
       "        vertical-align: top;\n",
       "    }\n",
       "\n",
       "    .dataframe thead th {\n",
       "        text-align: right;\n",
       "    }\n",
       "</style>\n",
       "<table border=\"1\" class=\"dataframe\">\n",
       "  <thead>\n",
       "    <tr style=\"text-align: right;\">\n",
       "      <th></th>\n",
       "      <th>_id</th>\n",
       "      <th>id</th>\n",
       "      <th>user_id</th>\n",
       "      <th>user_login</th>\n",
       "      <th>user_name</th>\n",
       "      <th>game_id</th>\n",
       "      <th>game_name</th>\n",
       "      <th>type</th>\n",
       "      <th>title</th>\n",
       "      <th>viewer_count</th>\n",
       "      <th>started_at</th>\n",
       "      <th>language</th>\n",
       "      <th>thumbnail_url</th>\n",
       "      <th>tag_ids</th>\n",
       "      <th>is_mature</th>\n",
       "    </tr>\n",
       "  </thead>\n",
       "  <tbody>\n",
       "    <tr>\n",
       "      <th>0</th>\n",
       "      <td>60f9f87472c271762272d800</td>\n",
       "      <td>42721303580</td>\n",
       "      <td>233300375</td>\n",
       "      <td>clix</td>\n",
       "      <td>Clix</td>\n",
       "      <td>33214</td>\n",
       "      <td>Fortnite</td>\n",
       "      <td>live</td>\n",
       "      <td>High Kill Solo Arena | !sub !discord | NRG Clix</td>\n",
       "      <td>21554</td>\n",
       "      <td>2021-07-22T21:42:29Z</td>\n",
       "      <td>en</td>\n",
       "      <td>https://static-cdn.jtvnw.net/previews-ttv/live...</td>\n",
       "      <td>[6ea6bca4-4712-4ab9-a906-e3336a9d8039]</td>\n",
       "      <td>False</td>\n",
       "    </tr>\n",
       "    <tr>\n",
       "      <th>1</th>\n",
       "      <td>60f9f87472c271762272d801</td>\n",
       "      <td>42948024941</td>\n",
       "      <td>245226810</td>\n",
       "      <td>jelty</td>\n",
       "      <td>Jelty</td>\n",
       "      <td>33214</td>\n",
       "      <td>Fortnite</td>\n",
       "      <td>live</td>\n",
       "      <td>🤯EVENTO DE PRUEBA BUGHA ROYAL🤯 !bg || !exitlag...</td>\n",
       "      <td>18466</td>\n",
       "      <td>2021-07-22T20:38:11Z</td>\n",
       "      <td>es</td>\n",
       "      <td>https://static-cdn.jtvnw.net/previews-ttv/live...</td>\n",
       "      <td>[d4bb9c58-2141-4881-bcdc-3fe0505457d1, c2839af...</td>\n",
       "      <td>False</td>\n",
       "    </tr>\n",
       "    <tr>\n",
       "      <th>2</th>\n",
       "      <td>60f9f87472c271762272d802</td>\n",
       "      <td>42719498604</td>\n",
       "      <td>82524912</td>\n",
       "      <td>bugha</td>\n",
       "      <td>Bugha</td>\n",
       "      <td>33214</td>\n",
       "      <td>Fortnite</td>\n",
       "      <td>live</td>\n",
       "      <td>Squads w/ JuJu, K1, and Kurt !CodeBugha !skin ...</td>\n",
       "      <td>9271</td>\n",
       "      <td>2021-07-22T18:51:56Z</td>\n",
       "      <td>en</td>\n",
       "      <td>https://static-cdn.jtvnw.net/previews-ttv/live...</td>\n",
       "      <td>[24cc3843-e288-43f9-9c35-50fe1571c341, 6ea6bca...</td>\n",
       "      <td>False</td>\n",
       "    </tr>\n",
       "    <tr>\n",
       "      <th>3</th>\n",
       "      <td>60f9f87472c271762272d803</td>\n",
       "      <td>42719993852</td>\n",
       "      <td>246450563</td>\n",
       "      <td>stableronaldo_</td>\n",
       "      <td>StableRonaldo_</td>\n",
       "      <td>33214</td>\n",
       "      <td>Fortnite</td>\n",
       "      <td>live</td>\n",
       "      <td>Bugha Test Event w/ ZORQ &amp; ILLEST !talentshow</td>\n",
       "      <td>5927</td>\n",
       "      <td>2021-07-22T19:31:57Z</td>\n",
       "      <td>en</td>\n",
       "      <td>https://static-cdn.jtvnw.net/previews-ttv/live...</td>\n",
       "      <td>[6ea6bca4-4712-4ab9-a906-e3336a9d8039]</td>\n",
       "      <td>False</td>\n",
       "    </tr>\n",
       "    <tr>\n",
       "      <th>4</th>\n",
       "      <td>60f9f87472c271762272d804</td>\n",
       "      <td>42720401884</td>\n",
       "      <td>185619753</td>\n",
       "      <td>ops1x</td>\n",
       "      <td>ops1x</td>\n",
       "      <td>33214</td>\n",
       "      <td>Fortnite</td>\n",
       "      <td>live</td>\n",
       "      <td>EU $3,000 BFC !bracket (1 year stream 36/365) ...</td>\n",
       "      <td>5076</td>\n",
       "      <td>2021-07-22T20:07:52Z</td>\n",
       "      <td>en</td>\n",
       "      <td>https://static-cdn.jtvnw.net/previews-ttv/live...</td>\n",
       "      <td>[6ea6bca4-4712-4ab9-a906-e3336a9d8039]</td>\n",
       "      <td>False</td>\n",
       "    </tr>\n",
       "    <tr>\n",
       "      <th>...</th>\n",
       "      <td>...</td>\n",
       "      <td>...</td>\n",
       "      <td>...</td>\n",
       "      <td>...</td>\n",
       "      <td>...</td>\n",
       "      <td>...</td>\n",
       "      <td>...</td>\n",
       "      <td>...</td>\n",
       "      <td>...</td>\n",
       "      <td>...</td>\n",
       "      <td>...</td>\n",
       "      <td>...</td>\n",
       "      <td>...</td>\n",
       "      <td>...</td>\n",
       "      <td>...</td>\n",
       "    </tr>\n",
       "    <tr>\n",
       "      <th>291</th>\n",
       "      <td>60fa14940ce3259904e7f6df</td>\n",
       "      <td>42946021709</td>\n",
       "      <td>635335361</td>\n",
       "      <td>sneepgg</td>\n",
       "      <td>SneepGG</td>\n",
       "      <td>33214</td>\n",
       "      <td>Fortnite</td>\n",
       "      <td>live</td>\n",
       "      <td>Arena 2nd 246K WORLDWIDE!  | 189/365 Daily Str...</td>\n",
       "      <td>71</td>\n",
       "      <td>2021-07-22T17:54:16Z</td>\n",
       "      <td>en</td>\n",
       "      <td>https://static-cdn.jtvnw.net/previews-ttv/live...</td>\n",
       "      <td>[6ea6bca4-4712-4ab9-a906-e3336a9d8039]</td>\n",
       "      <td>False</td>\n",
       "    </tr>\n",
       "    <tr>\n",
       "      <th>292</th>\n",
       "      <td>60fa14940ce3259904e7f6e0</td>\n",
       "      <td>42949097725</td>\n",
       "      <td>402013783</td>\n",
       "      <td>dadplayer1</td>\n",
       "      <td>DadPlayer1</td>\n",
       "      <td>33214</td>\n",
       "      <td>Fortnite</td>\n",
       "      <td>live</td>\n",
       "      <td>ARENINHA COM KIDPLAYER !CAFE ! !KWAI !subgrati...</td>\n",
       "      <td>70</td>\n",
       "      <td>2021-07-22T22:03:24Z</td>\n",
       "      <td>pt</td>\n",
       "      <td>https://static-cdn.jtvnw.net/previews-ttv/live...</td>\n",
       "      <td>[39ee8140-901a-4762-bfca-8260dea1310f]</td>\n",
       "      <td>False</td>\n",
       "    </tr>\n",
       "    <tr>\n",
       "      <th>293</th>\n",
       "      <td>60fa14940ce3259904e7f6e1</td>\n",
       "      <td>42950038813</td>\n",
       "      <td>42265041</td>\n",
       "      <td>coffee_senpai</td>\n",
       "      <td>Coffee_Senpai</td>\n",
       "      <td>33214</td>\n",
       "      <td>Fortnite</td>\n",
       "      <td>live</td>\n",
       "      <td>Extendible 4hr - Platicando mientras jugamos f...</td>\n",
       "      <td>70</td>\n",
       "      <td>2021-07-22T23:13:15Z</td>\n",
       "      <td>es</td>\n",
       "      <td>https://static-cdn.jtvnw.net/previews-ttv/live...</td>\n",
       "      <td>[d4bb9c58-2141-4881-bcdc-3fe0505457d1]</td>\n",
       "      <td>False</td>\n",
       "    </tr>\n",
       "    <tr>\n",
       "      <th>294</th>\n",
       "      <td>60fa14940ce3259904e7f6e2</td>\n",
       "      <td>42721562076</td>\n",
       "      <td>597044009</td>\n",
       "      <td>astralsq</td>\n",
       "      <td>Astralsq</td>\n",
       "      <td>33214</td>\n",
       "      <td>Fortnite</td>\n",
       "      <td>live</td>\n",
       "      <td>2v2 vs sub w/Scott 7-0=50€  Live 12H 5Sub=+1H ...</td>\n",
       "      <td>70</td>\n",
       "      <td>2021-07-22T22:09:56Z</td>\n",
       "      <td>fr</td>\n",
       "      <td>https://static-cdn.jtvnw.net/previews-ttv/live...</td>\n",
       "      <td>[6f655045-9989-4ef7-8f85-1edcec42d648]</td>\n",
       "      <td>False</td>\n",
       "    </tr>\n",
       "    <tr>\n",
       "      <th>295</th>\n",
       "      <td>60fa14940ce3259904e7f6e3</td>\n",
       "      <td>42950605357</td>\n",
       "      <td>257293944</td>\n",
       "      <td>melinaaraujo</td>\n",
       "      <td>MelinaAraujo</td>\n",
       "      <td>33214</td>\n",
       "      <td>Fortnite</td>\n",
       "      <td>live</td>\n",
       "      <td>🌸Partidas Privadas🌸 Mini Juegos, Oufits, Pegar...</td>\n",
       "      <td>69</td>\n",
       "      <td>2021-07-22T23:54:28Z</td>\n",
       "      <td>es</td>\n",
       "      <td>https://static-cdn.jtvnw.net/previews-ttv/live...</td>\n",
       "      <td>[d4bb9c58-2141-4881-bcdc-3fe0505457d1]</td>\n",
       "      <td>False</td>\n",
       "    </tr>\n",
       "  </tbody>\n",
       "</table>\n",
       "<p>296 rows × 15 columns</p>\n",
       "</div>"
      ],
      "text/plain": [
       "                          _id           id    user_id      user_login  \\\n",
       "0    60f9f87472c271762272d800  42721303580  233300375            clix   \n",
       "1    60f9f87472c271762272d801  42948024941  245226810           jelty   \n",
       "2    60f9f87472c271762272d802  42719498604   82524912           bugha   \n",
       "3    60f9f87472c271762272d803  42719993852  246450563  stableronaldo_   \n",
       "4    60f9f87472c271762272d804  42720401884  185619753           ops1x   \n",
       "..                        ...          ...        ...             ...   \n",
       "291  60fa14940ce3259904e7f6df  42946021709  635335361         sneepgg   \n",
       "292  60fa14940ce3259904e7f6e0  42949097725  402013783      dadplayer1   \n",
       "293  60fa14940ce3259904e7f6e1  42950038813   42265041   coffee_senpai   \n",
       "294  60fa14940ce3259904e7f6e2  42721562076  597044009        astralsq   \n",
       "295  60fa14940ce3259904e7f6e3  42950605357  257293944    melinaaraujo   \n",
       "\n",
       "          user_name game_id game_name  type  \\\n",
       "0              Clix   33214  Fortnite  live   \n",
       "1             Jelty   33214  Fortnite  live   \n",
       "2             Bugha   33214  Fortnite  live   \n",
       "3    StableRonaldo_   33214  Fortnite  live   \n",
       "4             ops1x   33214  Fortnite  live   \n",
       "..              ...     ...       ...   ...   \n",
       "291         SneepGG   33214  Fortnite  live   \n",
       "292      DadPlayer1   33214  Fortnite  live   \n",
       "293   Coffee_Senpai   33214  Fortnite  live   \n",
       "294        Astralsq   33214  Fortnite  live   \n",
       "295    MelinaAraujo   33214  Fortnite  live   \n",
       "\n",
       "                                                 title  viewer_count  \\\n",
       "0      High Kill Solo Arena | !sub !discord | NRG Clix         21554   \n",
       "1    🤯EVENTO DE PRUEBA BUGHA ROYAL🤯 !bg || !exitlag...         18466   \n",
       "2    Squads w/ JuJu, K1, and Kurt !CodeBugha !skin ...          9271   \n",
       "3        Bugha Test Event w/ ZORQ & ILLEST !talentshow          5927   \n",
       "4    EU $3,000 BFC !bracket (1 year stream 36/365) ...          5076   \n",
       "..                                                 ...           ...   \n",
       "291  Arena 2nd 246K WORLDWIDE!  | 189/365 Daily Str...            71   \n",
       "292  ARENINHA COM KIDPLAYER !CAFE ! !KWAI !subgrati...            70   \n",
       "293  Extendible 4hr - Platicando mientras jugamos f...            70   \n",
       "294  2v2 vs sub w/Scott 7-0=50€  Live 12H 5Sub=+1H ...            70   \n",
       "295  🌸Partidas Privadas🌸 Mini Juegos, Oufits, Pegar...            69   \n",
       "\n",
       "               started_at language  \\\n",
       "0    2021-07-22T21:42:29Z       en   \n",
       "1    2021-07-22T20:38:11Z       es   \n",
       "2    2021-07-22T18:51:56Z       en   \n",
       "3    2021-07-22T19:31:57Z       en   \n",
       "4    2021-07-22T20:07:52Z       en   \n",
       "..                    ...      ...   \n",
       "291  2021-07-22T17:54:16Z       en   \n",
       "292  2021-07-22T22:03:24Z       pt   \n",
       "293  2021-07-22T23:13:15Z       es   \n",
       "294  2021-07-22T22:09:56Z       fr   \n",
       "295  2021-07-22T23:54:28Z       es   \n",
       "\n",
       "                                         thumbnail_url  \\\n",
       "0    https://static-cdn.jtvnw.net/previews-ttv/live...   \n",
       "1    https://static-cdn.jtvnw.net/previews-ttv/live...   \n",
       "2    https://static-cdn.jtvnw.net/previews-ttv/live...   \n",
       "3    https://static-cdn.jtvnw.net/previews-ttv/live...   \n",
       "4    https://static-cdn.jtvnw.net/previews-ttv/live...   \n",
       "..                                                 ...   \n",
       "291  https://static-cdn.jtvnw.net/previews-ttv/live...   \n",
       "292  https://static-cdn.jtvnw.net/previews-ttv/live...   \n",
       "293  https://static-cdn.jtvnw.net/previews-ttv/live...   \n",
       "294  https://static-cdn.jtvnw.net/previews-ttv/live...   \n",
       "295  https://static-cdn.jtvnw.net/previews-ttv/live...   \n",
       "\n",
       "                                               tag_ids  is_mature  \n",
       "0               [6ea6bca4-4712-4ab9-a906-e3336a9d8039]      False  \n",
       "1    [d4bb9c58-2141-4881-bcdc-3fe0505457d1, c2839af...      False  \n",
       "2    [24cc3843-e288-43f9-9c35-50fe1571c341, 6ea6bca...      False  \n",
       "3               [6ea6bca4-4712-4ab9-a906-e3336a9d8039]      False  \n",
       "4               [6ea6bca4-4712-4ab9-a906-e3336a9d8039]      False  \n",
       "..                                                 ...        ...  \n",
       "291             [6ea6bca4-4712-4ab9-a906-e3336a9d8039]      False  \n",
       "292             [39ee8140-901a-4762-bfca-8260dea1310f]      False  \n",
       "293             [d4bb9c58-2141-4881-bcdc-3fe0505457d1]      False  \n",
       "294             [6f655045-9989-4ef7-8f85-1edcec42d648]      False  \n",
       "295             [d4bb9c58-2141-4881-bcdc-3fe0505457d1]      False  \n",
       "\n",
       "[296 rows x 15 columns]"
      ]
     },
     "execution_count": 60,
     "metadata": {},
     "output_type": "execute_result"
    }
   ],
   "source": [
    "fort_df"
   ]
  },
  {
   "cell_type": "code",
   "execution_count": 62,
   "id": "8d567df0-c88c-4cbf-af1b-fe72deec30e1",
   "metadata": {},
   "outputs": [],
   "source": [
    "df = pd.read_csv('streams.csv')"
   ]
  },
  {
   "cell_type": "code",
   "execution_count": 63,
   "id": "bc2bafda-ed43-43bb-ab0c-cdd81a2a744b",
   "metadata": {},
   "outputs": [
    {
     "data": {
      "text/html": [
       "<div>\n",
       "<style scoped>\n",
       "    .dataframe tbody tr th:only-of-type {\n",
       "        vertical-align: middle;\n",
       "    }\n",
       "\n",
       "    .dataframe tbody tr th {\n",
       "        vertical-align: top;\n",
       "    }\n",
       "\n",
       "    .dataframe thead th {\n",
       "        text-align: right;\n",
       "    }\n",
       "</style>\n",
       "<table border=\"1\" class=\"dataframe\">\n",
       "  <thead>\n",
       "    <tr style=\"text-align: right;\">\n",
       "      <th></th>\n",
       "      <th>id</th>\n",
       "      <th>user_id</th>\n",
       "      <th>user_login</th>\n",
       "      <th>user_name</th>\n",
       "      <th>game_id</th>\n",
       "      <th>game_name</th>\n",
       "      <th>type</th>\n",
       "      <th>title</th>\n",
       "      <th>viewer_count</th>\n",
       "      <th>started_at</th>\n",
       "      <th>language</th>\n",
       "      <th>thumbnail_url</th>\n",
       "      <th>tag_ids</th>\n",
       "      <th>is_mature</th>\n",
       "    </tr>\n",
       "  </thead>\n",
       "  <tbody>\n",
       "    <tr>\n",
       "      <th>0</th>\n",
       "      <td>42700834796</td>\n",
       "      <td>44332309</td>\n",
       "      <td>sapnap</td>\n",
       "      <td>Sapnap</td>\n",
       "      <td>27471</td>\n",
       "      <td>Minecraft</td>\n",
       "      <td>live</td>\n",
       "      <td>Meeting An Old Friend... (lore)</td>\n",
       "      <td>146374</td>\n",
       "      <td>2021-07-20T20:33:29Z</td>\n",
       "      <td>en</td>\n",
       "      <td>https://static-cdn.jtvnw.net/previews-ttv/live...</td>\n",
       "      <td>['6ea6bca4-4712-4ab9-a906-e3336a9d8039']</td>\n",
       "      <td>False</td>\n",
       "    </tr>\n",
       "    <tr>\n",
       "      <th>1</th>\n",
       "      <td>42914145581</td>\n",
       "      <td>26261471</td>\n",
       "      <td>asmongold</td>\n",
       "      <td>Asmongold</td>\n",
       "      <td>493597</td>\n",
       "      <td>New World</td>\n",
       "      <td>live</td>\n",
       "      <td>**DROPS** ENABLED--NEW WORLD BEGINS TODAY--DOI...</td>\n",
       "      <td>115977</td>\n",
       "      <td>2021-07-20T14:57:34Z</td>\n",
       "      <td>en</td>\n",
       "      <td>https://static-cdn.jtvnw.net/previews-ttv/live...</td>\n",
       "      <td>['c2542d6d-cd10-4532-919b-3d19f30a768b', '6ea6...</td>\n",
       "      <td>False</td>\n",
       "    </tr>\n",
       "    <tr>\n",
       "      <th>2</th>\n",
       "      <td>42917077229</td>\n",
       "      <td>83232866</td>\n",
       "      <td>ibai</td>\n",
       "      <td>ibai</td>\n",
       "      <td>509658</td>\n",
       "      <td>Just Chatting</td>\n",
       "      <td>live</td>\n",
       "      <td>COSCU, IBAI Y NATHY PELUSO JUNTOS | EL TRIDENT...</td>\n",
       "      <td>106821</td>\n",
       "      <td>2021-07-20T19:16:07Z</td>\n",
       "      <td>es</td>\n",
       "      <td>https://static-cdn.jtvnw.net/previews-ttv/live...</td>\n",
       "      <td>['d4bb9c58-2141-4881-bcdc-3fe0505457d1']</td>\n",
       "      <td>False</td>\n",
       "    </tr>\n",
       "    <tr>\n",
       "      <th>3</th>\n",
       "      <td>42916885741</td>\n",
       "      <td>44445592</td>\n",
       "      <td>pokimane</td>\n",
       "      <td>pokimane</td>\n",
       "      <td>263490</td>\n",
       "      <td>Rust</td>\n",
       "      <td>live</td>\n",
       "      <td>BIGGEST &amp; BEST DROPS ✔️ HIGHEST KDA ✔️ BEST LO...</td>\n",
       "      <td>47997</td>\n",
       "      <td>2021-07-20T19:01:57Z</td>\n",
       "      <td>en</td>\n",
       "      <td>https://static-cdn.jtvnw.net/previews-ttv/live...</td>\n",
       "      <td>['6ea6bca4-4712-4ab9-a906-e3336a9d8039', 'c254...</td>\n",
       "      <td>False</td>\n",
       "    </tr>\n",
       "    <tr>\n",
       "      <th>4</th>\n",
       "      <td>42914102893</td>\n",
       "      <td>36769016</td>\n",
       "      <td>timthetatman</td>\n",
       "      <td>TimTheTatman</td>\n",
       "      <td>493597</td>\n",
       "      <td>New World</td>\n",
       "      <td>live</td>\n",
       "      <td>*DROPS ENABLED* checking out new world</td>\n",
       "      <td>46764</td>\n",
       "      <td>2021-07-20T14:52:43Z</td>\n",
       "      <td>en</td>\n",
       "      <td>https://static-cdn.jtvnw.net/previews-ttv/live...</td>\n",
       "      <td>['e6bb8b34-4c28-4b5f-94ed-12c1ebf2d0e4', '6ea6...</td>\n",
       "      <td>True</td>\n",
       "    </tr>\n",
       "    <tr>\n",
       "      <th>...</th>\n",
       "      <td>...</td>\n",
       "      <td>...</td>\n",
       "      <td>...</td>\n",
       "      <td>...</td>\n",
       "      <td>...</td>\n",
       "      <td>...</td>\n",
       "      <td>...</td>\n",
       "      <td>...</td>\n",
       "      <td>...</td>\n",
       "      <td>...</td>\n",
       "      <td>...</td>\n",
       "      <td>...</td>\n",
       "      <td>...</td>\n",
       "      <td>...</td>\n",
       "    </tr>\n",
       "    <tr>\n",
       "      <th>95</th>\n",
       "      <td>42913303965</td>\n",
       "      <td>63602976</td>\n",
       "      <td>skipnho</td>\n",
       "      <td>SkipNhO</td>\n",
       "      <td>493597</td>\n",
       "      <td>New World</td>\n",
       "      <td>live</td>\n",
       "      <td>Concentração de SparTano🟢Marauders🟢 SORTEIO DE...</td>\n",
       "      <td>5623</td>\n",
       "      <td>2021-07-20T13:12:14Z</td>\n",
       "      <td>pt</td>\n",
       "      <td>https://static-cdn.jtvnw.net/previews-ttv/live...</td>\n",
       "      <td>['39ee8140-901a-4762-bfca-8260dea1310f', 'c254...</td>\n",
       "      <td>False</td>\n",
       "    </tr>\n",
       "    <tr>\n",
       "      <th>96</th>\n",
       "      <td>42699242188</td>\n",
       "      <td>177249859</td>\n",
       "      <td>pqueen</td>\n",
       "      <td>pqueen</td>\n",
       "      <td>493069</td>\n",
       "      <td>Totally Accurate Battle Simulator</td>\n",
       "      <td>live</td>\n",
       "      <td>Can Sungur ile Coop Geceler - instagram l pque...</td>\n",
       "      <td>5599</td>\n",
       "      <td>2021-07-20T18:17:46Z</td>\n",
       "      <td>tr</td>\n",
       "      <td>https://static-cdn.jtvnw.net/previews-ttv/live...</td>\n",
       "      <td>['f08d5873-f0c7-4912-94ba-a41933b4c141']</td>\n",
       "      <td>False</td>\n",
       "    </tr>\n",
       "    <tr>\n",
       "      <th>97</th>\n",
       "      <td>42697004684</td>\n",
       "      <td>219431490</td>\n",
       "      <td>jlamaru</td>\n",
       "      <td>JLAmaru</td>\n",
       "      <td>493597</td>\n",
       "      <td>New World</td>\n",
       "      <td>live</td>\n",
       "      <td>JL Amaru - On Test un Nouveau jeu OpenWorld ?!...</td>\n",
       "      <td>5541</td>\n",
       "      <td>2021-07-20T14:33:39Z</td>\n",
       "      <td>fr</td>\n",
       "      <td>https://static-cdn.jtvnw.net/previews-ttv/live...</td>\n",
       "      <td>['6f655045-9989-4ef7-8f85-1edcec42d648', '2a14...</td>\n",
       "      <td>False</td>\n",
       "    </tr>\n",
       "    <tr>\n",
       "      <th>98</th>\n",
       "      <td>42700773708</td>\n",
       "      <td>217965779</td>\n",
       "      <td>punz</td>\n",
       "      <td>Punz</td>\n",
       "      <td>27471</td>\n",
       "      <td>Minecraft</td>\n",
       "      <td>live</td>\n",
       "      <td>MOUSEPADS DROP TODAY !mousepad | !gfuel !merch...</td>\n",
       "      <td>5509</td>\n",
       "      <td>2021-07-20T20:27:35Z</td>\n",
       "      <td>en</td>\n",
       "      <td>https://static-cdn.jtvnw.net/previews-ttv/live...</td>\n",
       "      <td>['6ea6bca4-4712-4ab9-a906-e3336a9d8039']</td>\n",
       "      <td>False</td>\n",
       "    </tr>\n",
       "    <tr>\n",
       "      <th>99</th>\n",
       "      <td>42699488908</td>\n",
       "      <td>34711476</td>\n",
       "      <td>jesusavgn</td>\n",
       "      <td>JesusAVGN</td>\n",
       "      <td>508948</td>\n",
       "      <td>Raid: Shadow Legends</td>\n",
       "      <td>live</td>\n",
       "      <td>🍑💦??????????🍑💦Raid: Shadow Legends  !raid #ad</td>\n",
       "      <td>5507</td>\n",
       "      <td>2021-07-20T18:39:23Z</td>\n",
       "      <td>ru</td>\n",
       "      <td>https://static-cdn.jtvnw.net/previews-ttv/live...</td>\n",
       "      <td>['0569b171-2a2b-476e-a596-5bdfb45a1327', '34cd...</td>\n",
       "      <td>False</td>\n",
       "    </tr>\n",
       "  </tbody>\n",
       "</table>\n",
       "<p>100 rows × 14 columns</p>\n",
       "</div>"
      ],
      "text/plain": [
       "             id    user_id    user_login     user_name  game_id  \\\n",
       "0   42700834796   44332309        sapnap        Sapnap    27471   \n",
       "1   42914145581   26261471     asmongold     Asmongold   493597   \n",
       "2   42917077229   83232866          ibai          ibai   509658   \n",
       "3   42916885741   44445592      pokimane      pokimane   263490   \n",
       "4   42914102893   36769016  timthetatman  TimTheTatman   493597   \n",
       "..          ...        ...           ...           ...      ...   \n",
       "95  42913303965   63602976       skipnho       SkipNhO   493597   \n",
       "96  42699242188  177249859        pqueen        pqueen   493069   \n",
       "97  42697004684  219431490       jlamaru       JLAmaru   493597   \n",
       "98  42700773708  217965779          punz          Punz    27471   \n",
       "99  42699488908   34711476     jesusavgn     JesusAVGN   508948   \n",
       "\n",
       "                            game_name  type  \\\n",
       "0                           Minecraft  live   \n",
       "1                           New World  live   \n",
       "2                       Just Chatting  live   \n",
       "3                                Rust  live   \n",
       "4                           New World  live   \n",
       "..                                ...   ...   \n",
       "95                          New World  live   \n",
       "96  Totally Accurate Battle Simulator  live   \n",
       "97                          New World  live   \n",
       "98                          Minecraft  live   \n",
       "99               Raid: Shadow Legends  live   \n",
       "\n",
       "                                                title  viewer_count  \\\n",
       "0                     Meeting An Old Friend... (lore)        146374   \n",
       "1   **DROPS** ENABLED--NEW WORLD BEGINS TODAY--DOI...        115977   \n",
       "2   COSCU, IBAI Y NATHY PELUSO JUNTOS | EL TRIDENT...        106821   \n",
       "3   BIGGEST & BEST DROPS ✔️ HIGHEST KDA ✔️ BEST LO...         47997   \n",
       "4              *DROPS ENABLED* checking out new world         46764   \n",
       "..                                                ...           ...   \n",
       "95  Concentração de SparTano🟢Marauders🟢 SORTEIO DE...          5623   \n",
       "96  Can Sungur ile Coop Geceler - instagram l pque...          5599   \n",
       "97  JL Amaru - On Test un Nouveau jeu OpenWorld ?!...          5541   \n",
       "98  MOUSEPADS DROP TODAY !mousepad | !gfuel !merch...          5509   \n",
       "99      🍑💦??????????🍑💦Raid: Shadow Legends  !raid #ad          5507   \n",
       "\n",
       "              started_at language  \\\n",
       "0   2021-07-20T20:33:29Z       en   \n",
       "1   2021-07-20T14:57:34Z       en   \n",
       "2   2021-07-20T19:16:07Z       es   \n",
       "3   2021-07-20T19:01:57Z       en   \n",
       "4   2021-07-20T14:52:43Z       en   \n",
       "..                   ...      ...   \n",
       "95  2021-07-20T13:12:14Z       pt   \n",
       "96  2021-07-20T18:17:46Z       tr   \n",
       "97  2021-07-20T14:33:39Z       fr   \n",
       "98  2021-07-20T20:27:35Z       en   \n",
       "99  2021-07-20T18:39:23Z       ru   \n",
       "\n",
       "                                        thumbnail_url  \\\n",
       "0   https://static-cdn.jtvnw.net/previews-ttv/live...   \n",
       "1   https://static-cdn.jtvnw.net/previews-ttv/live...   \n",
       "2   https://static-cdn.jtvnw.net/previews-ttv/live...   \n",
       "3   https://static-cdn.jtvnw.net/previews-ttv/live...   \n",
       "4   https://static-cdn.jtvnw.net/previews-ttv/live...   \n",
       "..                                                ...   \n",
       "95  https://static-cdn.jtvnw.net/previews-ttv/live...   \n",
       "96  https://static-cdn.jtvnw.net/previews-ttv/live...   \n",
       "97  https://static-cdn.jtvnw.net/previews-ttv/live...   \n",
       "98  https://static-cdn.jtvnw.net/previews-ttv/live...   \n",
       "99  https://static-cdn.jtvnw.net/previews-ttv/live...   \n",
       "\n",
       "                                              tag_ids  is_mature  \n",
       "0            ['6ea6bca4-4712-4ab9-a906-e3336a9d8039']      False  \n",
       "1   ['c2542d6d-cd10-4532-919b-3d19f30a768b', '6ea6...      False  \n",
       "2            ['d4bb9c58-2141-4881-bcdc-3fe0505457d1']      False  \n",
       "3   ['6ea6bca4-4712-4ab9-a906-e3336a9d8039', 'c254...      False  \n",
       "4   ['e6bb8b34-4c28-4b5f-94ed-12c1ebf2d0e4', '6ea6...       True  \n",
       "..                                                ...        ...  \n",
       "95  ['39ee8140-901a-4762-bfca-8260dea1310f', 'c254...      False  \n",
       "96           ['f08d5873-f0c7-4912-94ba-a41933b4c141']      False  \n",
       "97  ['6f655045-9989-4ef7-8f85-1edcec42d648', '2a14...      False  \n",
       "98           ['6ea6bca4-4712-4ab9-a906-e3336a9d8039']      False  \n",
       "99  ['0569b171-2a2b-476e-a596-5bdfb45a1327', '34cd...      False  \n",
       "\n",
       "[100 rows x 14 columns]"
      ]
     },
     "execution_count": 63,
     "metadata": {},
     "output_type": "execute_result"
    }
   ],
   "source": [
    "df"
   ]
  },
  {
   "cell_type": "code",
   "execution_count": 64,
   "id": "6be49c51-3425-4d45-aac3-7c134f29bd9d",
   "metadata": {},
   "outputs": [],
   "source": [
    "given = 'Fortnite'"
   ]
  },
  {
   "cell_type": "code",
   "execution_count": 68,
   "id": "6031b84c-0895-479e-8fda-a4c0b5cfb4f2",
   "metadata": {},
   "outputs": [],
   "source": [
    "temp = df[df.game_name == given]"
   ]
  },
  {
   "cell_type": "code",
   "execution_count": 71,
   "id": "9d5a298a-6bfc-49a4-9c9f-9d2c41874407",
   "metadata": {},
   "outputs": [
    {
     "name": "stderr",
     "output_type": "stream",
     "text": [
      "/Users/michaelharnett/opt/anaconda3/envs/metis/lib/python3.8/site-packages/pandas/core/frame.py:3607: SettingWithCopyWarning: \n",
      "A value is trying to be set on a copy of a slice from a DataFrame.\n",
      "Try using .loc[row_indexer,col_indexer] = value instead\n",
      "\n",
      "See the caveats in the documentation: https://pandas.pydata.org/pandas-docs/stable/user_guide/indexing.html#returning-a-view-versus-a-copy\n",
      "  self._set_item(key, value)\n"
     ]
    }
   ],
   "source": [
    "temp.started_at = pd.to_datetime(temp.started_at)"
   ]
  },
  {
   "cell_type": "code",
   "execution_count": 73,
   "id": "771e94b7-5fee-4567-bb6a-81396d7c76ba",
   "metadata": {},
   "outputs": [
    {
     "name": "stdout",
     "output_type": "stream",
     "text": [
      "<class 'pandas.core.frame.DataFrame'>\n",
      "Int64Index: 3 entries, 9 to 62\n",
      "Data columns (total 14 columns):\n",
      " #   Column         Non-Null Count  Dtype              \n",
      "---  ------         --------------  -----              \n",
      " 0   id             3 non-null      int64              \n",
      " 1   user_id        3 non-null      int64              \n",
      " 2   user_login     3 non-null      object             \n",
      " 3   user_name      3 non-null      object             \n",
      " 4   game_id        3 non-null      int64              \n",
      " 5   game_name      3 non-null      object             \n",
      " 6   type           3 non-null      object             \n",
      " 7   title          3 non-null      object             \n",
      " 8   viewer_count   3 non-null      int64              \n",
      " 9   started_at     3 non-null      datetime64[ns, UTC]\n",
      " 10  language       3 non-null      object             \n",
      " 11  thumbnail_url  3 non-null      object             \n",
      " 12  tag_ids        3 non-null      object             \n",
      " 13  is_mature      3 non-null      bool               \n",
      "dtypes: bool(1), datetime64[ns, UTC](1), int64(4), object(8)\n",
      "memory usage: 339.0+ bytes\n"
     ]
    }
   ],
   "source": [
    "temp.info()"
   ]
  },
  {
   "cell_type": "code",
   "execution_count": 74,
   "id": "e8fca888-6e69-4cf9-9f61-94175e0740ce",
   "metadata": {},
   "outputs": [
    {
     "data": {
      "text/html": [
       "<div>\n",
       "<style scoped>\n",
       "    .dataframe tbody tr th:only-of-type {\n",
       "        vertical-align: middle;\n",
       "    }\n",
       "\n",
       "    .dataframe tbody tr th {\n",
       "        vertical-align: top;\n",
       "    }\n",
       "\n",
       "    .dataframe thead th {\n",
       "        text-align: right;\n",
       "    }\n",
       "</style>\n",
       "<table border=\"1\" class=\"dataframe\">\n",
       "  <thead>\n",
       "    <tr style=\"text-align: right;\">\n",
       "      <th></th>\n",
       "      <th>id</th>\n",
       "      <th>user_id</th>\n",
       "      <th>user_login</th>\n",
       "      <th>user_name</th>\n",
       "      <th>game_id</th>\n",
       "      <th>game_name</th>\n",
       "      <th>type</th>\n",
       "      <th>title</th>\n",
       "      <th>viewer_count</th>\n",
       "      <th>started_at</th>\n",
       "      <th>language</th>\n",
       "      <th>thumbnail_url</th>\n",
       "      <th>tag_ids</th>\n",
       "      <th>is_mature</th>\n",
       "    </tr>\n",
       "  </thead>\n",
       "  <tbody>\n",
       "    <tr>\n",
       "      <th>9</th>\n",
       "      <td>42697432524</td>\n",
       "      <td>15564828</td>\n",
       "      <td>nickmercs</td>\n",
       "      <td>NICKMERCS</td>\n",
       "      <td>33214</td>\n",
       "      <td>Fortnite</td>\n",
       "      <td>live</td>\n",
       "      <td>Fraggin' | Code: MFAM | @NICKMERCS</td>\n",
       "      <td>29598</td>\n",
       "      <td>2021-07-20 15:18:41+00:00</td>\n",
       "      <td>en</td>\n",
       "      <td>https://static-cdn.jtvnw.net/previews-ttv/live...</td>\n",
       "      <td>['6ea6bca4-4712-4ab9-a906-e3336a9d8039']</td>\n",
       "      <td>False</td>\n",
       "    </tr>\n",
       "    <tr>\n",
       "      <th>16</th>\n",
       "      <td>42697924396</td>\n",
       "      <td>82524912</td>\n",
       "      <td>bugha</td>\n",
       "      <td>Bugha</td>\n",
       "      <td>33214</td>\n",
       "      <td>Fortnite</td>\n",
       "      <td>live</td>\n",
       "      <td>NEW BUGHA SKIN &amp; GAMEMODE w/ FAZE SWAY &amp; ZYFA</td>\n",
       "      <td>23941</td>\n",
       "      <td>2021-07-20 16:09:34+00:00</td>\n",
       "      <td>en</td>\n",
       "      <td>https://static-cdn.jtvnw.net/previews-ttv/live...</td>\n",
       "      <td>['24cc3843-e288-43f9-9c35-50fe1571c341', '6ea6...</td>\n",
       "      <td>False</td>\n",
       "    </tr>\n",
       "    <tr>\n",
       "      <th>62</th>\n",
       "      <td>42696784428</td>\n",
       "      <td>416689874</td>\n",
       "      <td>fazesway</td>\n",
       "      <td>FaZeSway</td>\n",
       "      <td>33214</td>\n",
       "      <td>Fortnite</td>\n",
       "      <td>live</td>\n",
       "      <td>Bugha's Late Game W/ Bugha and Zyfa | !vid !sac</td>\n",
       "      <td>8101</td>\n",
       "      <td>2021-07-20 14:08:52+00:00</td>\n",
       "      <td>en</td>\n",
       "      <td>https://static-cdn.jtvnw.net/previews-ttv/live...</td>\n",
       "      <td>['6ea6bca4-4712-4ab9-a906-e3336a9d8039']</td>\n",
       "      <td>False</td>\n",
       "    </tr>\n",
       "  </tbody>\n",
       "</table>\n",
       "</div>"
      ],
      "text/plain": [
       "             id    user_id user_login  user_name  game_id game_name  type  \\\n",
       "9   42697432524   15564828  nickmercs  NICKMERCS    33214  Fortnite  live   \n",
       "16  42697924396   82524912      bugha      Bugha    33214  Fortnite  live   \n",
       "62  42696784428  416689874   fazesway   FaZeSway    33214  Fortnite  live   \n",
       "\n",
       "                                              title  viewer_count  \\\n",
       "9                Fraggin' | Code: MFAM | @NICKMERCS         29598   \n",
       "16    NEW BUGHA SKIN & GAMEMODE w/ FAZE SWAY & ZYFA         23941   \n",
       "62  Bugha's Late Game W/ Bugha and Zyfa | !vid !sac          8101   \n",
       "\n",
       "                  started_at language  \\\n",
       "9  2021-07-20 15:18:41+00:00       en   \n",
       "16 2021-07-20 16:09:34+00:00       en   \n",
       "62 2021-07-20 14:08:52+00:00       en   \n",
       "\n",
       "                                        thumbnail_url  \\\n",
       "9   https://static-cdn.jtvnw.net/previews-ttv/live...   \n",
       "16  https://static-cdn.jtvnw.net/previews-ttv/live...   \n",
       "62  https://static-cdn.jtvnw.net/previews-ttv/live...   \n",
       "\n",
       "                                              tag_ids  is_mature  \n",
       "9            ['6ea6bca4-4712-4ab9-a906-e3336a9d8039']      False  \n",
       "16  ['24cc3843-e288-43f9-9c35-50fe1571c341', '6ea6...      False  \n",
       "62           ['6ea6bca4-4712-4ab9-a906-e3336a9d8039']      False  "
      ]
     },
     "execution_count": 74,
     "metadata": {},
     "output_type": "execute_result"
    }
   ],
   "source": [
    "temp"
   ]
  },
  {
   "cell_type": "code",
   "execution_count": 76,
   "id": "9bee3eb3-be1a-4d19-ac90-dac916efc8ea",
   "metadata": {},
   "outputs": [
    {
     "data": {
      "text/plain": [
       "61640"
      ]
     },
     "execution_count": 76,
     "metadata": {},
     "output_type": "execute_result"
    }
   ],
   "source": [
    "temp_total_viewers = temp.viewer_count.sum()\n",
    "temp_total_viewers"
   ]
  },
  {
   "cell_type": "code",
   "execution_count": 77,
   "id": "baf9cbca-211a-4e88-b3a3-110e9d3c223b",
   "metadata": {},
   "outputs": [
    {
     "data": {
      "text/plain": [
       "3"
      ]
     },
     "execution_count": 77,
     "metadata": {},
     "output_type": "execute_result"
    }
   ],
   "source": [
    "temp_total_streamers = temp.user_login.nunique()\n",
    "temp_total_streamers"
   ]
  },
  {
   "cell_type": "code",
   "execution_count": 86,
   "id": "e1b181df-a745-4d92-aceb-c2dde71d9219",
   "metadata": {},
   "outputs": [],
   "source": [
    "largedf = pd.DataFrame(list(db.continuous_games.find({})))"
   ]
  },
  {
   "cell_type": "code",
   "execution_count": 88,
   "id": "4d817462-4fdf-4ecd-a5c7-d581ed35c54a",
   "metadata": {},
   "outputs": [],
   "source": [
    "largedf.started_at = pd.to_datetime(largedf.started_at)"
   ]
  },
  {
   "cell_type": "code",
   "execution_count": 89,
   "id": "99f90641-8c14-41f7-bcde-33f76c0e5d62",
   "metadata": {},
   "outputs": [
    {
     "name": "stdout",
     "output_type": "stream",
     "text": [
      "<class 'pandas.core.frame.DataFrame'>\n",
      "RangeIndex: 25349 entries, 0 to 25348\n",
      "Data columns (total 15 columns):\n",
      " #   Column         Non-Null Count  Dtype              \n",
      "---  ------         --------------  -----              \n",
      " 0   _id            25349 non-null  object             \n",
      " 1   id             25349 non-null  object             \n",
      " 2   user_id        25349 non-null  object             \n",
      " 3   user_login     25349 non-null  object             \n",
      " 4   user_name      25349 non-null  object             \n",
      " 5   game_id        25349 non-null  object             \n",
      " 6   game_name      25349 non-null  object             \n",
      " 7   type           25349 non-null  object             \n",
      " 8   title          25349 non-null  object             \n",
      " 9   viewer_count   25349 non-null  int64              \n",
      " 10  started_at     25349 non-null  datetime64[ns, UTC]\n",
      " 11  language       25349 non-null  object             \n",
      " 12  thumbnail_url  25349 non-null  object             \n",
      " 13  tag_ids        25322 non-null  object             \n",
      " 14  is_mature      25349 non-null  bool               \n",
      "dtypes: bool(1), datetime64[ns, UTC](1), int64(1), object(12)\n",
      "memory usage: 2.7+ MB\n"
     ]
    }
   ],
   "source": [
    "largedf.info()"
   ]
  },
  {
   "cell_type": "code",
   "execution_count": 98,
   "id": "ad68f53c-5b11-4975-a9d0-dfaa6cf67e77",
   "metadata": {},
   "outputs": [],
   "source": [
    "def game_info(game):\n",
    "    df = pd.DataFrame(list(db.continuous_games.find({'game_name':game})))\n",
    "    viewers = df.viewer_count.sum()\n",
    "    streamers = df.user_login.nunique()\n",
    "    print('The total number of viewers is: {}\\n The total number of streamers is {}'.format(viewers, streamers))\n",
    "    return viewers, streamers\n"
   ]
  },
  {
   "cell_type": "code",
   "execution_count": 99,
   "id": "d761405e-fc67-461e-952f-94d9bdf2edaa",
   "metadata": {},
   "outputs": [
    {
     "name": "stdout",
     "output_type": "stream",
     "text": [
      "The total number of viewers is: 349306\n",
      " The total number of streamers is 188\n"
     ]
    },
    {
     "data": {
      "text/plain": [
       "(349306, 188)"
      ]
     },
     "execution_count": 99,
     "metadata": {},
     "output_type": "execute_result"
    }
   ],
   "source": [
    "game_info('Fortnite')"
   ]
  },
  {
   "cell_type": "code",
   "execution_count": 103,
   "id": "7076a674-885c-413d-b450-29ec72a1e2f7",
   "metadata": {},
   "outputs": [
    {
     "name": "stdout",
     "output_type": "stream",
     "text": [
      "<class 'pandas.core.frame.DataFrame'>\n",
      "RangeIndex: 25349 entries, 0 to 25348\n",
      "Data columns (total 15 columns):\n",
      " #   Column         Non-Null Count  Dtype              \n",
      "---  ------         --------------  -----              \n",
      " 0   _id            25349 non-null  object             \n",
      " 1   id             25349 non-null  object             \n",
      " 2   user_id        25349 non-null  object             \n",
      " 3   user_login     25349 non-null  object             \n",
      " 4   user_name      25349 non-null  object             \n",
      " 5   game_id        25349 non-null  object             \n",
      " 6   game_name      25349 non-null  object             \n",
      " 7   type           25349 non-null  object             \n",
      " 8   title          25349 non-null  object             \n",
      " 9   viewer_count   25349 non-null  int64              \n",
      " 10  started_at     25349 non-null  datetime64[ns, UTC]\n",
      " 11  language       25349 non-null  object             \n",
      " 12  thumbnail_url  25349 non-null  object             \n",
      " 13  tag_ids        25322 non-null  object             \n",
      " 14  is_mature      25349 non-null  bool               \n",
      "dtypes: bool(1), datetime64[ns, UTC](1), int64(1), object(12)\n",
      "memory usage: 2.7+ MB\n"
     ]
    }
   ],
   "source": [
    "largedf.info()"
   ]
  },
  {
   "cell_type": "code",
   "execution_count": 111,
   "id": "0980ec55-7247-4ad1-ae59-2cb9a69b4043",
   "metadata": {},
   "outputs": [
    {
     "ename": "AttributeError",
     "evalue": "'str' object has no attribute 'dt'",
     "output_type": "error",
     "traceback": [
      "\u001b[0;31m---------------------------------------------------------------------------\u001b[0m",
      "\u001b[0;31mAttributeError\u001b[0m                            Traceback (most recent call last)",
      "\u001b[0;32m/var/folders/xl/ftndz_9j3hn5ybffb6t5q42m0000gn/T/ipykernel_41651/2595847603.py\u001b[0m in \u001b[0;36m<module>\u001b[0;34m\u001b[0m\n\u001b[0;32m----> 1\u001b[0;31m \u001b[0mlargedf\u001b[0m\u001b[0;34m.\u001b[0m\u001b[0mgroupby\u001b[0m\u001b[0;34m(\u001b[0m\u001b[0;34m[\u001b[0m\u001b[0;34m'game_name'\u001b[0m\u001b[0;34m,\u001b[0m\u001b[0;34m'started_at'\u001b[0m\u001b[0;34m.\u001b[0m\u001b[0mdt\u001b[0m\u001b[0;34m.\u001b[0m\u001b[0mhour\u001b[0m\u001b[0;34m]\u001b[0m\u001b[0;34m)\u001b[0m\u001b[0;34m[\u001b[0m\u001b[0;34m[\u001b[0m\u001b[0;34m'viewer_count'\u001b[0m\u001b[0;34m]\u001b[0m\u001b[0;34m]\u001b[0m\u001b[0;34m.\u001b[0m\u001b[0msum\u001b[0m\u001b[0;34m(\u001b[0m\u001b[0;34m)\u001b[0m\u001b[0;34m\u001b[0m\u001b[0;34m\u001b[0m\u001b[0m\n\u001b[0m",
      "\u001b[0;31mAttributeError\u001b[0m: 'str' object has no attribute 'dt'"
     ]
    }
   ],
   "source": [
    "largedf.groupby(['game_name','started_at'])[['viewer_count']].sum()"
   ]
  },
  {
   "cell_type": "code",
   "execution_count": 114,
   "id": "9ced42e7-da59-49b5-be1b-753f57aca692",
   "metadata": {},
   "outputs": [],
   "source": [
    "largedf['hour'] = largedf.started_at.dt.hour"
   ]
  },
  {
   "cell_type": "code",
   "execution_count": 115,
   "id": "d466acc5-5cac-4b9f-accf-5cb36f19bb8c",
   "metadata": {},
   "outputs": [
    {
     "data": {
      "text/html": [
       "<div>\n",
       "<style scoped>\n",
       "    .dataframe tbody tr th:only-of-type {\n",
       "        vertical-align: middle;\n",
       "    }\n",
       "\n",
       "    .dataframe tbody tr th {\n",
       "        vertical-align: top;\n",
       "    }\n",
       "\n",
       "    .dataframe thead th {\n",
       "        text-align: right;\n",
       "    }\n",
       "</style>\n",
       "<table border=\"1\" class=\"dataframe\">\n",
       "  <thead>\n",
       "    <tr style=\"text-align: right;\">\n",
       "      <th></th>\n",
       "      <th>_id</th>\n",
       "      <th>id</th>\n",
       "      <th>user_id</th>\n",
       "      <th>user_login</th>\n",
       "      <th>user_name</th>\n",
       "      <th>game_id</th>\n",
       "      <th>game_name</th>\n",
       "      <th>type</th>\n",
       "      <th>title</th>\n",
       "      <th>viewer_count</th>\n",
       "      <th>started_at</th>\n",
       "      <th>language</th>\n",
       "      <th>thumbnail_url</th>\n",
       "      <th>tag_ids</th>\n",
       "      <th>is_mature</th>\n",
       "      <th>hour</th>\n",
       "    </tr>\n",
       "  </thead>\n",
       "  <tbody>\n",
       "    <tr>\n",
       "      <th>0</th>\n",
       "      <td>60f9f87372c271762272d611</td>\n",
       "      <td>42946210749</td>\n",
       "      <td>207813352</td>\n",
       "      <td>hasanabi</td>\n",
       "      <td>HasanAbi</td>\n",
       "      <td>509658</td>\n",
       "      <td>Just Chatting</td>\n",
       "      <td>live</td>\n",
       "      <td>TW// MURDER REACTS W/ VALKYRAE !duo</td>\n",
       "      <td>43709</td>\n",
       "      <td>2021-07-22 18:08:27+00:00</td>\n",
       "      <td>en</td>\n",
       "      <td>https://static-cdn.jtvnw.net/previews-ttv/live...</td>\n",
       "      <td>[6ea6bca4-4712-4ab9-a906-e3336a9d8039, 77017b7...</td>\n",
       "      <td>False</td>\n",
       "      <td>18</td>\n",
       "    </tr>\n",
       "    <tr>\n",
       "      <th>1</th>\n",
       "      <td>60f9f87372c271762272d612</td>\n",
       "      <td>42948510365</td>\n",
       "      <td>26301881</td>\n",
       "      <td>sodapoppin</td>\n",
       "      <td>sodapoppin</td>\n",
       "      <td>509658</td>\n",
       "      <td>Just Chatting</td>\n",
       "      <td>live</td>\n",
       "      <td>Driving steering wheel/Genshin tonight | Merch...</td>\n",
       "      <td>26969</td>\n",
       "      <td>2021-07-22 21:17:04+00:00</td>\n",
       "      <td>en</td>\n",
       "      <td>https://static-cdn.jtvnw.net/previews-ttv/live...</td>\n",
       "      <td>[6ea6bca4-4712-4ab9-a906-e3336a9d8039, c1ea449...</td>\n",
       "      <td>True</td>\n",
       "      <td>21</td>\n",
       "    </tr>\n",
       "    <tr>\n",
       "      <th>2</th>\n",
       "      <td>60f9f87372c271762272d613</td>\n",
       "      <td>42719076284</td>\n",
       "      <td>137347549</td>\n",
       "      <td>locklear</td>\n",
       "      <td>Locklear</td>\n",
       "      <td>509658</td>\n",
       "      <td>Just Chatting</td>\n",
       "      <td>live</td>\n",
       "      <td>REAC NOUVEAU BATTLEFIELD 2042</td>\n",
       "      <td>26628</td>\n",
       "      <td>2021-07-22 18:13:17+00:00</td>\n",
       "      <td>fr</td>\n",
       "      <td>https://static-cdn.jtvnw.net/previews-ttv/live...</td>\n",
       "      <td>[6f655045-9989-4ef7-8f85-1edcec42d648]</td>\n",
       "      <td>False</td>\n",
       "      <td>18</td>\n",
       "    </tr>\n",
       "    <tr>\n",
       "      <th>3</th>\n",
       "      <td>60f9f87372c271762272d614</td>\n",
       "      <td>42947715197</td>\n",
       "      <td>62438432</td>\n",
       "      <td>h3h3productions</td>\n",
       "      <td>h3h3productions</td>\n",
       "      <td>509658</td>\n",
       "      <td>Just Chatting</td>\n",
       "      <td>live</td>\n",
       "      <td>H3TV | Amouranth Interview - DRAMA - David Dob...</td>\n",
       "      <td>24523</td>\n",
       "      <td>2021-07-22 20:15:16+00:00</td>\n",
       "      <td>en</td>\n",
       "      <td>https://static-cdn.jtvnw.net/previews-ttv/live...</td>\n",
       "      <td>[6ea6bca4-4712-4ab9-a906-e3336a9d8039]</td>\n",
       "      <td>False</td>\n",
       "      <td>20</td>\n",
       "    </tr>\n",
       "    <tr>\n",
       "      <th>4</th>\n",
       "      <td>60f9f87372c271762272d615</td>\n",
       "      <td>39695840747</td>\n",
       "      <td>125387632</td>\n",
       "      <td>amouranth</td>\n",
       "      <td>Amouranth</td>\n",
       "      <td>509658</td>\n",
       "      <td>Just Chatting</td>\n",
       "      <td>live</td>\n",
       "      <td>BAN APPEALS❌ !s --&gt; all my social media❌!insta...</td>\n",
       "      <td>10418</td>\n",
       "      <td>2021-07-22 18:39:13+00:00</td>\n",
       "      <td>en</td>\n",
       "      <td>https://static-cdn.jtvnw.net/previews-ttv/live...</td>\n",
       "      <td>[6ea6bca4-4712-4ab9-a906-e3336a9d8039]</td>\n",
       "      <td>False</td>\n",
       "      <td>18</td>\n",
       "    </tr>\n",
       "    <tr>\n",
       "      <th>...</th>\n",
       "      <td>...</td>\n",
       "      <td>...</td>\n",
       "      <td>...</td>\n",
       "      <td>...</td>\n",
       "      <td>...</td>\n",
       "      <td>...</td>\n",
       "      <td>...</td>\n",
       "      <td>...</td>\n",
       "      <td>...</td>\n",
       "      <td>...</td>\n",
       "      <td>...</td>\n",
       "      <td>...</td>\n",
       "      <td>...</td>\n",
       "      <td>...</td>\n",
       "      <td>...</td>\n",
       "      <td>...</td>\n",
       "    </tr>\n",
       "    <tr>\n",
       "      <th>25344</th>\n",
       "      <td>60fa14a50ce3259904e8160b</td>\n",
       "      <td>42722559532</td>\n",
       "      <td>66507380</td>\n",
       "      <td>valicvacosties</td>\n",
       "      <td>ValicVacosties</td>\n",
       "      <td>509664</td>\n",
       "      <td>Tabletop RPGs</td>\n",
       "      <td>live</td>\n",
       "      <td>Dungeons and Dragons with Valic GM'ing for the...</td>\n",
       "      <td>1</td>\n",
       "      <td>2021-07-23 00:17:31+00:00</td>\n",
       "      <td>en</td>\n",
       "      <td>https://static-cdn.jtvnw.net/previews-ttv/live...</td>\n",
       "      <td>[06ab147d-91b6-4c7f-83e4-2b337d2780d5, 6ea6bca...</td>\n",
       "      <td>True</td>\n",
       "      <td>0</td>\n",
       "    </tr>\n",
       "    <tr>\n",
       "      <th>25345</th>\n",
       "      <td>60fa14a50ce3259904e8160c</td>\n",
       "      <td>42950819181</td>\n",
       "      <td>410179402</td>\n",
       "      <td>thegodfoca</td>\n",
       "      <td>TheGodFoca</td>\n",
       "      <td>509664</td>\n",
       "      <td>Tabletop RPGs</td>\n",
       "      <td>live</td>\n",
       "      <td>Rpgzinho! Vampiro a Máscara - Aventura em LA</td>\n",
       "      <td>1</td>\n",
       "      <td>2021-07-23 00:07:05+00:00</td>\n",
       "      <td>pt</td>\n",
       "      <td>https://static-cdn.jtvnw.net/previews-ttv/live...</td>\n",
       "      <td>[39ee8140-901a-4762-bfca-8260dea1310f]</td>\n",
       "      <td>False</td>\n",
       "      <td>0</td>\n",
       "    </tr>\n",
       "    <tr>\n",
       "      <th>25346</th>\n",
       "      <td>60fa14a50ce3259904e8160d</td>\n",
       "      <td>42951417533</td>\n",
       "      <td>42545958</td>\n",
       "      <td>huyneo</td>\n",
       "      <td>Huyneo</td>\n",
       "      <td>509664</td>\n",
       "      <td>Tabletop RPGs</td>\n",
       "      <td>live</td>\n",
       "      <td>Shadowrun PowerPoint Creation - Terrible Terrible</td>\n",
       "      <td>1</td>\n",
       "      <td>2021-07-23 00:48:27+00:00</td>\n",
       "      <td>en</td>\n",
       "      <td>https://static-cdn.jtvnw.net/previews-ttv/live...</td>\n",
       "      <td>[6ea6bca4-4712-4ab9-a906-e3336a9d8039]</td>\n",
       "      <td>False</td>\n",
       "      <td>0</td>\n",
       "    </tr>\n",
       "    <tr>\n",
       "      <th>25347</th>\n",
       "      <td>60fa14a50ce3259904e8160e</td>\n",
       "      <td>42949876877</td>\n",
       "      <td>571113604</td>\n",
       "      <td>whencanweplay</td>\n",
       "      <td>WhenCanWePlay</td>\n",
       "      <td>509664</td>\n",
       "      <td>Tabletop RPGs</td>\n",
       "      <td>live</td>\n",
       "      <td>Blades in The Dark Episode 9 | WhenCanWePlay |...</td>\n",
       "      <td>1</td>\n",
       "      <td>2021-07-22 23:02:00+00:00</td>\n",
       "      <td>en</td>\n",
       "      <td>https://static-cdn.jtvnw.net/previews-ttv/live...</td>\n",
       "      <td>[6ea6bca4-4712-4ab9-a906-e3336a9d8039]</td>\n",
       "      <td>True</td>\n",
       "      <td>23</td>\n",
       "    </tr>\n",
       "    <tr>\n",
       "      <th>25348</th>\n",
       "      <td>60fa14a50ce3259904e8160f</td>\n",
       "      <td>42950350397</td>\n",
       "      <td>42990638</td>\n",
       "      <td>nobre_lebre</td>\n",
       "      <td>nobre_lebre</td>\n",
       "      <td>509664</td>\n",
       "      <td>Tabletop RPGs</td>\n",
       "      <td>live</td>\n",
       "      <td>APRENDENDO A JOGAR TORMENTA</td>\n",
       "      <td>1</td>\n",
       "      <td>2021-07-22 23:35:50+00:00</td>\n",
       "      <td>pt</td>\n",
       "      <td>https://static-cdn.jtvnw.net/previews-ttv/live...</td>\n",
       "      <td>[39ee8140-901a-4762-bfca-8260dea1310f]</td>\n",
       "      <td>False</td>\n",
       "      <td>23</td>\n",
       "    </tr>\n",
       "  </tbody>\n",
       "</table>\n",
       "<p>25349 rows × 16 columns</p>\n",
       "</div>"
      ],
      "text/plain": [
       "                            _id           id    user_id       user_login  \\\n",
       "0      60f9f87372c271762272d611  42946210749  207813352         hasanabi   \n",
       "1      60f9f87372c271762272d612  42948510365   26301881       sodapoppin   \n",
       "2      60f9f87372c271762272d613  42719076284  137347549         locklear   \n",
       "3      60f9f87372c271762272d614  42947715197   62438432  h3h3productions   \n",
       "4      60f9f87372c271762272d615  39695840747  125387632        amouranth   \n",
       "...                         ...          ...        ...              ...   \n",
       "25344  60fa14a50ce3259904e8160b  42722559532   66507380   valicvacosties   \n",
       "25345  60fa14a50ce3259904e8160c  42950819181  410179402       thegodfoca   \n",
       "25346  60fa14a50ce3259904e8160d  42951417533   42545958           huyneo   \n",
       "25347  60fa14a50ce3259904e8160e  42949876877  571113604    whencanweplay   \n",
       "25348  60fa14a50ce3259904e8160f  42950350397   42990638      nobre_lebre   \n",
       "\n",
       "             user_name game_id      game_name  type  \\\n",
       "0             HasanAbi  509658  Just Chatting  live   \n",
       "1           sodapoppin  509658  Just Chatting  live   \n",
       "2             Locklear  509658  Just Chatting  live   \n",
       "3      h3h3productions  509658  Just Chatting  live   \n",
       "4            Amouranth  509658  Just Chatting  live   \n",
       "...                ...     ...            ...   ...   \n",
       "25344   ValicVacosties  509664  Tabletop RPGs  live   \n",
       "25345       TheGodFoca  509664  Tabletop RPGs  live   \n",
       "25346           Huyneo  509664  Tabletop RPGs  live   \n",
       "25347    WhenCanWePlay  509664  Tabletop RPGs  live   \n",
       "25348      nobre_lebre  509664  Tabletop RPGs  live   \n",
       "\n",
       "                                                   title  viewer_count  \\\n",
       "0                    TW// MURDER REACTS W/ VALKYRAE !duo         43709   \n",
       "1      Driving steering wheel/Genshin tonight | Merch...         26969   \n",
       "2                          REAC NOUVEAU BATTLEFIELD 2042         26628   \n",
       "3      H3TV | Amouranth Interview - DRAMA - David Dob...         24523   \n",
       "4      BAN APPEALS❌ !s --> all my social media❌!insta...         10418   \n",
       "...                                                  ...           ...   \n",
       "25344  Dungeons and Dragons with Valic GM'ing for the...             1   \n",
       "25345       Rpgzinho! Vampiro a Máscara - Aventura em LA             1   \n",
       "25346  Shadowrun PowerPoint Creation - Terrible Terrible             1   \n",
       "25347  Blades in The Dark Episode 9 | WhenCanWePlay |...             1   \n",
       "25348                        APRENDENDO A JOGAR TORMENTA             1   \n",
       "\n",
       "                     started_at language  \\\n",
       "0     2021-07-22 18:08:27+00:00       en   \n",
       "1     2021-07-22 21:17:04+00:00       en   \n",
       "2     2021-07-22 18:13:17+00:00       fr   \n",
       "3     2021-07-22 20:15:16+00:00       en   \n",
       "4     2021-07-22 18:39:13+00:00       en   \n",
       "...                         ...      ...   \n",
       "25344 2021-07-23 00:17:31+00:00       en   \n",
       "25345 2021-07-23 00:07:05+00:00       pt   \n",
       "25346 2021-07-23 00:48:27+00:00       en   \n",
       "25347 2021-07-22 23:02:00+00:00       en   \n",
       "25348 2021-07-22 23:35:50+00:00       pt   \n",
       "\n",
       "                                           thumbnail_url  \\\n",
       "0      https://static-cdn.jtvnw.net/previews-ttv/live...   \n",
       "1      https://static-cdn.jtvnw.net/previews-ttv/live...   \n",
       "2      https://static-cdn.jtvnw.net/previews-ttv/live...   \n",
       "3      https://static-cdn.jtvnw.net/previews-ttv/live...   \n",
       "4      https://static-cdn.jtvnw.net/previews-ttv/live...   \n",
       "...                                                  ...   \n",
       "25344  https://static-cdn.jtvnw.net/previews-ttv/live...   \n",
       "25345  https://static-cdn.jtvnw.net/previews-ttv/live...   \n",
       "25346  https://static-cdn.jtvnw.net/previews-ttv/live...   \n",
       "25347  https://static-cdn.jtvnw.net/previews-ttv/live...   \n",
       "25348  https://static-cdn.jtvnw.net/previews-ttv/live...   \n",
       "\n",
       "                                                 tag_ids  is_mature  hour  \n",
       "0      [6ea6bca4-4712-4ab9-a906-e3336a9d8039, 77017b7...      False    18  \n",
       "1      [6ea6bca4-4712-4ab9-a906-e3336a9d8039, c1ea449...       True    21  \n",
       "2                 [6f655045-9989-4ef7-8f85-1edcec42d648]      False    18  \n",
       "3                 [6ea6bca4-4712-4ab9-a906-e3336a9d8039]      False    20  \n",
       "4                 [6ea6bca4-4712-4ab9-a906-e3336a9d8039]      False    18  \n",
       "...                                                  ...        ...   ...  \n",
       "25344  [06ab147d-91b6-4c7f-83e4-2b337d2780d5, 6ea6bca...       True     0  \n",
       "25345             [39ee8140-901a-4762-bfca-8260dea1310f]      False     0  \n",
       "25346             [6ea6bca4-4712-4ab9-a906-e3336a9d8039]      False     0  \n",
       "25347             [6ea6bca4-4712-4ab9-a906-e3336a9d8039]       True    23  \n",
       "25348             [39ee8140-901a-4762-bfca-8260dea1310f]      False    23  \n",
       "\n",
       "[25349 rows x 16 columns]"
      ]
     },
     "execution_count": 115,
     "metadata": {},
     "output_type": "execute_result"
    }
   ],
   "source": [
    "largedf"
   ]
  },
  {
   "cell_type": "code",
   "execution_count": 120,
   "id": "5d3907f6-edc3-4fef-ade6-3c2fa7713ef8",
   "metadata": {},
   "outputs": [
    {
     "data": {
      "text/html": [
       "<div>\n",
       "<style scoped>\n",
       "    .dataframe tbody tr th:only-of-type {\n",
       "        vertical-align: middle;\n",
       "    }\n",
       "\n",
       "    .dataframe tbody tr th {\n",
       "        vertical-align: top;\n",
       "    }\n",
       "\n",
       "    .dataframe thead th {\n",
       "        text-align: right;\n",
       "    }\n",
       "</style>\n",
       "<table border=\"1\" class=\"dataframe\">\n",
       "  <thead>\n",
       "    <tr style=\"text-align: right;\">\n",
       "      <th></th>\n",
       "      <th></th>\n",
       "      <th>viewer_count</th>\n",
       "    </tr>\n",
       "    <tr>\n",
       "      <th>game_name</th>\n",
       "      <th>hour</th>\n",
       "      <th></th>\n",
       "    </tr>\n",
       "  </thead>\n",
       "  <tbody>\n",
       "    <tr>\n",
       "      <th rowspan=\"4\" valign=\"top\">A Township Tale</th>\n",
       "      <th>15</th>\n",
       "      <td>3</td>\n",
       "    </tr>\n",
       "    <tr>\n",
       "      <th>18</th>\n",
       "      <td>5864</td>\n",
       "    </tr>\n",
       "    <tr>\n",
       "      <th>21</th>\n",
       "      <td>128</td>\n",
       "    </tr>\n",
       "    <tr>\n",
       "      <th>23</th>\n",
       "      <td>9</td>\n",
       "    </tr>\n",
       "    <tr>\n",
       "      <th>ASMR</th>\n",
       "      <th>0</th>\n",
       "      <td>451</td>\n",
       "    </tr>\n",
       "    <tr>\n",
       "      <th>...</th>\n",
       "      <th>...</th>\n",
       "      <td>...</td>\n",
       "    </tr>\n",
       "    <tr>\n",
       "      <th rowspan=\"5\" valign=\"top\">osu!</th>\n",
       "      <th>19</th>\n",
       "      <td>3460</td>\n",
       "    </tr>\n",
       "    <tr>\n",
       "      <th>20</th>\n",
       "      <td>282</td>\n",
       "    </tr>\n",
       "    <tr>\n",
       "      <th>21</th>\n",
       "      <td>1535</td>\n",
       "    </tr>\n",
       "    <tr>\n",
       "      <th>22</th>\n",
       "      <td>687</td>\n",
       "    </tr>\n",
       "    <tr>\n",
       "      <th>23</th>\n",
       "      <td>397</td>\n",
       "    </tr>\n",
       "  </tbody>\n",
       "</table>\n",
       "<p>1387 rows × 1 columns</p>\n",
       "</div>"
      ],
      "text/plain": [
       "                      viewer_count\n",
       "game_name       hour              \n",
       "A Township Tale 15               3\n",
       "                18            5864\n",
       "                21             128\n",
       "                23               9\n",
       "ASMR            0              451\n",
       "...                            ...\n",
       "osu!            19            3460\n",
       "                20             282\n",
       "                21            1535\n",
       "                22             687\n",
       "                23             397\n",
       "\n",
       "[1387 rows x 1 columns]"
      ]
     },
     "execution_count": 120,
     "metadata": {},
     "output_type": "execute_result"
    }
   ],
   "source": [
    "largedf.groupby(['game_name','hour'])[['viewer_count']].sum()"
   ]
  },
  {
   "cell_type": "code",
   "execution_count": 123,
   "id": "9faaf124-77e5-4424-b8cb-700a998fbe92",
   "metadata": {},
   "outputs": [],
   "source": [
    "fortdf = largedf[largedf.game_name == 'Fortnite']"
   ]
  },
  {
   "cell_type": "code",
   "execution_count": 125,
   "id": "540e292c-68ef-46fe-ad3b-dd7d045c7d51",
   "metadata": {},
   "outputs": [
    {
     "data": {
      "text/html": [
       "<div>\n",
       "<style scoped>\n",
       "    .dataframe tbody tr th:only-of-type {\n",
       "        vertical-align: middle;\n",
       "    }\n",
       "\n",
       "    .dataframe tbody tr th {\n",
       "        vertical-align: top;\n",
       "    }\n",
       "\n",
       "    .dataframe thead th {\n",
       "        text-align: right;\n",
       "    }\n",
       "</style>\n",
       "<table border=\"1\" class=\"dataframe\">\n",
       "  <thead>\n",
       "    <tr style=\"text-align: right;\">\n",
       "      <th></th>\n",
       "      <th>viewer_count</th>\n",
       "    </tr>\n",
       "    <tr>\n",
       "      <th>hour</th>\n",
       "      <th></th>\n",
       "    </tr>\n",
       "  </thead>\n",
       "  <tbody>\n",
       "    <tr>\n",
       "      <th>0</th>\n",
       "      <td>1797</td>\n",
       "    </tr>\n",
       "    <tr>\n",
       "      <th>9</th>\n",
       "      <td>336</td>\n",
       "    </tr>\n",
       "    <tr>\n",
       "      <th>11</th>\n",
       "      <td>345</td>\n",
       "    </tr>\n",
       "    <tr>\n",
       "      <th>14</th>\n",
       "      <td>1008</td>\n",
       "    </tr>\n",
       "    <tr>\n",
       "      <th>15</th>\n",
       "      <td>432</td>\n",
       "    </tr>\n",
       "    <tr>\n",
       "      <th>16</th>\n",
       "      <td>2323</td>\n",
       "    </tr>\n",
       "    <tr>\n",
       "      <th>17</th>\n",
       "      <td>3176</td>\n",
       "    </tr>\n",
       "    <tr>\n",
       "      <th>18</th>\n",
       "      <td>11906</td>\n",
       "    </tr>\n",
       "    <tr>\n",
       "      <th>19</th>\n",
       "      <td>27292</td>\n",
       "    </tr>\n",
       "    <tr>\n",
       "      <th>20</th>\n",
       "      <td>62955</td>\n",
       "    </tr>\n",
       "    <tr>\n",
       "      <th>21</th>\n",
       "      <td>105526</td>\n",
       "    </tr>\n",
       "    <tr>\n",
       "      <th>22</th>\n",
       "      <td>33559</td>\n",
       "    </tr>\n",
       "    <tr>\n",
       "      <th>23</th>\n",
       "      <td>26978</td>\n",
       "    </tr>\n",
       "  </tbody>\n",
       "</table>\n",
       "</div>"
      ],
      "text/plain": [
       "      viewer_count\n",
       "hour              \n",
       "0             1797\n",
       "9              336\n",
       "11             345\n",
       "14            1008\n",
       "15             432\n",
       "16            2323\n",
       "17            3176\n",
       "18           11906\n",
       "19           27292\n",
       "20           62955\n",
       "21          105526\n",
       "22           33559\n",
       "23           26978"
      ]
     },
     "execution_count": 125,
     "metadata": {},
     "output_type": "execute_result"
    }
   ],
   "source": [
    "fortdf.groupby(['hour'])[['viewer_count']].sum()"
   ]
  },
  {
   "cell_type": "markdown",
   "id": "b7626d47-42e7-4f5c-bf06-d657e1ec5540",
   "metadata": {},
   "source": [
    "# Switching to Atlas"
   ]
  },
  {
   "cell_type": "code",
   "execution_count": 4,
   "id": "49602be9-a277-470b-b22d-088ca3931866",
   "metadata": {},
   "outputs": [],
   "source": [
    "client = MongoClient(config.server)"
   ]
  },
  {
   "cell_type": "code",
   "execution_count": 18,
   "id": "9d72be71-f354-481d-bfa9-e857875bcb92",
   "metadata": {},
   "outputs": [
    {
     "name": "stdout",
     "output_type": "stream",
     "text": [
      "Requirement already satisfied: pymongo[svr] in /Users/michaelharnett/opt/anaconda3/envs/metis/lib/python3.8/site-packages (3.11.4)\n",
      "\u001b[33mWARNING: pymongo 3.11.4 does not provide the extra 'svr'\u001b[0m\n",
      "\u001b[33mWARNING: You are using pip version 21.2.1; however, version 21.2.3 is available.\n",
      "You should consider upgrading via the '/Users/michaelharnett/opt/anaconda3/envs/metis/bin/python3.8 -m pip install --upgrade pip' command.\u001b[0m\n"
     ]
    }
   ],
   "source": [
    "!pip install 'pymongo[svr]'"
   ]
  },
  {
   "cell_type": "code",
   "execution_count": 16,
   "id": "2a9490de-df73-462d-8884-f74115c88f70",
   "metadata": {},
   "outputs": [
    {
     "name": "stdout",
     "output_type": "stream",
     "text": [
      "Collecting dnspython\n",
      "  Downloading dnspython-2.1.0-py3-none-any.whl (241 kB)\n",
      "\u001b[K     |████████████████████████████████| 241 kB 3.4 MB/s eta 0:00:01\n",
      "\u001b[?25hInstalling collected packages: dnspython\n",
      "Successfully installed dnspython-2.1.0\n",
      "\u001b[33mWARNING: You are using pip version 21.2.1; however, version 21.2.3 is available.\n",
      "You should consider upgrading via the '/Users/michaelharnett/opt/anaconda3/envs/metis/bin/python -m pip install --upgrade pip' command.\u001b[0m\n",
      "Note: you may need to restart the kernel to use updated packages.\n"
     ]
    }
   ],
   "source": [
    "pip install dnspython"
   ]
  },
  {
   "cell_type": "code",
   "execution_count": 5,
   "id": "8e8c2ec3-6e6a-4535-8789-faf748d500b7",
   "metadata": {},
   "outputs": [
    {
     "ename": "TypeError",
     "evalue": "'Database' object is not callable. If you meant to call the 'list_collection_names' method on a 'MongoClient' object it is failing because no such method exists.",
     "output_type": "error",
     "traceback": [
      "\u001b[0;31m---------------------------------------------------------------------------\u001b[0m",
      "\u001b[0;31mTypeError\u001b[0m                                 Traceback (most recent call last)",
      "\u001b[0;32m/var/folders/xl/ftndz_9j3hn5ybffb6t5q42m0000gn/T/ipykernel_25948/1523040445.py\u001b[0m in \u001b[0;36m<module>\u001b[0;34m\u001b[0m\n\u001b[0;32m----> 1\u001b[0;31m \u001b[0mclient\u001b[0m\u001b[0;34m.\u001b[0m\u001b[0mlist_collection_names\u001b[0m\u001b[0;34m(\u001b[0m\u001b[0;34m)\u001b[0m\u001b[0;34m\u001b[0m\u001b[0;34m\u001b[0m\u001b[0m\n\u001b[0m",
      "\u001b[0;32m~/opt/anaconda3/envs/metis/lib/python3.8/site-packages/pymongo/database.py\u001b[0m in \u001b[0;36m__call__\u001b[0;34m(self, *args, **kwargs)\u001b[0m\n\u001b[1;32m   1564\u001b[0m         \"\"\"This is only here so that some API misusages are easier to debug.\n\u001b[1;32m   1565\u001b[0m         \"\"\"\n\u001b[0;32m-> 1566\u001b[0;31m         raise TypeError(\"'Database' object is not callable. If you meant to \"\n\u001b[0m\u001b[1;32m   1567\u001b[0m                         \u001b[0;34m\"call the '%s' method on a '%s' object it is \"\u001b[0m\u001b[0;34m\u001b[0m\u001b[0;34m\u001b[0m\u001b[0m\n\u001b[1;32m   1568\u001b[0m                         \"failing because no such method exists.\" % (\n",
      "\u001b[0;31mTypeError\u001b[0m: 'Database' object is not callable. If you meant to call the 'list_collection_names' method on a 'MongoClient' object it is failing because no such method exists."
     ]
    }
   ],
   "source": [
    "client.list_collection_names()"
   ]
  },
  {
   "cell_type": "code",
   "execution_count": 6,
   "id": "0af2f16c-9d1f-4721-887b-48d0b3aa12ed",
   "metadata": {},
   "outputs": [
    {
     "data": {
      "text/plain": [
       "MongoClient(host=['cluster0-shard-00-01.hd11y.mongodb.net:27017', 'cluster0-shard-00-00.hd11y.mongodb.net:27017', 'cluster0-shard-00-02.hd11y.mongodb.net:27017'], document_class=dict, tz_aware=False, connect=True, retrywrites=True, w='majority', authsource='admin', replicaset='atlas-c15kp3-shard-0', ssl=True)"
      ]
     },
     "execution_count": 6,
     "metadata": {},
     "output_type": "execute_result"
    }
   ],
   "source": [
    "client"
   ]
  },
  {
   "cell_type": "code",
   "execution_count": 17,
   "id": "2e2d8815-a3f9-44f5-8478-ff3d97601317",
   "metadata": {},
   "outputs": [],
   "source": [
    "db = client.twitch"
   ]
  },
  {
   "cell_type": "code",
   "execution_count": 8,
   "id": "22bd6962-b58e-4ec1-a44a-efabbff91913",
   "metadata": {},
   "outputs": [
    {
     "data": {
      "text/plain": [
       "[]"
      ]
     },
     "execution_count": 8,
     "metadata": {},
     "output_type": "execute_result"
    }
   ],
   "source": [
    "db.list_collection_names()"
   ]
  },
  {
   "cell_type": "code",
   "execution_count": 11,
   "id": "71b804ef-3e39-4eec-ad4f-60b04923a6c2",
   "metadata": {},
   "outputs": [
    {
     "data": {
      "text/plain": [
       "<Response [200]>"
      ]
     },
     "execution_count": 11,
     "metadata": {},
     "output_type": "execute_result"
    }
   ],
   "source": [
    "top_streams_pull = requests.get('https://api.twitch.tv/helix/streams?first=100', headers=config.headers)\n",
    "top_streams_pull"
   ]
  },
  {
   "cell_type": "code",
   "execution_count": 12,
   "id": "37b7858e-e4a7-412f-b917-dbbc3be354e1",
   "metadata": {},
   "outputs": [
    {
     "data": {
      "text/plain": [
       "100"
      ]
     },
     "execution_count": 12,
     "metadata": {},
     "output_type": "execute_result"
    }
   ],
   "source": [
    "text = top_streams_pull.json()['data']\n",
    "len(text)"
   ]
  },
  {
   "cell_type": "code",
   "execution_count": 18,
   "id": "12e14cf7-b45c-4ef2-a091-973333cc598d",
   "metadata": {},
   "outputs": [],
   "source": [
    "top_streams = db.top_streams"
   ]
  },
  {
   "cell_type": "code",
   "execution_count": 19,
   "id": "061d0b5c-aa8c-4877-88bc-216e3c565b82",
   "metadata": {},
   "outputs": [
    {
     "data": {
      "text/plain": [
       "<pymongo.results.InsertManyResult at 0x7fb88a21a640>"
      ]
     },
     "execution_count": 19,
     "metadata": {},
     "output_type": "execute_result"
    }
   ],
   "source": [
    "db.top_streams.insert_many(text)"
   ]
  },
  {
   "cell_type": "code",
   "execution_count": 20,
   "id": "7f7e5eeb-3e0d-459b-aeb9-385153787269",
   "metadata": {},
   "outputs": [
    {
     "data": {
      "text/plain": [
       "['top_streams']"
      ]
     },
     "execution_count": 20,
     "metadata": {},
     "output_type": "execute_result"
    }
   ],
   "source": [
    "db.list_collection_names()"
   ]
  },
  {
   "cell_type": "code",
   "execution_count": 21,
   "id": "51e98f9c-8c39-4714-9009-b604a79a5629",
   "metadata": {},
   "outputs": [],
   "source": [
    "top_games = db.top_games\n",
    "\n",
    "top_games_pull = (requests.get('https://api.twitch.tv/helix/games/top?first=100', headers=config.headers)).json()['data']\n",
    "\n",
    "id_list = []\n",
    "for games in top_games_pull:\n",
    "    id_list.append(games['id'])\n",
    "    \n",
    "for games in id_list:\n",
    "    text = (requests.get('https://api.twitch.tv/helix/streams?first=100&game_id='+games, headers=config.headers)).json()['data']\n",
    "    top_games.insert_many(text)"
   ]
  },
  {
   "cell_type": "code",
   "execution_count": 24,
   "id": "485030ea-d042-4357-8122-c0f9e5bc8073",
   "metadata": {},
   "outputs": [
    {
     "ename": "AttributeError",
     "evalue": "module 'config' has no attribute 'server'",
     "output_type": "error",
     "traceback": [
      "\u001b[0;31m---------------------------------------------------------------------------\u001b[0m",
      "\u001b[0;31mAttributeError\u001b[0m                            Traceback (most recent call last)",
      "\u001b[0;32m/var/folders/xl/ftndz_9j3hn5ybffb6t5q42m0000gn/T/ipykernel_25948/16966138.py\u001b[0m in \u001b[0;36m<module>\u001b[0;34m\u001b[0m\n\u001b[0;32m----> 1\u001b[0;31m \u001b[0mclient2\u001b[0m \u001b[0;34m=\u001b[0m \u001b[0mMongoClient\u001b[0m\u001b[0;34m(\u001b[0m\u001b[0mconfig\u001b[0m\u001b[0;34m.\u001b[0m\u001b[0mserver\u001b[0m\u001b[0;34m)\u001b[0m\u001b[0;34m\u001b[0m\u001b[0;34m\u001b[0m\u001b[0m\n\u001b[0m",
      "\u001b[0;31mAttributeError\u001b[0m: module 'config' has no attribute 'server'"
     ]
    }
   ],
   "source": [
    "client2 = MongoClient(config.server)"
   ]
  },
  {
   "cell_type": "code",
   "execution_count": 35,
   "id": "bc67dc94-9cb2-46e8-864a-ce9d11957d5d",
   "metadata": {},
   "outputs": [
    {
     "data": {
      "text/plain": [
       "'tn9oskedgjzumaz7seved6dl8z642j'"
      ]
     },
     "execution_count": 35,
     "metadata": {},
     "output_type": "execute_result"
    }
   ],
   "source": [
    "config.client_id"
   ]
  },
  {
   "cell_type": "code",
   "execution_count": 36,
   "id": "89a6593a-1f7f-4deb-b246-caae07711c24",
   "metadata": {},
   "outputs": [
    {
     "ename": "AttributeError",
     "evalue": "module 'config' has no attribute 'serv_name'",
     "output_type": "error",
     "traceback": [
      "\u001b[0;31m---------------------------------------------------------------------------\u001b[0m",
      "\u001b[0;31mAttributeError\u001b[0m                            Traceback (most recent call last)",
      "\u001b[0;32m/var/folders/xl/ftndz_9j3hn5ybffb6t5q42m0000gn/T/ipykernel_25948/3368563300.py\u001b[0m in \u001b[0;36m<module>\u001b[0;34m\u001b[0m\n\u001b[0;32m----> 1\u001b[0;31m \u001b[0mconfig\u001b[0m\u001b[0;34m.\u001b[0m\u001b[0mserv_name\u001b[0m\u001b[0;34m\u001b[0m\u001b[0;34m\u001b[0m\u001b[0m\n\u001b[0m",
      "\u001b[0;31mAttributeError\u001b[0m: module 'config' has no attribute 'serv_name'"
     ]
    }
   ],
   "source": [
    "config.serv_name"
   ]
  },
  {
   "cell_type": "code",
   "execution_count": null,
   "id": "e1ebdd5e-e185-4fcb-967e-02f96f0e13db",
   "metadata": {},
   "outputs": [],
   "source": []
  }
 ],
 "metadata": {
  "kernelspec": {
   "display_name": "Python [conda env:metis] *",
   "language": "python",
   "name": "conda-env-metis-py"
  },
  "language_info": {
   "codemirror_mode": {
    "name": "ipython",
    "version": 3
   },
   "file_extension": ".py",
   "mimetype": "text/x-python",
   "name": "python",
   "nbconvert_exporter": "python",
   "pygments_lexer": "ipython3",
   "version": "3.8.10"
  }
 },
 "nbformat": 4,
 "nbformat_minor": 5
}
