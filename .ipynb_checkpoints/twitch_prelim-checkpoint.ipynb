{
 "cells": [
  {
   "cell_type": "code",
   "execution_count": 1,
   "id": "a1e87929-7320-411a-b403-0bb40f0a7a64",
   "metadata": {},
   "outputs": [],
   "source": [
    "import numpy as np\n",
    "import pandas as pd\n",
    "import requests"
   ]
  },
  {
   "cell_type": "code",
   "execution_count": 2,
   "id": "93ccd2e5-1dc1-4e0d-8087-21bf91a4ed18",
   "metadata": {},
   "outputs": [],
   "source": [
    "response = requests.get('https://api.twitch.tv/kraken/streams/')"
   ]
  },
  {
   "cell_type": "code",
   "execution_count": 3,
   "id": "1fbac49c-5883-43c8-83be-14ab33df79fa",
   "metadata": {},
   "outputs": [
    {
     "data": {
      "text/plain": [
       "<Response [400]>"
      ]
     },
     "execution_count": 3,
     "metadata": {},
     "output_type": "execute_result"
    }
   ],
   "source": [
    "response"
   ]
  },
  {
   "cell_type": "code",
   "execution_count": 4,
   "id": "c9a4ee2e-ad77-423f-adea-1e1f1e27baf9",
   "metadata": {},
   "outputs": [],
   "source": [
    "text = response.json()"
   ]
  },
  {
   "cell_type": "code",
   "execution_count": 5,
   "id": "64c35cf6-d811-49f0-9e25-bbc6adea3f0a",
   "metadata": {},
   "outputs": [
    {
     "data": {
      "text/plain": [
       "{'error': 'Bad Request', 'status': 400, 'message': 'No client id specified'}"
      ]
     },
     "execution_count": 5,
     "metadata": {},
     "output_type": "execute_result"
    }
   ],
   "source": [
    "text"
   ]
  },
  {
   "cell_type": "code",
   "execution_count": null,
   "id": "69759db0-a3d0-49c0-8a7f-23ef8ac2df34",
   "metadata": {},
   "outputs": [],
   "source": []
  }
 ],
 "metadata": {
  "kernelspec": {
   "display_name": "Python [conda env:metis] *",
   "language": "python",
   "name": "conda-env-metis-py"
  },
  "language_info": {
   "codemirror_mode": {
    "name": "ipython",
    "version": 3
   },
   "file_extension": ".py",
   "mimetype": "text/x-python",
   "name": "python",
   "nbconvert_exporter": "python",
   "pygments_lexer": "ipython3",
   "version": "3.8.10"
  }
 },
 "nbformat": 4,
 "nbformat_minor": 5
}
